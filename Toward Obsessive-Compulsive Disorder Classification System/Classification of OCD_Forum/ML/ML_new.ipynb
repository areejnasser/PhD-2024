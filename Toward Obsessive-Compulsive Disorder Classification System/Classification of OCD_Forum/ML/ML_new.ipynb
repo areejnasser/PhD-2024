{
  "cells": [
    {
      "cell_type": "code",
      "source": [
        "######################################################################################################\n",
        "################# This is ML experiment  ##############################################\n",
        "################# the training, testing are done for all BoW, tf-idf, randomforst ####################\n",
        "######################################################################################################"
      ],
      "metadata": {
        "id": "-sxaesCTLMAj"
      },
      "execution_count": null,
      "outputs": []
    },
    {
      "cell_type": "markdown",
      "metadata": {
        "id": "9pMByBLx8nHR"
      },
      "source": [
        "## Import dependancies"
      ]
    },
    {
      "cell_type": "code",
      "execution_count": null,
      "metadata": {
        "colab": {
          "base_uri": "https://localhost:8080/"
        },
        "id": "H6VaX2I8F2bx",
        "outputId": "1032b479-8648-4524-970c-65713906b379"
      },
      "outputs": [
        {
          "output_type": "stream",
          "name": "stdout",
          "text": [
            "Collecting contractions\n",
            "  Downloading contractions-0.1.73-py2.py3-none-any.whl (8.7 kB)\n",
            "Collecting textsearch>=0.0.21 (from contractions)\n",
            "  Downloading textsearch-0.0.24-py2.py3-none-any.whl (7.6 kB)\n",
            "Collecting anyascii (from textsearch>=0.0.21->contractions)\n",
            "  Downloading anyascii-0.3.2-py3-none-any.whl (289 kB)\n",
            "\u001b[2K     \u001b[90m━━━━━━━━━━━━━━━━━━━━━━━━━━━━━━━━━━━━━━━━\u001b[0m \u001b[32m289.9/289.9 kB\u001b[0m \u001b[31m7.2 MB/s\u001b[0m eta \u001b[36m0:00:00\u001b[0m\n",
            "\u001b[?25hCollecting pyahocorasick (from textsearch>=0.0.21->contractions)\n",
            "  Downloading pyahocorasick-2.1.0-cp310-cp310-manylinux_2_5_x86_64.manylinux1_x86_64.manylinux_2_12_x86_64.manylinux2010_x86_64.whl (110 kB)\n",
            "\u001b[2K     \u001b[90m━━━━━━━━━━━━━━━━━━━━━━━━━━━━━━━━━━━━━━━━\u001b[0m \u001b[32m110.7/110.7 kB\u001b[0m \u001b[31m14.1 MB/s\u001b[0m eta \u001b[36m0:00:00\u001b[0m\n",
            "\u001b[?25hInstalling collected packages: pyahocorasick, anyascii, textsearch, contractions\n",
            "Successfully installed anyascii-0.3.2 contractions-0.1.73 pyahocorasick-2.1.0 textsearch-0.0.24\n"
          ]
        }
      ],
      "source": [
        "!pip install contractions"
      ]
    },
    {
      "cell_type": "code",
      "execution_count": null,
      "metadata": {
        "colab": {
          "base_uri": "https://localhost:8080/"
        },
        "id": "6RLJvJ0wGuEX",
        "outputId": "cfdac176-7ca9-4a86-f869-5eb4fda080e4"
      },
      "outputs": [
        {
          "output_type": "stream",
          "name": "stderr",
          "text": [
            "[nltk_data] Downloading package stopwords to /root/nltk_data...\n",
            "[nltk_data]   Unzipping corpora/stopwords.zip.\n",
            "[nltk_data] Downloading package wordnet to /root/nltk_data...\n"
          ]
        },
        {
          "output_type": "execute_result",
          "data": {
            "text/plain": [
              "True"
            ]
          },
          "metadata": {},
          "execution_count": 2
        }
      ],
      "source": [
        "import nltk\n",
        "nltk.download('stopwords')\n",
        "nltk.download('wordnet')"
      ]
    },
    {
      "cell_type": "code",
      "execution_count": null,
      "metadata": {
        "colab": {
          "base_uri": "https://localhost:8080/"
        },
        "id": "kgJNbX4870OG",
        "outputId": "c698c1d0-9dcd-4212-cee3-b43785350ca9"
      },
      "outputs": [
        {
          "output_type": "stream",
          "name": "stderr",
          "text": [
            "[nltk_data] Downloading package punkt to /root/nltk_data...\n",
            "[nltk_data]   Unzipping tokenizers/punkt.zip.\n"
          ]
        }
      ],
      "source": [
        "#for import the data\n",
        "import pandas as pd\n",
        "import numpy as np\n",
        "\n",
        "# for the visualisation\n",
        "import matplotlib.pyplot as plt\n",
        "import seaborn as sns\n",
        "\n",
        "#for the text pre-processing (text cleaning)\n",
        "import nltk\n",
        "nltk.download('punkt')\n",
        "import re #regular expression\n",
        "import string\n",
        "from nltk.tokenize import word_tokenize # word tokenization\n",
        "from nltk.stem import PorterStemmer # word stemming\n",
        "\n",
        "#for feature extraction ( vectorazation)\n",
        "from sklearn.feature_extraction.text import CountVectorizer\n",
        "\n",
        "#for split the data into train and test\n",
        "from sklearn.model_selection import train_test_split\n",
        "\n",
        "#for the model training\n",
        "from sklearn.naive_bayes import MultinomialNB\n",
        "from sklearn.ensemble import RandomForestClassifier\n",
        "from sklearn.svm import SVC\n",
        "\n",
        "#for the model evaluation\n",
        "from sklearn.metrics import multilabel_confusion_matrix,classification_report\n",
        "\n",
        "\n",
        "from nltk.corpus import stopwords\n",
        "from wordcloud import WordCloud\n",
        "import contractions\n",
        "from nltk.tokenize import word_tokenize\n",
        "from nltk.stem import WordNetLemmatizer"
      ]
    },
    {
      "cell_type": "code",
      "execution_count": null,
      "metadata": {
        "id": "GcmmNC7Q70Qb"
      },
      "outputs": [],
      "source": [
        "pd.set_option('display.max_rows', None)\n",
        "pd.set_option('display.max_columns', None)\n",
        "pd.set_option('display.width', None)\n",
        "pd.set_option('display.max_colwidth', None)"
      ]
    },
    {
      "cell_type": "markdown",
      "metadata": {
        "id": "0Ijdo8rf8rD0"
      },
      "source": [
        "## Import and preprocess dataset"
      ]
    },
    {
      "cell_type": "code",
      "source": [
        "from google.colab import drive\n",
        "drive.mount('/content/drive')"
      ],
      "metadata": {
        "colab": {
          "base_uri": "https://localhost:8080/"
        },
        "id": "86Zc9ptz09hy",
        "outputId": "90300c62-c291-421c-d2cc-080c1c65f503"
      },
      "execution_count": null,
      "outputs": [
        {
          "output_type": "stream",
          "name": "stdout",
          "text": [
            "Mounted at /content/drive\n"
          ]
        }
      ]
    },
    {
      "cell_type": "code",
      "source": [
        "df = pd.read_csv(\"/content/drive/MyDrive/OCD/dataset/posts_with_ontology_labe_and_negative.csv\")"
      ],
      "metadata": {
        "id": "tp7rBF5001l5"
      },
      "execution_count": null,
      "outputs": []
    },
    {
      "cell_type": "code",
      "execution_count": null,
      "metadata": {
        "id": "gANJ2luC3Kpw"
      },
      "outputs": [],
      "source": [
        "#Data with ontology and manual label\n",
        "df_man = pd.read_csv('/content/drive/MyDrive/OCD/dataset/ontology_labeled_data_all_after_Embedding.csv')"
      ]
    },
    {
      "cell_type": "code",
      "execution_count": null,
      "metadata": {
        "colab": {
          "base_uri": "https://localhost:8080/"
        },
        "id": "eIjmzsFe70Vj",
        "outputId": "1368d816-a652-435d-ed5f-b6366335cd20"
      },
      "outputs": [
        {
          "output_type": "execute_result",
          "data": {
            "text/plain": [
              "(9497, 5)"
            ]
          },
          "metadata": {},
          "execution_count": 10
        }
      ],
      "source": [
        "df.shape"
      ]
    },
    {
      "cell_type": "code",
      "execution_count": null,
      "metadata": {
        "id": "G0G5d74y4Agp",
        "colab": {
          "base_uri": "https://localhost:8080/",
          "height": 1000
        },
        "outputId": "46ab258a-1a00-418b-e4c7-5eb0b90a76d3"
      },
      "outputs": [
        {
          "output_type": "execute_result",
          "data": {
            "text/plain": [
              "                                                                                                                                                                                                                                                                                                                                                                                                                                                                                                                                                                                                                                                                                                                                                                                                                                                                                                                                                                                                                                                                                                                                                                                                                                                                                                                                                                                                                                                                                                                                                                                                                                                                                                                                                                                                                                                                                                                                                                                                                                                                                                                                                                                                                                                                                                                                                                                                                                                                                                                                                                                                                                                                                                                                                                                                                                                                                                                                                                                                                                                                                                                                                                                                                                                                                                                                                                                                                                                                                                                                                                                                                                                                                                                                                                                                                                                                                                                                                                                                                                                                                                                                                                                                                                                                                                                                                                                                                                                                                                                                                                                                                                                                                                                                                                                                                                                                                                                                                                    post  \\\n",
              "0                                                                                                                                                                                                                                                                                                                                                                                                                                                                                                                                                                                                                                                                                                                                                                                                                                                                                                                                                                                                                                                                                                                                                                                                                                                                                                                                                                                                                                                                                                                                                                                                                                                                                                                                                                                                                                                                                                                                                                                                                                                                                                                                                                                                                                                                                                                                                                                                                                                                                                                                                Hi -\\nSo I haven't been on here since December since I was recovering. I've been on prozac since I was 18 (now 24) for depression but I was diagnosed with OCD in January. My psych bumped me up to a higher dosage of prozac - 80mg - which was doing a great job. But I wanted to go off of it because it was making me gain weight and now I'm freaking out!! My OCD revolves around cheating like some of you know...and my most recent \"\"\"\"obsession\"\"\"\" (I put quotes around it cuz i question whether its an obsession or if its real) is that... well let me start from the beginning. I went to my fiancé's friends place and we all had a few drinks and played card games and such. I was with my fiance the whole time except for when I went to the bathroom. I remember everything from the night despite the alcohol in my system. We came home and continued drinking (just me and my fiance) and I eventually blacked out. I ended up having a dream about cheating on my partner with someone that I had seen earlier that night (well not really cheating just taking the guys hands and placing them in an odd place). But it's just that image in my head nothing else. I don't really remember waking up from it to realize it was a dream, I think I stirred but then went right back to sleep (i dont even remember)...I keep thinking what if it wasn't a dream what if it actually happened? My fiance keeps telling me he was with me the whole time and nothing happened but I think about the dream/image all day and it's driving me nuts! I always question whether I really have OCD or not and if the doc just diagnosed me to make me feel better and everything is true and real??? I have an appt with my psych tomorrow and I think I am going to have him write me a script for Zoloft...apparently it is an SSRI that doesn't cause weight gain. SSRI's are the only thing that seem to help me to accept uncertainty, but the thing that bothers me is I've never been able to say yes or no to the thoughts...but when I'm on the medication I'm kind of just like eh whatever and then the thought goes away. When I'm not I have crying spells and can't concentrate and just obsess and cry all day in the bathroom at work and also I get really bad separation anxiety from my fiance. Anyway I'm kind of just rambling just wanted to vent. Hope everyone is doing okay.   \n",
              "1  Hi all, hope you're all having a wonderful bank holiday whatever it is you're doing😎 I however am taking an introverted approach and just chilling and if you're reading this I thank you for taking your time out to read my first post on this forum and giving it some notice. I've taken some time out to read others experiences relating to OCD and other mental illnesses, knowing that I am not alone and gaining more insight to a really important topic and by reading other people's stories, by doing this I find that I'm learning more about myself as well. Some made me laugh, some made me cry. But thankyou nonetheless. What a great, lovely bunch of people. \\nJust to add a little context, I'm a 21 year old male, recently come to terms with the fact I have OCD. As well as this I also have GAD, major depression and an eating disorder. \\nNot getting into too much detail about the discovery of my OCD. Although rather impactful, it in some way has helped me knowing that there is a reason I am the way I am. I'm aware to not use the term 'Pure O' as it's not a medically used term and it is exactly the same as the more commonly known OCD subtypes. My compulsions are mainly in the mind. The themes are around harm, pedophilia, relationships, sexuality, existential, incest, depression and unfortunately the list goes on with various different themes. I've been having these thoughts for what it seems almost all my life. I always thought there was something wrong with me. When I was around 15/16, when I got into a conversation with a friend about mental illnesses. I knew from then on what I had to do, I had to diagnose myself with whatever it is that is wrong with me and I had to then give myself CBT before I get thrown in a loony bin or reported to the police as a danger or even worse, before I could act on them thoughts. For 6 years, that has been my mission. I thought, my intrusive thoughts were a part of me just waiting to burst out at any random moment. I thought that someday I'm going to wake up, something would switch in my brain and I would either black out and forget what I had done or even more frighteningly, actually be completely aware and actually taking pleasure in said scenarios based around my intrusive thoughts. I thought I had a monster, living inside me, just waiting for its perfect time to attack. I wouldn't know it until I knew it.\\nI have lived (and still live) in complete fear that I am my thoughts and they are a tremendous flaw in my personality. I guess I'm still yet to convince myself that it is true but as you all know, you have your ups and downs with this ever so painful disorder. It has been difficult to me, as Im coming to terms with having OCD, I am currently piecing together all my symptoms and all the intrusive thoughts I've ever had throughout my life. It's like they've all come back at me and I'm in a bit of a pickle. But, I will be getting help very soon, just waiting to find a specialist in OCD and CBT in the Sheffield area and I will be making steps to make my life manageable again as I seemed to of gone off the rails after some family related issues and the breakdown of my relationship with my amazing ex girlfriend. And I am hopeful, even though I am actually scared. And admitting to being scared is something I've never done, even though scared is what I've been all my life. However, opening up to my loved ones about my thoughts, I have received nothing but love, support and compassion and honestly... That's what I was most scared of, their reaction to my thoughts, and in that moment I knew that I had lived in fear for too long. They're heartbroken I'm going through this and have been for a long time, but only because they see me for what I don't. A normal, human being. Just like everyone else on this forum, or reading the forum. You're all normal, at least to us. And take comfort in that as did I when I came across these posts. \\nThere's a lyric that I've always been attached to, by a band called Meshuggah (shout out to all metal heads on this forum) and I'd love to share it. \\n'The struggle to free myself from restraints, becomes my very shackles.' \\nI hope that whoever reads this post, whether youre someone who has been diagnosed with OCD for years or someone who is finding answers. Please know you're not alone in this. And it will and can get better because ultimately you deserve it and you ought to have the drive to go out there and do it. Because you are not your thoughts. You know what you are, just look a little deeper, and you'll see you for the beautiful person you are, because all you're doing and all I'm doing, is our own disorderly way of protecting us from the things we fear the most. \\nHave a good one guys. Enjoy the glorious weather. Thankyou so much.   \n",
              "2                                                                                                                                                                                                                                                                                                                                                                                                                                                                                                                                                                                                                                                                                                                                                                                                                                                                                                                                                                                                                                                                                                                                                                                                                                                                                                                                                                                                                                                                                                                                                                                                                                                                                                                                                                                                                                                                                                                                                                                                                                                                                                                                                                                                                                                                                                                                                                                                                                                                                                                                                                                                                                                                      Hi, \\nFirst, I hope everyone managed to have some joy and happiness this Christmas, especially those who are struggling a lot at the moment. \\nSecond, this post is going to be weird so I apologise.\\nToday I realised something very important. I realised that I actually am a bad person. When I look around I see normal and kind people; when I look at myself I see something disguting and weird (but not in a good way). This sounds silly but I received lots of presents today (I've never received so many before) and I felt so guilty. I don't deserve good things or people in my life. \\nBesides the fears of being attracted to children and being an abuser, I realised that I have so many other small obsessions. And they are absolutely disgusting. Take today for example. While having a nap with my boyfriend I had the feeling that I raped him by touching him in a weird way (by accident) and not doing anything about it for 30 seconds or so. While playing with my boyfriend's sister's cats I felt some sort of sick joy; I don't know if that was because I thought they were cute or because of something else. And these are only two examples, but there are so, so, so many other things that make me feel like a deviant and monster. My brain and body are so repugnant because they are the house of some of the most abnormal thoughts and feelings about the most normal things in the world, which automatically makes me a monster. And things would probably be easier if I were sure I didn't like all these feelings and thoughts, but here is the thing: I'm not sure. On the contrary, I think I do like and enjoy them, and I'm just too scared to accept it hence pretend to be scared, anxious and worried about it.\\nI think there is something seriously wrong with me. I'm a terrible person and I can feel it - I know this sounds weird but I can actually feel it. And because of that I don't want to be alive anymore, I really don't. For some reason I know I won't be able to survive like this for more than 10 (or even 5) years. I will never be happy with myslef; I'm way too rotten and evil inside for that to happen. \\nAgain, I apologise. I know this is not the post you would like to see during this festive period.   \n",
              "3                                                                                                                                                                                                                                                                                                                                                                                                                                                                                                                                                                                                                                                                                                                                                                                                                                                                                                                                                                                                                                                                                                                                                                                                                                                                                                                                                                                                                                                                                                                                                                                                                                                                                                                                                                                                                                                                                                                                                                                                                                                                                                                                                                                                                                                                                                                                                                                                                                                                                                                                                                                                                                                                                                                                                                                                                                                                                                                                                                                                                                                                                                                                                                                                                                                                                                                                                                                                                                                                                                                                                                Hello everyone. I could really use your help right now in identifying whether this is another OCD obsession or just my mind being corrupt\\nI hav suffered before with OCD obsessions about harming my family and it was the worst experience of my life. I did get treatment in the form of CBT and this helped. However, after my A level exams (which were STRESSFULL) my OCD has returned and now I obsess over harm, inappropriately touching people etc.\\nApart from this, a new obsession has come. Whenever I see any young child laughing or playing or just sitting (usually my 8 year old cousin who visits us) I start to have intrusive thought about negative experiences in my own childhood. My father was an alcoholic which left me with very panicky experiences. I get really distressed by thesehorrible reminders and I do cry.\\nAs a result, I avoid playing with my cousin at all costs so don't have to dwell on my own childhood and feel depressed. However, just seeing my cousin once brings these horrible memories which are followed by on-going thoughts in my mind that tell me\\n'I'm hopeless due to my childhood', 'I will never amount to anything' and 'My childhood made me this way'.\\nPlease help me. I need to know if this is another OCD obsession so I can find some peace of mind and know its not me being a bitter and twisted idiot.\\nSo is this OCD???   \n",
              "4                                                                       Though it comes in many flavors, one of the more common OCD themes we see on the forum is that of (no) crime and punishment. I wrote it that way for a reason. The sufferer believes they made an egregious mistake or have even committed a crime (what they did was so terrible), yet everyone else on the forum responds that no such crime exists or that the mistake is nothing to worry about. This theme has one thing in common: the sufferer's steadfast determination to punish themselves for the perceived transgression.\\nMany times someone will raise an issue like this on the forum, then vehemently stick to the belief that the situation has nothing to do with OCD. We see it so often here one would have to wonder how it could not be OCD, since the posts appear on an OCD forum. Further, people with this particular theme often have other, more easily identifiable versions of OCD, lending credence to the belief that the current problem is also OCD.\\nThe main reason why people balk at the thought that OCD is involved is that the situation (the crime) was real. OCD apparently didn't have any part in the formation of the crime/mistake. While that appears to be true in most cases of this theme, the person nonetheless is dealing with OCD now. Real mistakes or errors in judgment or perceived crimes can happen in real life. OCD comes into play when the person becomes overly focused on the mistake/crime/error to the detriment of their ability to live a quality life.\\nSometimes the 'crime' took place recently. In many cases it happened years and years ago but suddenly popped into the mind of the OCD sufferer. In all cases sufferers with this theme become obsessed with what happened. They fixate on the alleged crime and can't shake it from their mind. The thought of what happened (obsession) causes distress. And the sufferer performs compulsions, most notably ruminating -- going over the event in their mind repeatedly.\\nA notable manifestation of this theme is the very common belief that the crime/mistake/error made in the past is absolutely terrible. Sufferers commonly come across as being devastated that they made such a mistake, which they believe is life changing. Interestingly, the nearly unanimous verdict of responders to threads about this OCD theme is that the crime/mistake/error appears to be minor in origin and not worth worrying about.\\nOne by-product of this OCD theme and the way it manifests is what can be an overwhelming feeling of guilt. As everyone should know, OCD involves obsessions (intrusive thoughts) that cause distress. With this theme the majority of that distress is expressed as guilt. Consquently, sufferers with this theme commonly believe that they should be/must be punished for their transgression. This is expressed in self loathing comments and an interest shown in confessing the transgression to loved ones/the police.\\nOther people look at the situations and see they are minor incidents that should be dismissed, but the sufferers of this theme truly believe it is a case of crime and required punishment. Attempts at reassuring sufferers that they did not do bad, that they are not bad and that they deserve no punishment usually fall on deaf ears.\\nLike with other OCD themes, sufferers of this theme are their own worst enemies. Although the obsessions (thoughts that the sufferer did wrong) can be fleeting and last only seconds, sufferers can spend hours and hours ruminating on the subject. They can perform other compulsions, such as searching the Internet for stories of people who similarly screwed up, searching to find out what truly bad people do as a way of comparison, seeking reassurance and confessing.\\nInterestingly, with this OCD theme, the reassurance seeking can be the reverse of what is normally seen. While some people may ask for reassurance that they aren't a terrible person, some sufferers come across as if they want confirmation that they are bad and that what they did was egregious, terrible and worth punishment.\\nThis theme can result in cognitive distortions being exhibited, including all-or-nothing-thinking. \"\"\"\"I did X, therefore I am evil.\"\"\"\"\\nLike any other theme, this theme can be dealt with using the tenets of CBT. From the cognitive side the person can start saying positive statements as opposed to negative, all-or-nothing-thinking statements. (I am a good person. I make mistakes but I am still a good person).\\nOn the behavioral side, it is important that sufferers identify the compulsions they perform and work to resist them. No doubt ruminating is a big one with this theme. Refusal to confess past transgressions is essential, as is stopping searching on the Internet for similar stories.   \n",
              "\n",
              "                                                                                                                       prefLabel  \\\n",
              "0           ['depression', 'weight gain', 'Medication', 'anxiety', 'anxiety', 'hope', 'obsession', 'bathroom', 'Thought', 'OCD']   \n",
              "1  ['compulsion', 'anger', 'symptom', 'compassion', 'joy', 'depression', 'hope', 'fear', 'OCD', 'Intrusive thoughts', 'Thought']   \n",
              "2                                               ['hope', 'happiness', 'guilt', 'fear', 'obsession', 'disgust', 'joy', 'Thought']   \n",
              "3                                                                           ['Treatment', 'hope', 'Thought', 'obsession', 'OCD']   \n",
              "4        ['quality', 'Intrusive thoughts', 'fall', 'behavior', 'guilt', 'obsession', 'compulsion', 'interest', 'OCD', 'Thought']   \n",
              "\n",
              "   compulsion  obsession  \\\n",
              "0           0          1   \n",
              "1           1          1   \n",
              "2           0          1   \n",
              "3           0          1   \n",
              "4           1          1   \n",
              "\n",
              "                                                                                                                                                                                                                                                                                                                                                                                                                                                                                                                                                                                                                                                                                                                                                                                                                                                                                                                                                                                                                                                                                                                                                                                                                                                                                                                                                                                                                                                                                                                                                                                                                                                                                                                                                                                                                                                                                                                                                                                                                                                                                                                                                                                                                                                                                                                                                                                                                                                                                                                                                                                                                                                                                                                                                                                                                                                                                                                                                                                                                                                                                                                                                                                                                                                                                                                                                                                                                                                                                                                                                                                                                                                                                                                                                                                                                                                                                                                                                                                                                                                                                                                                                                                                                                                                                                                                                                                                                                                                                                                                                                                                                                                                                                                                                                                                                                                                                                                                                                                                                                                                                                                                                                                                                                                                                                                                                                                                                                                                                                                                                                                                                                                                                                                                                                                                                                                                                                                                                                                                                                                                                                                                                                                                                                                                                                                                                                                                                                                                                                                                                                                                                                                                                                                                                                                                                                                                                                                                                                                                                                                                                                                                                                                                                                                                                                                                                                                                                                                                                                                                                                                                                                                                                                                                                                                                                                                                                                                                                                                                                                                                                                                                                                                                                                                                                                                                                                                                                                                                                                                                                                                                                                                                                                                                                                                                                                                                                                                                                                                                                                                                                                                                                                                                                                                                                                                                                                                                                                                                                                                                                                                                                                                                                                                                                                                                                                                                                                                                                                                                                                                                                                                                                                                                                                                                                                                                                                                                                                                                                                                                                                                                                                                                                                                                                                                                                                                                                                                                                                                                                                                                                                                                                                                                                                                                                                                                                                                                                                                                                                                                                                                                                                                                                                                                                                                                                                                                                                                                                                                                                                                                                                                                                                                                                                                                                                                                                                                                                                                                                                                                                                                                                                                                                                                                                                                                                                                                                                                                                                                                                                                                                                                                                                                                                                                                                                                                                                                                                                                                                                                                                                                                                                                                                                                                                                                                                                                                                                                                                                                                                                                                                                                                                                                                                                                                                                                                                                                                                                                                                                                                                                                                                                                                                                                                                                                                                                                                                                                                                                                                                                                                                                                                                                                                                                                                                                                                                                                                                                                                                                                                                                                                                                                                                                                                                                                                                                                                                                                                                                                                                                                                                                                                                                                                                                                                                                                                                                                                                                                                                                                   expand1  \n",
              "0                                                                                                                                                                                                                                                                                                                                                                                                                                                                                                                                                                                                                                                                                                                                                                                                                                                                                                                                                                                                                                                                                                                                                                                                                                                                                                                                                                                                                                                                                                                                                                                                                                                                                                                                                                                                                                                                                                                                                                                                                                                                                                                                                                                                                                                                                                                                                                                                                                                                                                                                                                                                                                                                                                                                                                                                                                                                                                                                                                                                                                                                                                                                                                                                                                                                                                                                                                                                                                                                                                                                                                                                                                                                                                                                                                                                                                                                                                                                                                                                                                                                                                                                                                                                                                                                                                                                                                                                                                                                                                                                                                                                                                                                                                                                                                                                                                                                                                                                                                                                                                                                                                                                                                                                                                                                                                                                                                                                                                                                                                                                                                                                                                                                                                                                                                                                                                                                                                                                                                                                                                                                                                                                                                                                                                                                                                                                                                                                                                                                                                                                                                                                                                                                                                                                                                                                                                                                                                                                                                                                                                                                                                                                                                                                                                                                                                                                                                                                                                                                                                                                                                                                                                                                                                                                                                                                                                                                                                                                                                                                                                                                                                                                                                                                                                                                                                                                                                                                                                                                                                                                                                                                                                                                                                                                                                                                                                                                                                                                                                                                                                                                                                                                                                                                                                                                                                                                                                                                                                                                                                                                                                                                                                                                                                                                                                                                                                                                                                                                                                                                                                                                                                                                                                                                                                                                                                                                                                                                                                                                                                                                                                                                                                                                                                                                                                                                                                                                                                                                                                                                                                                                                                                                                                                                                                                                                                                                                                                                                                                                                                                                                                                                                                                                                                                                                                                                                                                                                                                                                                                                                                                                                                                                                                                                                                                                                                                                                                                                                                                                                                                                                                                                                                                                                                                                                                                                                                                                                                                                                                                                                                                                                                                                                                                                                                                                                                                                                                                                                                                                                                                                                                                                                                                                                                                                                                                                                                                                                                                                                                                                                                                                                                                                                                                                                                                                                                                                                                                                                                                                                                                                                                                                                                                                                                                                                                                                                                                                                                                                                                                                                                                                                                                                                                                                                                                                                                                                                                                                                                                                                                                                                                                                                                                                                                                                                                                                                                                                                                                        Aggressive obsession, Contamination obsession, Doubt obsession, Hoarding obsession, Religious obsession, Sexual obsession, Somatic obsession, Symmetry obsession, morbid thoughts, Mental image, Homicidal thoughts, Persistent thoughts, Irrational thoughts, Suicidal ideation, Sexual thought, Aggressive thought, Contamination thought, Doubt thought, Hoarding thought, Obsessional thoughts, Religious thought, Somatic thought, Symmetry thought, castration anxiety, performance anxiety, koro, intense anxiety, abnormal weight gain, acute weight gain, chronic weight gain, Obsession  \n",
              "1                                                                                                                                                                                                                                                                                                                                                                                                                                                                                                                                                                                                                                                                                                                                                                                                                                                                                                                                                                                                                                                                                                                                                                                                                                                                                                                                                                                                                                                                                                                                                                                                                                                                                                                                                                                                                                                                                                                                                                                                                                                                                                                                                                                                                                                                                                                                                                                                                                                                                                                                                                                                                                                                                                                                                                                                                                                                                                                                                                                                                                                                                                                                                                                                                                                                                                                                                                                                                                                                                                                                                                                                                                                                                                                                                                                                                                                                                                                                                                                                                                                                                                                                                                                                                                                                                                                                                                                                                                                                                                                                                                                                                                                                                                                                                                                                                                                                                                                                                                                                                                                                                                                                                                                                                                                                                                                                                                                                                                                                                                                                                                                                                                                                                                                                                                                                                                                                                                                                                                                                                                                                                                                                                                                                                                                                                                                                                                                                                                                                                                                                                                                                                                                                                                                                                                                                                                                                                                                                                                                                                                                                                                                                                                                                                                                                                                                                                                                                                                                                                                                                                                                                                                                                                                                                                                                                                                                                                                                                                                                                                                                                                                                                                                                                                                                                                                                                                                                                                                                                                                                                                                                                                                                                                                                                                                                                                                                                                                                                                                                                                                                                                                                                                                                                                                                                                                                                                                                                                                                                                                                                                                                                                                                                                                                                                                                                                                                                                                                                                                                                                                                                                                                                                                                                                                                                                                                                                                                                                                                                                                                                                                                                                                                                                                                                                                                                                                                                                                                                                                                                                                                                                                                                                                                                                                                                                                                                                                                                                                                                                                                                                                                                                                                                                                                                                                                                                                                                                                                                                                                                                                                                                                                                                                                                                                                                                                                                                                                                                                                                                                                                                                                                                                                                                                                                                                                                                                                                                                                                                                                                                                                                                                                                                                                                                                                                                                                                                                                                                                                                                                                                                                                                                                                                                                                                                                                                                                                                                                                                                                                                                                                                                                                                                                                                                                                                                                                                                                                                                                                                                                                                                                                                                                                                                                                                                                                                                                                                                                                                                                                                                                                                                                                                                                                                                                                                                                                                                                                                                                                                                                                                                                                                                                                                                                                                                                                                                                                    Aggressive intrusive thoughts, Contamination intrusive thoughts, Doubt intrusive thoughts, Hoarding intrusive thoughts, Religious intrusive thoughts, Sexual intrusive thoughts, Somatic intrusive thoughts, Symmetry intrusive thoughts, morbid thoughts, Mental image, Homicidal thoughts, Persistent thoughts, Irrational thoughts, Suicidal ideation, Sexual thought, Aggressive thought, Contamination thought, Doubt thought, Hoarding thought, Obsessional thoughts, Religious thought, Somatic thought, Symmetry thought, annoyance, fury, rage, terror, panic, rage, wrath, LGBTQ wrath, gay male wrath, panic, moral panic, Compulsive behavior, Compulsion  \n",
              "2                                                                                                                                                                                                                                                                                                                                                                                                                                                                                                                                                                                                                                                                                                                                                                                                                                                                                                                                                                                                                                                                                                                                                                                                                                                                                                                                                                                                                                                                                                                                                                                                                                                                                                                                                                                                                                                                                                                                                                                                                                                                                                                                                                                                                                                                                                                                                                                                                                                                                                                                                                                                                                                                                                                                                                                                                                                                                                                                                                                                                                                                                                                                                                                                                                                                                                                                                                                                                                                                                                                                                                                                                                                                                                                                                                                                                                                                                                                                                                                                                                                                                                                                                                                                                                                                                                                                                                                                                                                                                                                                                                                                                                                                                                                                                                                                                                                                                                                                                                                                                                                                                                                                                                                                                                                                                                                                                                                                                                                                                                                                                                                                                                                                                                                                                                                                                                                                                                                                                                                                                                                                                                                                                                                                                                                                                                                                                                                                                                                                                                                                                                                                                                                                                                                                                                                                                                                                                                                                                                                                                                                                                                                                                                                                                                                                                                                                                                                                                                                                                                                                                                                                                                                                                                                                                                                                                                                                                                                                                                                                                                                                                                                                                                                                                                                                                                                                                                                                                                                                                                                                                                                                                                                                                                                                                                                                                                                                                                                                                                                                                                                                                                                                                                                                                                                                                                                                                                                                                                                                                                                                                                                                                                                                                                                                                                                                                                                                                                                                                                                                                                                                                                                                                                                                                                                                                                                                                                                                                                                                                                                                                                                                                                                                                                                                                                                                                                                                                                                                                                                                                                                                                                                                                                                                                                                                                                                                                                                                                                                                                                                                                                                                                                                                                                                                                                                                                                                                                                                                                                                                                                                                                                                                                                                                                                                                                                                                                                                                                                                                                                                                                                                                                                                                                                                                                                                                                                                                                                                                                                                                                                                                                                                                                                                                                                                                                                                                                                                                                                                                                                                                                                                                                                                                                                                                                                                                                                                                                                                                                                                                                                                                                                                                                                                                                                                                                                                                                                                                                                                                                                                                                                                                                                                                                                                                                                                                                                                                                                                                                                                                                                                                                                                                                                                                                                                                                                                                                                                                                                                                                                                                                                                    Aggressive obsession, Contamination obsession, Doubt obsession, Hoarding obsession, Religious obsession, Sexual obsession, Somatic obsession, Symmetry obsession, morbid thoughts, Mental image, Homicidal thoughts, Persistent thoughts, Irrational thoughts, Suicidal ideation, Sexual thought, Aggressive thought, Contamination thought, Doubt thought, Hoarding thought, Obsessional thoughts, Religious thought, Somatic thought, Symmetry thought, survivor guilt, core disgust, animal-nature disgust, interpersonal disgust, moral disgust, terror, panic, joy, serenity, amusement, elation, euphoria, contentment, enjoyment, hate, loathing, anger, resentment, misanthropy, self-hate, self-loathing, rage, misandry, misogyny, wrath, internalized misandry, transmisandry, internalized misogyny, transmisogyny, misogynoir, fat misogyny, LGBTQ wrath, transmisogynoir, gay male wrath, panic, moral panic, Obsession  \n",
              "3                                                                                                                                                                                                                                                                                                                                                                                                                                                                                                                                                                                                                                                                                                                                                                                                                                                                                                                                                                                                                                                                                                                                                                                                                                                                                                                                                                                                                                                                                                                                                                                                                                                                                                                                                                                                                                                                                                                                                                                                                                                                                                                                                                                                                                                                                                                                                                                                                                                                                                                                                                                                                                                                                                                                                                                                                                                                                                                                                                                                                                                                                                                                                                                                                                                                                                                                                                                                                                                                                                                                                                                                                                                                                                                                                                                                                                                                                                                                                                                                                                                                                                                                                                                                                                                                                                                                                                                                                                                                                                                                                                                                                                                                                                                                                                                                                                                                                                                                                                                                                                                                                                                                                                                                                                                                                                                                                                                                                                                                                                                                                                                                                                                                                                                                                                                                                                                                                                                                                                                                                                                                                                                                                                                                                                                                                                                                                                                                                                                                                                                                                                                                                                                                                                                                                                                                                                                                                                                                                                                                                                                                                                                                                                                                                                                                                                                                                                                                                                                                                                                                                                                                                                                                                                                                                                                                                                                                                                                                                                                                                                                                                                                                                                                                                                                                                                                                                                                                                                                                                                                                                                                                                                                                                                                                                                                                                                                                                                                                                                                                                                                                                                                                                                                                                                                                                                                                                                                                                                                                                                                                                                                                                                                                                                                                                                                                                                                                                                                                                                                                                                                                                                                                                                                                                                                                                                                                                                                                                                                                                                                                                                                                                                                                                                                                                                                                                                                                                                                                                                                                                                                                                                                                                                                                                                                                                                                                                                                                                                                                                                                                                                                                                                                                                                                                                                                                                                                                                                                                                                                                                                                                                                                                                                                                                                                                                                                                                                                                                                                                                                                                                                                                                                                                                                                                                                                                                                                                                                                                                                                                                                                                                                                                                                                                                                                                                                                                                                                                                                                                                                                                                                                                                                                                                                                                                                                                                                                                                                                                                                                                                                                                                                                                                                                                                                                                                                                                                                                                                                                                                                                                                                                                                                                                                                                                                                                                                                                                                                                                                                                                                                                                                                                                                                                                                                                                                                                                                                                                                                                                                                                                                                                                                                                                                                                                                                                                                                       Aggressive obsession, Contamination obsession, Doubt obsession, Hoarding obsession, Religious obsession, Sexual obsession, Somatic obsession, Symmetry obsession, prophylactic treatment, therapeutic procedure, chemotherapy procedure, immunotherapy procedure, physical therapy procedure, radiation therapy procedure, transplantation, solid organ transplant, transfusion, morbid thoughts, Mental image, Homicidal thoughts, Persistent thoughts, Irrational thoughts, Suicidal ideation, Sexual thought, Aggressive thought, Contamination thought, Doubt thought, Hoarding thought, Obsessional thoughts, Religious thought, Somatic thought, Symmetry thought, Obsession  \n",
              "4  Aggressive obsession, Contamination obsession, Doubt obsession, Hoarding obsession, Religious obsession, Sexual obsession, Somatic obsession, Symmetry obsession, Aggressive intrusive thoughts, Contamination intrusive thoughts, Doubt intrusive thoughts, Hoarding intrusive thoughts, Religious intrusive thoughts, Sexual intrusive thoughts, Somatic intrusive thoughts, Symmetry intrusive thoughts, feeding behavior, behavioral defense response, multi-organism behavior, multi-organism behavior, behavioral response to wounding, learning or memory, reproductive behavior, reproductive behavior, rhythmic behavior, grooming behavior, locomotory behavior, visual behavior, chemosensory behavior, behavioral response to nutrient, mechanosensory behavior, adult behavior, larval behavior, host-seeking behavior, foraging behavior, hatching behavior, exploration behavior, motor behavior, thermosensory behavior, behavioral response to water deprivation, behavioral response to pain, general adaptation syndrome, behavioral process, crying behavior, vocalization behavior, vocalization behavior, sexual behavior, unusual behavior, emotional behavioural process, problem solving behaviour, Avoidance behavior, Hypervigilance behavior, Reassurance behavior, conditioned taste aversion, suckling behavior, eating behavior, drinking behavior, adult feeding behavior, larval feeding behavior, salt aversion, behavioral fear response, behavioral defense response to insect, behavioral defense response to nematode, aggressive behavior, aggressive behavior, social behavior, injection of substance in to other organism, multi-organism reproductive behavior, interpersonal process, interpersonal process, interpersonal behavior, learning, memory, learned vocalization behavior or vocal learning, mating behavior, proceptive behavior, oviposition, post-mating behavior, parental behavior, acceptive behavior, circadian behavior, adult locomotory behavior, walking behavior, larval locomotory behavior, turning behavior, locomotory exploration behavior, swimming behavior, locomotor rhythm, pattern orientation, optokinetic behavior, visual learning, chemosensory jump behavior, proboscis extension reflex, olfactory behavior, behavioral response to chemical pain, auditory behavior, behavioral response to nicotine, behavioral response to cocaine, behavioral response to ethanol, behavioral response to ether, larval foraging behavior, adult foraging behavior, foraging behavior by probing substrate, psychomotor behavior, innate vocalization behavior, learned vocalization behavior, copulatory vocalization, emotional speaking behaviour, sexuality, sexually aggressive behavior, hypersexual behavior, hyposexual behavior, abnormal sexual behavior, normal sexual behavior, suggestive sexual behavior, sexual contact, abnormal behavior, crying, aggression, facial expression behaviour, emotional bodily movement behaviour, mathematical problem solving behavior, visual problem solving behavior, language problem solving behavior, reduction of food intake in response to dietary excess, pharyngeal pumping, angiotensin-mediated drinking behavior, predatory behavior, inter-male aggressive behavior, fear-induced aggressive behavior, irritable aggressive behavior, territorial aggressive behavior, maternal aggressive behavior, instrumental aggressive behavior, microaggressive behavior, passive-aggressive behavior, destructive behavior, envenomation resulting in modification of morphology or physiology of other organism, injection of substance into other organism during feeding on blood of other organism, communication, attachment, associative learning, operant conditioning, nonassociative learning, motor learning, observational learning, short-term memory, anesthesia-resistant memory, long-term memory, medium-term memory, vocal learning, courtship behavior, courtship behavior, male mating behavior, female mating behavior, circadian mating behavior, mating plug formation, mating behavior, sex discrimination, post-mating oviposition, maternal behavior, paternal behavior, oral incubation, eclosion rhythm, circadian sleep/wake cycle process, circadian sleep/wake cycle, rapid eye movement sleep, non-rapid eye movement sleep behavior, circadian rhythm, circadian regulation of heart rate, circadian regulation of systemic arterial blood pressure, circadian temperature homeostasis, adult walking behavior, flight behavior, jump response, larval walking behavior, larval turning behavior, larval wandering behavior, larval burrowing behavior, turning behavior involved in mating, optomotor response, olfactory learning, behavioral response to acetic acid induced pain, behavioral response to formalin induced pain, speaking loudly, speaking softly, speaking with trembling voice, speaking assertively, not speaking, speaking a short utterance, speaking a long utterance, speaking with altered speech melody, speaking in a disturbed fashion, speaking at a faster rate, speaking at a slower rate, canonical emotional voice utterances, plant sexuality, allosexuality, gray asexuality, non-heterosexuality, autosexuality, fluid sexuality, pomosexuality, sexually abusive behavior, nonparaphilic hypersexual behavior, compulsive sexual behavior, flirting, autistic behavior, impulsive behavior, violence, smiling, jaw dropping, pressing lips together, raising eyebrows, frowning, closing eyes, opening eyes widely, neutral expression, canonical emotional facial expression, moving abruptly, moving towards people, moving away from people, staying still, capturing behaviour, microassault, microinsult, microinvalidation, self-destructive behavior, envenomation resulting in hemorrhagic damage to other organism, envenomation resulting in modulation of blood coagulation in other organism, envenomation resulting in induction of edema in other organism, envenomation resulting in impairment of hemostasis in other organism, envenomation resulting in pore formation in membrane of other organism, envenomation resulting in modulation of ion channel activity in other organism, envenomation resulting in modulation of mast cell degranulation in other organism, envenomation resulting in proteolysis in other organism, envenomation resulting in modulation of transmission of nerve impulse in other organism, envenomation resulting in modulation of blood pressure in other organism, envenomation resulting in modulation of signal transduction in other organism, envenomation resulting in modulation of receptor activity in other organism, envenomation resulting in muscle damage in other organism, envenomation resulting in modulation of apoptotic process in other organism, envenomation resulting in zymogen activation in other organism, envenomation resulting in negative regulation of heart rate of other organism, envenomation resulting in modulation of cell migration in other organism, envenomation resulting in modulation of complement activation in other organism, envenomation resulting in cytolysis in other organism, envenomation resulting in modulation of sensory perception of pain in other organism, envenomation resulting in positive regulation of argininosuccinate synthase activity in other organism, social networking, nonverbal communication, verbal behavior, social communication, propaganda, personal communication, linguistic communication, non-linguistic communication, conditioned place preference, habituation, sensitization, dishabituation, imitative learning, romantic behavior, seductive behavior, male courtship behavior, response to hermaphrodite contact, vulval location, spicule insertion, regulation of female receptivity, female courtship behavior, circadian sleep/wake cycle, wakefulness, circadian sleep/wake cycle, REM sleep, circadian sleep/wake cycle, non-REM sleep, circadian sleep/wake cycle, sleep, circadian period, circadian persistence, circadian phase, canonical angry voice utterance, canonical fearful voice utterance, canonical disgusted voice utterance, canonical happy voice utterance, canonical sad voice utterance, canonical surprised voice utterance, nonparaphilic compulsive sexual behavior, compulsive behavior, canonical angry facial expression, canonical fearful facial expression, canonical happy facial expression, canonical disgusted facial expression, canonical sad facial expression, canonical surprised facial expression, chase prey, flush prey, construct capturing device, stalk prey, capturing prey, self-injurious behavior, envenomation resulting in blood vessel extracellular matrix damage, causing hemorrhagic damage in other organism, envenomation resulting in modulation of platelet aggregation in other organism, envenomation resulting in positive regulation of blood coagulation in other organism, envenomation resulting in negative regulation of blood coagulation in other organism, envenomation resulting in fibrinolysis in other organism, envenomation resulting in depletion of circulating fibrinogen in other organism, envenomation resulting in modulation of calcium channel activity in other organism, envenomation resulting in modulation of voltage-gated sodium channel activity in other organism, envenomation resulting in modulation of voltage-gated potassium channel activity in other organism, envenomation resulting in modulation of acid-sensing ion channel activity in other organism, envenomation resulting in positive regulation of mast cell degranulation in other organism, envenomation resulting in positive regulation of blood pressure in other organism, envenomation resulting in negative regulation of blood pressure in other organism, envenomation resulting in positive regulation of signal transduction in other organism, envenomation resulting in modulation of glucagon-like peptide receptor 1 activity in other organism, envenomation resulting in modulation of G-protein coupled receptor activity in other organism, envenomation resulting in modulation of vasoactive intestinal polypeptide receptor activity in other organism, envenomation resulting in myocyte killing in other organism, envenomation resulting in damage of muscle extracellular matrix in other organism, envenomation resulting in negative regulation of cell migration in other organism, envenomation resulting in positive regulation of cell migration in other organism, envenomation resulting in modulation of complement activation, classical pathway in other organism, envenomation resulting in modulation of complement activation, lectin pathway in other organism, envenomation resulting in modulation of complement activation, alternative pathway in other organism, envenomation resulting in hemolysis in other organism, envenomation resulting in negative regulation of sensory perception of pain in other organism, online social networking, oculesics, proxemics, kinesics, haptics, chronemics, vocalics, speech, social media, anti-LGBTQ propaganda, police propaganda, spoken communication, written communication, sign-language communication, gestural communication, facial expression communication, male courtship behavior, orientation prior to leg tapping and wing vibration, male courtship behavior, tapping to detect pheromone, male courtship behavior, veined wing extension, male courtship behavior, proboscis-mediated licking, male courtship behavior, veined wing generated song production, negative regulation of female receptivity, regulation of female receptivity, post-mating, positive regulation of female receptivity, compulsive masturbation, addictive behavior, repetitive compulsive behavior, envenomation resulting in negative regulation of platelet aggregation in other organism, envenomation resulting in positive regulation of platelet aggregation in other organism, envenomation resulting in plasminogen activation in other organism, envenomation resulting in fibrinogenolysis in other organism, envenomation resulting in negative regulation of calcium channel activity in other organism, envenomation resulting in negative regulation of voltage-gated sodium channel activity in other organism, envenomation resulting in positive regulation of voltage-gated sodium channel activity in other organism, envenomation resulting in negative regulation of voltage-gated potassium channel activity in other organism, envenomation resulting in positive regulation of acid-sensing ion channel activity in other organism, envenomation resulting in negative regulation of acid-sensing ion channel activity in other organism, envenomation resulting in vasodilation in other organism, envenomation resulting in positive regulation of glucagon-like peptide receptor 1 activity in other organism, envenomation resulting in positive regulation of G-protein coupled receptor activity in other organism, envenomation resulting in positive regulation of vasoactive intestinal polypeptide receptor activity in other organism, envenomation resulting in negative regulation of complement activation, classical pathway in other organism, envenomation resulting in positive regulation of complement activation, classical pathway in other organism, envenomation resulting in negative regulation of complement activation, lectin pathway in other organism, envenomation resulting in positive regulation of complement activation, lectin pathway in other organism, envenomation resulting in positive regulation of complement activation, alternative pathway in other organism, envenomation resulting in negative regulation of complement activation, alternative pathway in other organism, gaze, eye contact, gesture, kiss, hug, tickle, handshake, massage, make-out, hold hands, voice, inappropriate speech, LGBTQ-related speech, erotic speech, homophobic propaganda, transphobic propaganda, male courtship behavior, veined wing vibration, negative regulation of female receptivity, post-mating, positive regulation of female receptivity, post-mating, envenomation resulting in negative regulation of voltage-gated calcium channel activity in other organism, envenomation resulting in slowing of activation kinetics of voltage-gated potassium channel in other organism, envenomation resulting in occlusion of the pore of voltage-gated potassium channel in other organism, gendered gaze, oppositional gaze, occupational gaze, sexuality gaze, safe move, manual gesture, non-manual gesture, kisses by function, kisses by anatomy, group hug, anal tickle, erotic massage, gendered voice, voice of color, echolalia, coprolalia, transgender speech, gay male speech, lesbian speech, envenomation resulting in negative regulation of high voltage-gated calcium channel activity in other organism, envenomation resulting in negative regulation of low voltage-gated calcium channel activity in other organism, male gaze, female gaze, cisgender gaze, postcolonial gaze, medical gaze, straight gaze, home sign, facial expression, romantic kiss, ritualistic kiss, friendly kiss, cheek kiss, nose kiss, lip kiss, hand kiss, forehead kiss, tongue kiss, anal kiss, tantric massage, feminine voice, masculine voice, transgender voice, male tourist gaze, male-to-male gaze, female-to-female gaze, deep kiss, kiss of peace, kiss of respect, transfeminine voice, transmasculine voice, morbid thoughts, Mental image, Homicidal thoughts, Persistent thoughts, Irrational thoughts, Suicidal ideation, Sexual thought, Aggressive thought, Contamination thought, Doubt thought, Hoarding thought, Obsessional thoughts, Religious thought, Somatic thought, Symmetry thought, relational quality, bodily quality, manifestation of a disease, phenotype, configuration, syndrome, recovered from disease, qualitative sign, mental quality, clinical manifestation of a disease, preclinical manifestation of a disease, clinical phenotype, disease phenotype, pathological physical configuration, intentionality, survivor guilt, Compulsive behavior, Compulsion, Obsession  "
            ],
            "text/html": [
              "\n",
              "  <div id=\"df-6d5e0462-bbaf-46b0-a921-c1344aee6cc1\" class=\"colab-df-container\">\n",
              "    <div>\n",
              "<style scoped>\n",
              "    .dataframe tbody tr th:only-of-type {\n",
              "        vertical-align: middle;\n",
              "    }\n",
              "\n",
              "    .dataframe tbody tr th {\n",
              "        vertical-align: top;\n",
              "    }\n",
              "\n",
              "    .dataframe thead th {\n",
              "        text-align: right;\n",
              "    }\n",
              "</style>\n",
              "<table border=\"1\" class=\"dataframe\">\n",
              "  <thead>\n",
              "    <tr style=\"text-align: right;\">\n",
              "      <th></th>\n",
              "      <th>post</th>\n",
              "      <th>prefLabel</th>\n",
              "      <th>compulsion</th>\n",
              "      <th>obsession</th>\n",
              "      <th>expand1</th>\n",
              "    </tr>\n",
              "  </thead>\n",
              "  <tbody>\n",
              "    <tr>\n",
              "      <th>0</th>\n",
              "      <td>Hi -\\nSo I haven't been on here since December since I was recovering. I've been on prozac since I was 18 (now 24) for depression but I was diagnosed with OCD in January. My psych bumped me up to a higher dosage of prozac - 80mg - which was doing a great job. But I wanted to go off of it because it was making me gain weight and now I'm freaking out!! My OCD revolves around cheating like some of you know...and my most recent \"\"\"\"obsession\"\"\"\" (I put quotes around it cuz i question whether its an obsession or if its real) is that... well let me start from the beginning. I went to my fiancé's friends place and we all had a few drinks and played card games and such. I was with my fiance the whole time except for when I went to the bathroom. I remember everything from the night despite the alcohol in my system. We came home and continued drinking (just me and my fiance) and I eventually blacked out. I ended up having a dream about cheating on my partner with someone that I had seen earlier that night (well not really cheating just taking the guys hands and placing them in an odd place). But it's just that image in my head nothing else. I don't really remember waking up from it to realize it was a dream, I think I stirred but then went right back to sleep (i dont even remember)...I keep thinking what if it wasn't a dream what if it actually happened? My fiance keeps telling me he was with me the whole time and nothing happened but I think about the dream/image all day and it's driving me nuts! I always question whether I really have OCD or not and if the doc just diagnosed me to make me feel better and everything is true and real??? I have an appt with my psych tomorrow and I think I am going to have him write me a script for Zoloft...apparently it is an SSRI that doesn't cause weight gain. SSRI's are the only thing that seem to help me to accept uncertainty, but the thing that bothers me is I've never been able to say yes or no to the thoughts...but when I'm on the medication I'm kind of just like eh whatever and then the thought goes away. When I'm not I have crying spells and can't concentrate and just obsess and cry all day in the bathroom at work and also I get really bad separation anxiety from my fiance. Anyway I'm kind of just rambling just wanted to vent. Hope everyone is doing okay.</td>\n",
              "      <td>['depression', 'weight gain', 'Medication', 'anxiety', 'anxiety', 'hope', 'obsession', 'bathroom', 'Thought', 'OCD']</td>\n",
              "      <td>0</td>\n",
              "      <td>1</td>\n",
              "      <td>Aggressive obsession, Contamination obsession, Doubt obsession, Hoarding obsession, Religious obsession, Sexual obsession, Somatic obsession, Symmetry obsession, morbid thoughts, Mental image, Homicidal thoughts, Persistent thoughts, Irrational thoughts, Suicidal ideation, Sexual thought, Aggressive thought, Contamination thought, Doubt thought, Hoarding thought, Obsessional thoughts, Religious thought, Somatic thought, Symmetry thought, castration anxiety, performance anxiety, koro, intense anxiety, abnormal weight gain, acute weight gain, chronic weight gain, Obsession</td>\n",
              "    </tr>\n",
              "    <tr>\n",
              "      <th>1</th>\n",
              "      <td>Hi all, hope you're all having a wonderful bank holiday whatever it is you're doing😎 I however am taking an introverted approach and just chilling and if you're reading this I thank you for taking your time out to read my first post on this forum and giving it some notice. I've taken some time out to read others experiences relating to OCD and other mental illnesses, knowing that I am not alone and gaining more insight to a really important topic and by reading other people's stories, by doing this I find that I'm learning more about myself as well. Some made me laugh, some made me cry. But thankyou nonetheless. What a great, lovely bunch of people. \\nJust to add a little context, I'm a 21 year old male, recently come to terms with the fact I have OCD. As well as this I also have GAD, major depression and an eating disorder. \\nNot getting into too much detail about the discovery of my OCD. Although rather impactful, it in some way has helped me knowing that there is a reason I am the way I am. I'm aware to not use the term 'Pure O' as it's not a medically used term and it is exactly the same as the more commonly known OCD subtypes. My compulsions are mainly in the mind. The themes are around harm, pedophilia, relationships, sexuality, existential, incest, depression and unfortunately the list goes on with various different themes. I've been having these thoughts for what it seems almost all my life. I always thought there was something wrong with me. When I was around 15/16, when I got into a conversation with a friend about mental illnesses. I knew from then on what I had to do, I had to diagnose myself with whatever it is that is wrong with me and I had to then give myself CBT before I get thrown in a loony bin or reported to the police as a danger or even worse, before I could act on them thoughts. For 6 years, that has been my mission. I thought, my intrusive thoughts were a part of me just waiting to burst out at any random moment. I thought that someday I'm going to wake up, something would switch in my brain and I would either black out and forget what I had done or even more frighteningly, actually be completely aware and actually taking pleasure in said scenarios based around my intrusive thoughts. I thought I had a monster, living inside me, just waiting for its perfect time to attack. I wouldn't know it until I knew it.\\nI have lived (and still live) in complete fear that I am my thoughts and they are a tremendous flaw in my personality. I guess I'm still yet to convince myself that it is true but as you all know, you have your ups and downs with this ever so painful disorder. It has been difficult to me, as Im coming to terms with having OCD, I am currently piecing together all my symptoms and all the intrusive thoughts I've ever had throughout my life. It's like they've all come back at me and I'm in a bit of a pickle. But, I will be getting help very soon, just waiting to find a specialist in OCD and CBT in the Sheffield area and I will be making steps to make my life manageable again as I seemed to of gone off the rails after some family related issues and the breakdown of my relationship with my amazing ex girlfriend. And I am hopeful, even though I am actually scared. And admitting to being scared is something I've never done, even though scared is what I've been all my life. However, opening up to my loved ones about my thoughts, I have received nothing but love, support and compassion and honestly... That's what I was most scared of, their reaction to my thoughts, and in that moment I knew that I had lived in fear for too long. They're heartbroken I'm going through this and have been for a long time, but only because they see me for what I don't. A normal, human being. Just like everyone else on this forum, or reading the forum. You're all normal, at least to us. And take comfort in that as did I when I came across these posts. \\nThere's a lyric that I've always been attached to, by a band called Meshuggah (shout out to all metal heads on this forum) and I'd love to share it. \\n'The struggle to free myself from restraints, becomes my very shackles.' \\nI hope that whoever reads this post, whether youre someone who has been diagnosed with OCD for years or someone who is finding answers. Please know you're not alone in this. And it will and can get better because ultimately you deserve it and you ought to have the drive to go out there and do it. Because you are not your thoughts. You know what you are, just look a little deeper, and you'll see you for the beautiful person you are, because all you're doing and all I'm doing, is our own disorderly way of protecting us from the things we fear the most. \\nHave a good one guys. Enjoy the glorious weather. Thankyou so much.</td>\n",
              "      <td>['compulsion', 'anger', 'symptom', 'compassion', 'joy', 'depression', 'hope', 'fear', 'OCD', 'Intrusive thoughts', 'Thought']</td>\n",
              "      <td>1</td>\n",
              "      <td>1</td>\n",
              "      <td>Aggressive intrusive thoughts, Contamination intrusive thoughts, Doubt intrusive thoughts, Hoarding intrusive thoughts, Religious intrusive thoughts, Sexual intrusive thoughts, Somatic intrusive thoughts, Symmetry intrusive thoughts, morbid thoughts, Mental image, Homicidal thoughts, Persistent thoughts, Irrational thoughts, Suicidal ideation, Sexual thought, Aggressive thought, Contamination thought, Doubt thought, Hoarding thought, Obsessional thoughts, Religious thought, Somatic thought, Symmetry thought, annoyance, fury, rage, terror, panic, rage, wrath, LGBTQ wrath, gay male wrath, panic, moral panic, Compulsive behavior, Compulsion</td>\n",
              "    </tr>\n",
              "    <tr>\n",
              "      <th>2</th>\n",
              "      <td>Hi, \\nFirst, I hope everyone managed to have some joy and happiness this Christmas, especially those who are struggling a lot at the moment. \\nSecond, this post is going to be weird so I apologise.\\nToday I realised something very important. I realised that I actually am a bad person. When I look around I see normal and kind people; when I look at myself I see something disguting and weird (but not in a good way). This sounds silly but I received lots of presents today (I've never received so many before) and I felt so guilty. I don't deserve good things or people in my life. \\nBesides the fears of being attracted to children and being an abuser, I realised that I have so many other small obsessions. And they are absolutely disgusting. Take today for example. While having a nap with my boyfriend I had the feeling that I raped him by touching him in a weird way (by accident) and not doing anything about it for 30 seconds or so. While playing with my boyfriend's sister's cats I felt some sort of sick joy; I don't know if that was because I thought they were cute or because of something else. And these are only two examples, but there are so, so, so many other things that make me feel like a deviant and monster. My brain and body are so repugnant because they are the house of some of the most abnormal thoughts and feelings about the most normal things in the world, which automatically makes me a monster. And things would probably be easier if I were sure I didn't like all these feelings and thoughts, but here is the thing: I'm not sure. On the contrary, I think I do like and enjoy them, and I'm just too scared to accept it hence pretend to be scared, anxious and worried about it.\\nI think there is something seriously wrong with me. I'm a terrible person and I can feel it - I know this sounds weird but I can actually feel it. And because of that I don't want to be alive anymore, I really don't. For some reason I know I won't be able to survive like this for more than 10 (or even 5) years. I will never be happy with myslef; I'm way too rotten and evil inside for that to happen. \\nAgain, I apologise. I know this is not the post you would like to see during this festive period.</td>\n",
              "      <td>['hope', 'happiness', 'guilt', 'fear', 'obsession', 'disgust', 'joy', 'Thought']</td>\n",
              "      <td>0</td>\n",
              "      <td>1</td>\n",
              "      <td>Aggressive obsession, Contamination obsession, Doubt obsession, Hoarding obsession, Religious obsession, Sexual obsession, Somatic obsession, Symmetry obsession, morbid thoughts, Mental image, Homicidal thoughts, Persistent thoughts, Irrational thoughts, Suicidal ideation, Sexual thought, Aggressive thought, Contamination thought, Doubt thought, Hoarding thought, Obsessional thoughts, Religious thought, Somatic thought, Symmetry thought, survivor guilt, core disgust, animal-nature disgust, interpersonal disgust, moral disgust, terror, panic, joy, serenity, amusement, elation, euphoria, contentment, enjoyment, hate, loathing, anger, resentment, misanthropy, self-hate, self-loathing, rage, misandry, misogyny, wrath, internalized misandry, transmisandry, internalized misogyny, transmisogyny, misogynoir, fat misogyny, LGBTQ wrath, transmisogynoir, gay male wrath, panic, moral panic, Obsession</td>\n",
              "    </tr>\n",
              "    <tr>\n",
              "      <th>3</th>\n",
              "      <td>Hello everyone. I could really use your help right now in identifying whether this is another OCD obsession or just my mind being corrupt\\nI hav suffered before with OCD obsessions about harming my family and it was the worst experience of my life. I did get treatment in the form of CBT and this helped. However, after my A level exams (which were STRESSFULL) my OCD has returned and now I obsess over harm, inappropriately touching people etc.\\nApart from this, a new obsession has come. Whenever I see any young child laughing or playing or just sitting (usually my 8 year old cousin who visits us) I start to have intrusive thought about negative experiences in my own childhood. My father was an alcoholic which left me with very panicky experiences. I get really distressed by thesehorrible reminders and I do cry.\\nAs a result, I avoid playing with my cousin at all costs so don't have to dwell on my own childhood and feel depressed. However, just seeing my cousin once brings these horrible memories which are followed by on-going thoughts in my mind that tell me\\n'I'm hopeless due to my childhood', 'I will never amount to anything' and 'My childhood made me this way'.\\nPlease help me. I need to know if this is another OCD obsession so I can find some peace of mind and know its not me being a bitter and twisted idiot.\\nSo is this OCD???</td>\n",
              "      <td>['Treatment', 'hope', 'Thought', 'obsession', 'OCD']</td>\n",
              "      <td>0</td>\n",
              "      <td>1</td>\n",
              "      <td>Aggressive obsession, Contamination obsession, Doubt obsession, Hoarding obsession, Religious obsession, Sexual obsession, Somatic obsession, Symmetry obsession, prophylactic treatment, therapeutic procedure, chemotherapy procedure, immunotherapy procedure, physical therapy procedure, radiation therapy procedure, transplantation, solid organ transplant, transfusion, morbid thoughts, Mental image, Homicidal thoughts, Persistent thoughts, Irrational thoughts, Suicidal ideation, Sexual thought, Aggressive thought, Contamination thought, Doubt thought, Hoarding thought, Obsessional thoughts, Religious thought, Somatic thought, Symmetry thought, Obsession</td>\n",
              "    </tr>\n",
              "    <tr>\n",
              "      <th>4</th>\n",
              "      <td>Though it comes in many flavors, one of the more common OCD themes we see on the forum is that of (no) crime and punishment. I wrote it that way for a reason. The sufferer believes they made an egregious mistake or have even committed a crime (what they did was so terrible), yet everyone else on the forum responds that no such crime exists or that the mistake is nothing to worry about. This theme has one thing in common: the sufferer's steadfast determination to punish themselves for the perceived transgression.\\nMany times someone will raise an issue like this on the forum, then vehemently stick to the belief that the situation has nothing to do with OCD. We see it so often here one would have to wonder how it could not be OCD, since the posts appear on an OCD forum. Further, people with this particular theme often have other, more easily identifiable versions of OCD, lending credence to the belief that the current problem is also OCD.\\nThe main reason why people balk at the thought that OCD is involved is that the situation (the crime) was real. OCD apparently didn't have any part in the formation of the crime/mistake. While that appears to be true in most cases of this theme, the person nonetheless is dealing with OCD now. Real mistakes or errors in judgment or perceived crimes can happen in real life. OCD comes into play when the person becomes overly focused on the mistake/crime/error to the detriment of their ability to live a quality life.\\nSometimes the 'crime' took place recently. In many cases it happened years and years ago but suddenly popped into the mind of the OCD sufferer. In all cases sufferers with this theme become obsessed with what happened. They fixate on the alleged crime and can't shake it from their mind. The thought of what happened (obsession) causes distress. And the sufferer performs compulsions, most notably ruminating -- going over the event in their mind repeatedly.\\nA notable manifestation of this theme is the very common belief that the crime/mistake/error made in the past is absolutely terrible. Sufferers commonly come across as being devastated that they made such a mistake, which they believe is life changing. Interestingly, the nearly unanimous verdict of responders to threads about this OCD theme is that the crime/mistake/error appears to be minor in origin and not worth worrying about.\\nOne by-product of this OCD theme and the way it manifests is what can be an overwhelming feeling of guilt. As everyone should know, OCD involves obsessions (intrusive thoughts) that cause distress. With this theme the majority of that distress is expressed as guilt. Consquently, sufferers with this theme commonly believe that they should be/must be punished for their transgression. This is expressed in self loathing comments and an interest shown in confessing the transgression to loved ones/the police.\\nOther people look at the situations and see they are minor incidents that should be dismissed, but the sufferers of this theme truly believe it is a case of crime and required punishment. Attempts at reassuring sufferers that they did not do bad, that they are not bad and that they deserve no punishment usually fall on deaf ears.\\nLike with other OCD themes, sufferers of this theme are their own worst enemies. Although the obsessions (thoughts that the sufferer did wrong) can be fleeting and last only seconds, sufferers can spend hours and hours ruminating on the subject. They can perform other compulsions, such as searching the Internet for stories of people who similarly screwed up, searching to find out what truly bad people do as a way of comparison, seeking reassurance and confessing.\\nInterestingly, with this OCD theme, the reassurance seeking can be the reverse of what is normally seen. While some people may ask for reassurance that they aren't a terrible person, some sufferers come across as if they want confirmation that they are bad and that what they did was egregious, terrible and worth punishment.\\nThis theme can result in cognitive distortions being exhibited, including all-or-nothing-thinking. \"\"\"\"I did X, therefore I am evil.\"\"\"\"\\nLike any other theme, this theme can be dealt with using the tenets of CBT. From the cognitive side the person can start saying positive statements as opposed to negative, all-or-nothing-thinking statements. (I am a good person. I make mistakes but I am still a good person).\\nOn the behavioral side, it is important that sufferers identify the compulsions they perform and work to resist them. No doubt ruminating is a big one with this theme. Refusal to confess past transgressions is essential, as is stopping searching on the Internet for similar stories.</td>\n",
              "      <td>['quality', 'Intrusive thoughts', 'fall', 'behavior', 'guilt', 'obsession', 'compulsion', 'interest', 'OCD', 'Thought']</td>\n",
              "      <td>1</td>\n",
              "      <td>1</td>\n",
              "      <td>Aggressive obsession, Contamination obsession, Doubt obsession, Hoarding obsession, Religious obsession, Sexual obsession, Somatic obsession, Symmetry obsession, Aggressive intrusive thoughts, Contamination intrusive thoughts, Doubt intrusive thoughts, Hoarding intrusive thoughts, Religious intrusive thoughts, Sexual intrusive thoughts, Somatic intrusive thoughts, Symmetry intrusive thoughts, feeding behavior, behavioral defense response, multi-organism behavior, multi-organism behavior, behavioral response to wounding, learning or memory, reproductive behavior, reproductive behavior, rhythmic behavior, grooming behavior, locomotory behavior, visual behavior, chemosensory behavior, behavioral response to nutrient, mechanosensory behavior, adult behavior, larval behavior, host-seeking behavior, foraging behavior, hatching behavior, exploration behavior, motor behavior, thermosensory behavior, behavioral response to water deprivation, behavioral response to pain, general adaptation syndrome, behavioral process, crying behavior, vocalization behavior, vocalization behavior, sexual behavior, unusual behavior, emotional behavioural process, problem solving behaviour, Avoidance behavior, Hypervigilance behavior, Reassurance behavior, conditioned taste aversion, suckling behavior, eating behavior, drinking behavior, adult feeding behavior, larval feeding behavior, salt aversion, behavioral fear response, behavioral defense response to insect, behavioral defense response to nematode, aggressive behavior, aggressive behavior, social behavior, injection of substance in to other organism, multi-organism reproductive behavior, interpersonal process, interpersonal process, interpersonal behavior, learning, memory, learned vocalization behavior or vocal learning, mating behavior, proceptive behavior, oviposition, post-mating behavior, parental behavior, acceptive behavior, circadian behavior, adult locomotory behavior, walking behavior, larval locomotory behavior, turning behavior, locomotory exploration behavior, swimming behavior, locomotor rhythm, pattern orientation, optokinetic behavior, visual learning, chemosensory jump behavior, proboscis extension reflex, olfactory behavior, behavioral response to chemical pain, auditory behavior, behavioral response to nicotine, behavioral response to cocaine, behavioral response to ethanol, behavioral response to ether, larval foraging behavior, adult foraging behavior, foraging behavior by probing substrate, psychomotor behavior, innate vocalization behavior, learned vocalization behavior, copulatory vocalization, emotional speaking behaviour, sexuality, sexually aggressive behavior, hypersexual behavior, hyposexual behavior, abnormal sexual behavior, normal sexual behavior, suggestive sexual behavior, sexual contact, abnormal behavior, crying, aggression, facial expression behaviour, emotional bodily movement behaviour, mathematical problem solving behavior, visual problem solving behavior, language problem solving behavior, reduction of food intake in response to dietary excess, pharyngeal pumping, angiotensin-mediated drinking behavior, predatory behavior, inter-male aggressive behavior, fear-induced aggressive behavior, irritable aggressive behavior, territorial aggressive behavior, maternal aggressive behavior, instrumental aggressive behavior, microaggressive behavior, passive-aggressive behavior, destructive behavior, envenomation resulting in modification of morphology or physiology of other organism, injection of substance into other organism during feeding on blood of other organism, communication, attachment, associative learning, operant conditioning, nonassociative learning, motor learning, observational learning, short-term memory, anesthesia-resistant memory, long-term memory, medium-term memory, vocal learning, courtship behavior, courtship behavior, male mating behavior, female mating behavior, circadian mating behavior, mating plug formation, mating behavior, sex discrimination, post-mating oviposition, maternal behavior, paternal behavior, oral incubation, eclosion rhythm, circadian sleep/wake cycle process, circadian sleep/wake cycle, rapid eye movement sleep, non-rapid eye movement sleep behavior, circadian rhythm, circadian regulation of heart rate, circadian regulation of systemic arterial blood pressure, circadian temperature homeostasis, adult walking behavior, flight behavior, jump response, larval walking behavior, larval turning behavior, larval wandering behavior, larval burrowing behavior, turning behavior involved in mating, optomotor response, olfactory learning, behavioral response to acetic acid induced pain, behavioral response to formalin induced pain, speaking loudly, speaking softly, speaking with trembling voice, speaking assertively, not speaking, speaking a short utterance, speaking a long utterance, speaking with altered speech melody, speaking in a disturbed fashion, speaking at a faster rate, speaking at a slower rate, canonical emotional voice utterances, plant sexuality, allosexuality, gray asexuality, non-heterosexuality, autosexuality, fluid sexuality, pomosexuality, sexually abusive behavior, nonparaphilic hypersexual behavior, compulsive sexual behavior, flirting, autistic behavior, impulsive behavior, violence, smiling, jaw dropping, pressing lips together, raising eyebrows, frowning, closing eyes, opening eyes widely, neutral expression, canonical emotional facial expression, moving abruptly, moving towards people, moving away from people, staying still, capturing behaviour, microassault, microinsult, microinvalidation, self-destructive behavior, envenomation resulting in hemorrhagic damage to other organism, envenomation resulting in modulation of blood coagulation in other organism, envenomation resulting in induction of edema in other organism, envenomation resulting in impairment of hemostasis in other organism, envenomation resulting in pore formation in membrane of other organism, envenomation resulting in modulation of ion channel activity in other organism, envenomation resulting in modulation of mast cell degranulation in other organism, envenomation resulting in proteolysis in other organism, envenomation resulting in modulation of transmission of nerve impulse in other organism, envenomation resulting in modulation of blood pressure in other organism, envenomation resulting in modulation of signal transduction in other organism, envenomation resulting in modulation of receptor activity in other organism, envenomation resulting in muscle damage in other organism, envenomation resulting in modulation of apoptotic process in other organism, envenomation resulting in zymogen activation in other organism, envenomation resulting in negative regulation of heart rate of other organism, envenomation resulting in modulation of cell migration in other organism, envenomation resulting in modulation of complement activation in other organism, envenomation resulting in cytolysis in other organism, envenomation resulting in modulation of sensory perception of pain in other organism, envenomation resulting in positive regulation of argininosuccinate synthase activity in other organism, social networking, nonverbal communication, verbal behavior, social communication, propaganda, personal communication, linguistic communication, non-linguistic communication, conditioned place preference, habituation, sensitization, dishabituation, imitative learning, romantic behavior, seductive behavior, male courtship behavior, response to hermaphrodite contact, vulval location, spicule insertion, regulation of female receptivity, female courtship behavior, circadian sleep/wake cycle, wakefulness, circadian sleep/wake cycle, REM sleep, circadian sleep/wake cycle, non-REM sleep, circadian sleep/wake cycle, sleep, circadian period, circadian persistence, circadian phase, canonical angry voice utterance, canonical fearful voice utterance, canonical disgusted voice utterance, canonical happy voice utterance, canonical sad voice utterance, canonical surprised voice utterance, nonparaphilic compulsive sexual behavior, compulsive behavior, canonical angry facial expression, canonical fearful facial expression, canonical happy facial expression, canonical disgusted facial expression, canonical sad facial expression, canonical surprised facial expression, chase prey, flush prey, construct capturing device, stalk prey, capturing prey, self-injurious behavior, envenomation resulting in blood vessel extracellular matrix damage, causing hemorrhagic damage in other organism, envenomation resulting in modulation of platelet aggregation in other organism, envenomation resulting in positive regulation of blood coagulation in other organism, envenomation resulting in negative regulation of blood coagulation in other organism, envenomation resulting in fibrinolysis in other organism, envenomation resulting in depletion of circulating fibrinogen in other organism, envenomation resulting in modulation of calcium channel activity in other organism, envenomation resulting in modulation of voltage-gated sodium channel activity in other organism, envenomation resulting in modulation of voltage-gated potassium channel activity in other organism, envenomation resulting in modulation of acid-sensing ion channel activity in other organism, envenomation resulting in positive regulation of mast cell degranulation in other organism, envenomation resulting in positive regulation of blood pressure in other organism, envenomation resulting in negative regulation of blood pressure in other organism, envenomation resulting in positive regulation of signal transduction in other organism, envenomation resulting in modulation of glucagon-like peptide receptor 1 activity in other organism, envenomation resulting in modulation of G-protein coupled receptor activity in other organism, envenomation resulting in modulation of vasoactive intestinal polypeptide receptor activity in other organism, envenomation resulting in myocyte killing in other organism, envenomation resulting in damage of muscle extracellular matrix in other organism, envenomation resulting in negative regulation of cell migration in other organism, envenomation resulting in positive regulation of cell migration in other organism, envenomation resulting in modulation of complement activation, classical pathway in other organism, envenomation resulting in modulation of complement activation, lectin pathway in other organism, envenomation resulting in modulation of complement activation, alternative pathway in other organism, envenomation resulting in hemolysis in other organism, envenomation resulting in negative regulation of sensory perception of pain in other organism, online social networking, oculesics, proxemics, kinesics, haptics, chronemics, vocalics, speech, social media, anti-LGBTQ propaganda, police propaganda, spoken communication, written communication, sign-language communication, gestural communication, facial expression communication, male courtship behavior, orientation prior to leg tapping and wing vibration, male courtship behavior, tapping to detect pheromone, male courtship behavior, veined wing extension, male courtship behavior, proboscis-mediated licking, male courtship behavior, veined wing generated song production, negative regulation of female receptivity, regulation of female receptivity, post-mating, positive regulation of female receptivity, compulsive masturbation, addictive behavior, repetitive compulsive behavior, envenomation resulting in negative regulation of platelet aggregation in other organism, envenomation resulting in positive regulation of platelet aggregation in other organism, envenomation resulting in plasminogen activation in other organism, envenomation resulting in fibrinogenolysis in other organism, envenomation resulting in negative regulation of calcium channel activity in other organism, envenomation resulting in negative regulation of voltage-gated sodium channel activity in other organism, envenomation resulting in positive regulation of voltage-gated sodium channel activity in other organism, envenomation resulting in negative regulation of voltage-gated potassium channel activity in other organism, envenomation resulting in positive regulation of acid-sensing ion channel activity in other organism, envenomation resulting in negative regulation of acid-sensing ion channel activity in other organism, envenomation resulting in vasodilation in other organism, envenomation resulting in positive regulation of glucagon-like peptide receptor 1 activity in other organism, envenomation resulting in positive regulation of G-protein coupled receptor activity in other organism, envenomation resulting in positive regulation of vasoactive intestinal polypeptide receptor activity in other organism, envenomation resulting in negative regulation of complement activation, classical pathway in other organism, envenomation resulting in positive regulation of complement activation, classical pathway in other organism, envenomation resulting in negative regulation of complement activation, lectin pathway in other organism, envenomation resulting in positive regulation of complement activation, lectin pathway in other organism, envenomation resulting in positive regulation of complement activation, alternative pathway in other organism, envenomation resulting in negative regulation of complement activation, alternative pathway in other organism, gaze, eye contact, gesture, kiss, hug, tickle, handshake, massage, make-out, hold hands, voice, inappropriate speech, LGBTQ-related speech, erotic speech, homophobic propaganda, transphobic propaganda, male courtship behavior, veined wing vibration, negative regulation of female receptivity, post-mating, positive regulation of female receptivity, post-mating, envenomation resulting in negative regulation of voltage-gated calcium channel activity in other organism, envenomation resulting in slowing of activation kinetics of voltage-gated potassium channel in other organism, envenomation resulting in occlusion of the pore of voltage-gated potassium channel in other organism, gendered gaze, oppositional gaze, occupational gaze, sexuality gaze, safe move, manual gesture, non-manual gesture, kisses by function, kisses by anatomy, group hug, anal tickle, erotic massage, gendered voice, voice of color, echolalia, coprolalia, transgender speech, gay male speech, lesbian speech, envenomation resulting in negative regulation of high voltage-gated calcium channel activity in other organism, envenomation resulting in negative regulation of low voltage-gated calcium channel activity in other organism, male gaze, female gaze, cisgender gaze, postcolonial gaze, medical gaze, straight gaze, home sign, facial expression, romantic kiss, ritualistic kiss, friendly kiss, cheek kiss, nose kiss, lip kiss, hand kiss, forehead kiss, tongue kiss, anal kiss, tantric massage, feminine voice, masculine voice, transgender voice, male tourist gaze, male-to-male gaze, female-to-female gaze, deep kiss, kiss of peace, kiss of respect, transfeminine voice, transmasculine voice, morbid thoughts, Mental image, Homicidal thoughts, Persistent thoughts, Irrational thoughts, Suicidal ideation, Sexual thought, Aggressive thought, Contamination thought, Doubt thought, Hoarding thought, Obsessional thoughts, Religious thought, Somatic thought, Symmetry thought, relational quality, bodily quality, manifestation of a disease, phenotype, configuration, syndrome, recovered from disease, qualitative sign, mental quality, clinical manifestation of a disease, preclinical manifestation of a disease, clinical phenotype, disease phenotype, pathological physical configuration, intentionality, survivor guilt, Compulsive behavior, Compulsion, Obsession</td>\n",
              "    </tr>\n",
              "  </tbody>\n",
              "</table>\n",
              "</div>\n",
              "    <div class=\"colab-df-buttons\">\n",
              "\n",
              "  <div class=\"colab-df-container\">\n",
              "    <button class=\"colab-df-convert\" onclick=\"convertToInteractive('df-6d5e0462-bbaf-46b0-a921-c1344aee6cc1')\"\n",
              "            title=\"Convert this dataframe to an interactive table.\"\n",
              "            style=\"display:none;\">\n",
              "\n",
              "  <svg xmlns=\"http://www.w3.org/2000/svg\" height=\"24px\" viewBox=\"0 -960 960 960\">\n",
              "    <path d=\"M120-120v-720h720v720H120Zm60-500h600v-160H180v160Zm220 220h160v-160H400v160Zm0 220h160v-160H400v160ZM180-400h160v-160H180v160Zm440 0h160v-160H620v160ZM180-180h160v-160H180v160Zm440 0h160v-160H620v160Z\"/>\n",
              "  </svg>\n",
              "    </button>\n",
              "\n",
              "  <style>\n",
              "    .colab-df-container {\n",
              "      display:flex;\n",
              "      gap: 12px;\n",
              "    }\n",
              "\n",
              "    .colab-df-convert {\n",
              "      background-color: #E8F0FE;\n",
              "      border: none;\n",
              "      border-radius: 50%;\n",
              "      cursor: pointer;\n",
              "      display: none;\n",
              "      fill: #1967D2;\n",
              "      height: 32px;\n",
              "      padding: 0 0 0 0;\n",
              "      width: 32px;\n",
              "    }\n",
              "\n",
              "    .colab-df-convert:hover {\n",
              "      background-color: #E2EBFA;\n",
              "      box-shadow: 0px 1px 2px rgba(60, 64, 67, 0.3), 0px 1px 3px 1px rgba(60, 64, 67, 0.15);\n",
              "      fill: #174EA6;\n",
              "    }\n",
              "\n",
              "    .colab-df-buttons div {\n",
              "      margin-bottom: 4px;\n",
              "    }\n",
              "\n",
              "    [theme=dark] .colab-df-convert {\n",
              "      background-color: #3B4455;\n",
              "      fill: #D2E3FC;\n",
              "    }\n",
              "\n",
              "    [theme=dark] .colab-df-convert:hover {\n",
              "      background-color: #434B5C;\n",
              "      box-shadow: 0px 1px 3px 1px rgba(0, 0, 0, 0.15);\n",
              "      filter: drop-shadow(0px 1px 2px rgba(0, 0, 0, 0.3));\n",
              "      fill: #FFFFFF;\n",
              "    }\n",
              "  </style>\n",
              "\n",
              "    <script>\n",
              "      const buttonEl =\n",
              "        document.querySelector('#df-6d5e0462-bbaf-46b0-a921-c1344aee6cc1 button.colab-df-convert');\n",
              "      buttonEl.style.display =\n",
              "        google.colab.kernel.accessAllowed ? 'block' : 'none';\n",
              "\n",
              "      async function convertToInteractive(key) {\n",
              "        const element = document.querySelector('#df-6d5e0462-bbaf-46b0-a921-c1344aee6cc1');\n",
              "        const dataTable =\n",
              "          await google.colab.kernel.invokeFunction('convertToInteractive',\n",
              "                                                    [key], {});\n",
              "        if (!dataTable) return;\n",
              "\n",
              "        const docLinkHtml = 'Like what you see? Visit the ' +\n",
              "          '<a target=\"_blank\" href=https://colab.research.google.com/notebooks/data_table.ipynb>data table notebook</a>'\n",
              "          + ' to learn more about interactive tables.';\n",
              "        element.innerHTML = '';\n",
              "        dataTable['output_type'] = 'display_data';\n",
              "        await google.colab.output.renderOutput(dataTable, element);\n",
              "        const docLink = document.createElement('div');\n",
              "        docLink.innerHTML = docLinkHtml;\n",
              "        element.appendChild(docLink);\n",
              "      }\n",
              "    </script>\n",
              "  </div>\n",
              "\n",
              "\n",
              "<div id=\"df-e909c857-56f3-45fc-9cd3-17d17968c383\">\n",
              "  <button class=\"colab-df-quickchart\" onclick=\"quickchart('df-e909c857-56f3-45fc-9cd3-17d17968c383')\"\n",
              "            title=\"Suggest charts\"\n",
              "            style=\"display:none;\">\n",
              "\n",
              "<svg xmlns=\"http://www.w3.org/2000/svg\" height=\"24px\"viewBox=\"0 0 24 24\"\n",
              "     width=\"24px\">\n",
              "    <g>\n",
              "        <path d=\"M19 3H5c-1.1 0-2 .9-2 2v14c0 1.1.9 2 2 2h14c1.1 0 2-.9 2-2V5c0-1.1-.9-2-2-2zM9 17H7v-7h2v7zm4 0h-2V7h2v10zm4 0h-2v-4h2v4z\"/>\n",
              "    </g>\n",
              "</svg>\n",
              "  </button>\n",
              "\n",
              "<style>\n",
              "  .colab-df-quickchart {\n",
              "      --bg-color: #E8F0FE;\n",
              "      --fill-color: #1967D2;\n",
              "      --hover-bg-color: #E2EBFA;\n",
              "      --hover-fill-color: #174EA6;\n",
              "      --disabled-fill-color: #AAA;\n",
              "      --disabled-bg-color: #DDD;\n",
              "  }\n",
              "\n",
              "  [theme=dark] .colab-df-quickchart {\n",
              "      --bg-color: #3B4455;\n",
              "      --fill-color: #D2E3FC;\n",
              "      --hover-bg-color: #434B5C;\n",
              "      --hover-fill-color: #FFFFFF;\n",
              "      --disabled-bg-color: #3B4455;\n",
              "      --disabled-fill-color: #666;\n",
              "  }\n",
              "\n",
              "  .colab-df-quickchart {\n",
              "    background-color: var(--bg-color);\n",
              "    border: none;\n",
              "    border-radius: 50%;\n",
              "    cursor: pointer;\n",
              "    display: none;\n",
              "    fill: var(--fill-color);\n",
              "    height: 32px;\n",
              "    padding: 0;\n",
              "    width: 32px;\n",
              "  }\n",
              "\n",
              "  .colab-df-quickchart:hover {\n",
              "    background-color: var(--hover-bg-color);\n",
              "    box-shadow: 0 1px 2px rgba(60, 64, 67, 0.3), 0 1px 3px 1px rgba(60, 64, 67, 0.15);\n",
              "    fill: var(--button-hover-fill-color);\n",
              "  }\n",
              "\n",
              "  .colab-df-quickchart-complete:disabled,\n",
              "  .colab-df-quickchart-complete:disabled:hover {\n",
              "    background-color: var(--disabled-bg-color);\n",
              "    fill: var(--disabled-fill-color);\n",
              "    box-shadow: none;\n",
              "  }\n",
              "\n",
              "  .colab-df-spinner {\n",
              "    border: 2px solid var(--fill-color);\n",
              "    border-color: transparent;\n",
              "    border-bottom-color: var(--fill-color);\n",
              "    animation:\n",
              "      spin 1s steps(1) infinite;\n",
              "  }\n",
              "\n",
              "  @keyframes spin {\n",
              "    0% {\n",
              "      border-color: transparent;\n",
              "      border-bottom-color: var(--fill-color);\n",
              "      border-left-color: var(--fill-color);\n",
              "    }\n",
              "    20% {\n",
              "      border-color: transparent;\n",
              "      border-left-color: var(--fill-color);\n",
              "      border-top-color: var(--fill-color);\n",
              "    }\n",
              "    30% {\n",
              "      border-color: transparent;\n",
              "      border-left-color: var(--fill-color);\n",
              "      border-top-color: var(--fill-color);\n",
              "      border-right-color: var(--fill-color);\n",
              "    }\n",
              "    40% {\n",
              "      border-color: transparent;\n",
              "      border-right-color: var(--fill-color);\n",
              "      border-top-color: var(--fill-color);\n",
              "    }\n",
              "    60% {\n",
              "      border-color: transparent;\n",
              "      border-right-color: var(--fill-color);\n",
              "    }\n",
              "    80% {\n",
              "      border-color: transparent;\n",
              "      border-right-color: var(--fill-color);\n",
              "      border-bottom-color: var(--fill-color);\n",
              "    }\n",
              "    90% {\n",
              "      border-color: transparent;\n",
              "      border-bottom-color: var(--fill-color);\n",
              "    }\n",
              "  }\n",
              "</style>\n",
              "\n",
              "  <script>\n",
              "    async function quickchart(key) {\n",
              "      const quickchartButtonEl =\n",
              "        document.querySelector('#' + key + ' button');\n",
              "      quickchartButtonEl.disabled = true;  // To prevent multiple clicks.\n",
              "      quickchartButtonEl.classList.add('colab-df-spinner');\n",
              "      try {\n",
              "        const charts = await google.colab.kernel.invokeFunction(\n",
              "            'suggestCharts', [key], {});\n",
              "      } catch (error) {\n",
              "        console.error('Error during call to suggestCharts:', error);\n",
              "      }\n",
              "      quickchartButtonEl.classList.remove('colab-df-spinner');\n",
              "      quickchartButtonEl.classList.add('colab-df-quickchart-complete');\n",
              "    }\n",
              "    (() => {\n",
              "      let quickchartButtonEl =\n",
              "        document.querySelector('#df-e909c857-56f3-45fc-9cd3-17d17968c383 button');\n",
              "      quickchartButtonEl.style.display =\n",
              "        google.colab.kernel.accessAllowed ? 'block' : 'none';\n",
              "    })();\n",
              "  </script>\n",
              "</div>\n",
              "\n",
              "    </div>\n",
              "  </div>\n"
            ],
            "application/vnd.google.colaboratory.intrinsic+json": {
              "type": "dataframe",
              "variable_name": "df",
              "summary": "{\n  \"name\": \"df\",\n  \"rows\": 9497,\n  \"fields\": [\n    {\n      \"column\": \"post\",\n      \"properties\": {\n        \"dtype\": \"string\",\n        \"num_unique_values\": 9345,\n        \"samples\": [\n          \"jus thought id let you all know some of my copin techniques at the min im strugglin with intrusive thought but any way i try not to analyse every thought or feelin i get, i say in my head \\\"\\\"\\\"\\\"dont anylise every thought or feelin \\\"\\\"\\\"\\\"for the contamination side of it i say to myself \\\"\\\"\\\"\\\" i would seee it why would it just go on me?\\\"\\\"\\\"\\\" little things like that any one else got any copin techniques for intrusive thoughts please let me know\",\n          \"After reading that article that I posted earlier from the daily mail I was fine with it and just read it and thought oh that's awful but then moved on like I do when I read any news articles. But now I keep having intrusive thoughts and horrible urges to hurt my niece now!! I've been fine until I bloody read that article and now I wish I hadn't. I have no one to talk to about this so I always feel trapped and alone. I've tried talking to my mum and I thought she understoodcat first but now when I go to talk to her it's as if she's just blocking me out and does not want to deal with the fact that her daughter is mad:( xx\\nEdited August 23, 2013 by RiHa\",\n          \"I started a new job last month and I've been experiencing an increase in anxiety since then. I have had a noticeable increase in checking compulsions, but they don't seem to fit a particular theme. Some are clearly related to contamination (my usual OCD theme) but others don't seem to have a root at all. For example, I find it difficult to leave my office to go home. I check the windows, plug sockets, drawers etc., but it's more of a general unease that's driving it rather than a fear of something in particular.\\nWhen I get home, I find it really difficult to relax and forget about the day. Again, it's a general feeling of unease more than anything. I worry about how I come across to people, whether I'm meeting their expectations, do I really deserve to be in that job? I spend all evening running the days events through my mind to try and find answers to these questions, but of course it just winds me up even further.\\nI have a doctor's appointment on Monday to discuss my OCD symptoms but I'm not even sure what is OCD and what's not any more. Am I just wasting his time too? Everyone gets anxious when they start a new job. Is it just a normal response that I'm experiencing?\\nI've got the week off work next week when my son starts school. My brain is telling me that it'll be do me good to have a break but I really don't want to. I feel compelled to plough on until I feel at ease. It's making me anxious just thinking about taking time off because my brain is so desparately trying to find certainty, when to be honest it probably doesn't exist. It's just a matter of time, waiting until I settle in.\\nI suppose my problem is, I don't know what I'm dealing with. Is this all part of the OCD, does it fit a more GAD-type picture, or is it just a normal response to the stress of starting a new job? I really don't know any more!\"\n        ],\n        \"semantic_type\": \"\",\n        \"description\": \"\"\n      }\n    },\n    {\n      \"column\": \"prefLabel\",\n      \"properties\": {\n        \"dtype\": \"string\",\n        \"num_unique_values\": 4993,\n        \"samples\": [\n          \"['hope', 'Intrusive thoughts', 'Thought', 'shock']\",\n          \"['Intrusive thoughts', 'anxiety', 'anxiety', 'fear', 'urge', 'Thought']\",\n          \"['Thought', 'depression', 'OCD', 'hope', 'obsession', 'symptom']\"\n        ],\n        \"semantic_type\": \"\",\n        \"description\": \"\"\n      }\n    },\n    {\n      \"column\": \"compulsion\",\n      \"properties\": {\n        \"dtype\": \"number\",\n        \"std\": 0,\n        \"min\": 0,\n        \"max\": 1,\n        \"num_unique_values\": 2,\n        \"samples\": [\n          1,\n          0\n        ],\n        \"semantic_type\": \"\",\n        \"description\": \"\"\n      }\n    },\n    {\n      \"column\": \"obsession\",\n      \"properties\": {\n        \"dtype\": \"number\",\n        \"std\": 0,\n        \"min\": 0,\n        \"max\": 1,\n        \"num_unique_values\": 2,\n        \"samples\": [\n          0,\n          1\n        ],\n        \"semantic_type\": \"\",\n        \"description\": \"\"\n      }\n    },\n    {\n      \"column\": \"expand1\",\n      \"properties\": {\n        \"dtype\": \"category\",\n        \"num_unique_values\": 1567,\n        \"samples\": [\n          \"Aggressive intrusive thoughts, Contamination intrusive thoughts, Doubt intrusive thoughts, Hoarding intrusive thoughts, Religious intrusive thoughts, Sexual intrusive thoughts, Somatic intrusive thoughts, Symmetry intrusive thoughts, morbid thoughts, Mental image, Homicidal thoughts, Persistent thoughts, Irrational thoughts, Suicidal ideation, Sexual thought, Aggressive thought, Contamination thought, Doubt thought, Hoarding thought, Obsessional thoughts, Religious thought, Somatic thought, Symmetry thought, talking on a phone, talking to someone, talking to yourself, talking [misc], Aggressive urge, Contamination urge, Doubt urge, Hoarding urge, Irrational urge, Religious urge, Sexual urge, Somatic urge, Symmetry urge, Compulsive behavior, Compulsion\",\n          \"castration anxiety, performance anxiety, koro, separation anxiety disorder, separation anxiety disorder, obsessive compulsive disorder, obsessive-compulsive disorder, obsessive-compulsive disorder, phobic disorder, phobic disorder, generalized anxiety disorder, generalized anxiety disorder, post-traumatic stress disorder, neurotic disorder, panic disorder, panic disorder, acute stress disorder, substance-induced anxiety disorder, specific phobia, specific phobia, social phobia, social phobia, agoraphobia, agoraphobia, combat disorder, nosophobia, animal phobia, flying phobia, cancerophobia, AIDS phobia, intense anxiety, addictive behavior, compulsive sexual behavior, repetitive compulsive behavior, nonparaphilic compulsive sexual behavior, compulsive masturbation, Compulsive buying, Compulsive checking, Compulsive cleaning, Compulsive counting, Compulsive eating, Compulsive gambling, Compulsive handwashing, Compulsive hoarding, Compulsive ordering, Compulsive touching, Compulsive washing, Repeating rituals, Ritual hand washing, annoyance, fury, rage, terror, panic, rage, wrath, LGBTQ wrath, gay male wrath, panic, moral panic, Compulsive behavior\"\n        ],\n        \"semantic_type\": \"\",\n        \"description\": \"\"\n      }\n    }\n  ]\n}"
            }
          },
          "metadata": {},
          "execution_count": 11
        }
      ],
      "source": [
        "df.head()"
      ]
    },
    {
      "cell_type": "code",
      "execution_count": null,
      "metadata": {
        "id": "RcaqYs9T70X9"
      },
      "outputs": [],
      "source": [
        "# defne new column named 'post_length' that contain the length of each post in the dataset\n",
        "df[\"post\"] = df[\"post\"].astype(str)\n",
        "df[\"post_length\"]= df[\"post\"].apply(len)"
      ]
    },
    {
      "cell_type": "code",
      "execution_count": null,
      "metadata": {
        "colab": {
          "base_uri": "https://localhost:8080/"
        },
        "id": "gHJz_RVu70cI",
        "outputId": "fa82697a-d30b-459d-c4ae-ab2ba586bf4a"
      },
      "outputs": [
        {
          "output_type": "stream",
          "name": "stdout",
          "text": [
            "the max length post is: 10013\n",
            "the min length post is: 1\n",
            "the avg length post is: 1147.6772665052122\n"
          ]
        }
      ],
      "source": [
        "print('the max length post is:',df['post_length'].max())\n",
        "print('the min length post is:',df['post_length'].min())\n",
        "print('the avg length post is:',df['post_length'].mean())"
      ]
    },
    {
      "cell_type": "code",
      "execution_count": null,
      "metadata": {
        "id": "tNp1M5xX70ny"
      },
      "outputs": [],
      "source": [
        "# delete all posts that its length not in <2000 and >6\n",
        "df = df[df.post_length<2000]\n",
        "df = df[df.post_length>6]"
      ]
    },
    {
      "cell_type": "code",
      "execution_count": null,
      "metadata": {
        "colab": {
          "base_uri": "https://localhost:8080/"
        },
        "id": "vrbNxNYjEjCK",
        "outputId": "dda92918-c805-4d6d-e451-0cb69f66a62a"
      },
      "outputs": [
        {
          "output_type": "stream",
          "name": "stdout",
          "text": [
            "7955\n"
          ]
        }
      ],
      "source": [
        "print(len(df))"
      ]
    },
    {
      "cell_type": "code",
      "execution_count": null,
      "metadata": {
        "id": "K5fV6TX43mmy"
      },
      "outputs": [],
      "source": [
        "# Check for NaN values and replace them with an empty string\n",
        "df['post'] = df['post'].fillna('')"
      ]
    },
    {
      "cell_type": "code",
      "execution_count": null,
      "metadata": {
        "id": "-ClJTEGdDfl4"
      },
      "outputs": [],
      "source": [
        "import re\n",
        "#define the process of text cleaning\n",
        "def deEmojify(text):\n",
        "    regrex_pattern = re.compile(pattern = \"[\"\n",
        "        u\"\\U0001F600-\\U0001F64F\"  # emoticons\n",
        "        u\"\\U0001F300-\\U0001F5FF\"  # symbols & pictographs\n",
        "        u\"\\U0001F680-\\U0001F6FF\"  # transport & map symbols\n",
        "        u\"\\U0001F1E0-\\U0001F1FF\"  # flags (iOS)\n",
        "                           \"]+\", flags = re.UNICODE)\n",
        "    return regrex_pattern.sub(r' ',text)\n",
        "#Clean Text\n",
        "def clean_text(data):\n",
        "    # convert catacter to lowercase\n",
        "    data['clean_text']=data['post'].str.lower()\n",
        "    #remove URLS\n",
        "    data['clean_text'] = data['clean_text'].apply(lambda elem:re.sub(r\"http\\S+\", \"\", elem))\n",
        "    #remove ponctuation\n",
        "    data['clean_text'] = data['clean_text'].apply(lambda elem:re.sub(r\"[^\\w\\s]\", \"\", elem))\n",
        "    #remove\n",
        "    data['clean_text'] = data['clean_text'].apply(lambda elem:re.sub(r'/n',\"\",elem))\n",
        "    #remove degits\n",
        "    data['clean_text'] = data['clean_text'].apply(lambda elem:re.sub(r'\\d+',\"\",elem))\n",
        "    #remove emojis\n",
        "    data['clean_text'] = data['clean_text'].apply(lambda elem:deEmojify(elem))\n",
        "    #remove multiple spaces\n",
        "    data['clean_text'] = data['clean_text'].apply(lambda elem:re.sub(r'\\s+',\" \",elem))\n",
        "    #remove single caracter\n",
        "    data['clean_text'] = data['clean_text'].apply(lambda elem:re.sub(r'\\s+[a-zA-Z]\\s+',\" \",elem))\n",
        "    return data\n",
        "\n",
        "\n",
        "def process_text(text):\n",
        "    stop_words = set(stopwords.words('english'))\n",
        "    lemmatizer = WordNetLemmatizer()\n",
        "\n",
        "    # Handle contractions using the contractions library\n",
        "    expanded_text = contractions.fix(text)\n",
        "\n",
        "    # Lowercasing\n",
        "    expanded_text = expanded_text.lower()\n",
        "\n",
        "    # Tokenization\n",
        "    tokens = word_tokenize(expanded_text)\n",
        "\n",
        "    # Removing Punctuation\n",
        "    tokens = [word for word in tokens if word.isalnum()]\n",
        "\n",
        "    # Removing Stop Words\n",
        "    tokens = [word for word in tokens if word not in stop_words]\n",
        "\n",
        "    # Lemmatization\n",
        "    tokens = [lemmatizer.lemmatize(word) for word in tokens]\n",
        "\n",
        "    return ' '.join(tokens)"
      ]
    },
    {
      "cell_type": "code",
      "execution_count": null,
      "metadata": {
        "id": "Sj-CL7Dv8Tbt"
      },
      "outputs": [],
      "source": [
        "process_df = df.copy()\n",
        "process_df"
      ]
    },
    {
      "cell_type": "code",
      "execution_count": null,
      "metadata": {
        "id": "SrR90yTqFHe-"
      },
      "outputs": [],
      "source": [
        "#apply the process of cleaning for the train and test data\n",
        "process_df = clean_text(process_df)\n",
        "process_df['post'] = process_df['post'].apply(process_text)\n",
        "#process_df['clean_text'] = process_df['clean_text'].apply(process_text)"
      ]
    },
    {
      "cell_type": "code",
      "execution_count": null,
      "metadata": {
        "id": "2aP0_8ew7L8o",
        "colab": {
          "base_uri": "https://localhost:8080/",
          "height": 1000
        },
        "outputId": "29f8aefa-2a3a-494a-b00b-551c80f4d8a1"
      },
      "outputs": [
        {
          "output_type": "execute_result",
          "data": {
            "text/plain": [
              "                                                                                                                                                                                                                                                                                                                                                                                                                                                                                                                                                                                                                                                                                                                                                                                                                                                                                                                                      post  \\\n",
              "3                                                                                    hello everyone could really use help right identifying whether another ocd obsession mind corrupt hav suffered ocd obsession harming family worst experience life get treatment form cbt helped however level exam stressfull ocd returned ob harm inappropriately touching people etc apart new obsession come whenever see young child laughing playing sitting usually 8 year old cousin visit u start intrusive thought negative experience childhood father alcoholic left panicky experience get really distressed thesehorrible reminder cry result avoid playing cousin cost dwell childhood feel depressed however seeing cousin brings horrible memory followed thought mind tell hopeless due childhood never amount anything childhood made way please help need know another ocd obsession find peace mind know bitter twisted idiot ocd   \n",
              "6                                                                                                                                                                                                                                                                                                                                                                better harm intrusive thought feel like falling got point realised thinking thing lie starting believe think going feel real like ill moment mostly revolve around mom cat something say going even think mom without getting gut wrenching feeling basically pounded mind ill also get blasphemous thought even hug think mean thing love mom hard feel much love enjoy time tired saw phychiatrist yesterday helpful waited month see decided sign therapy take forever feel helpless say fear could fear make feel like would horrible thing may even want really hope   \n",
              "8                                                                                                                                                                                                                                                                                                                                                                                                                                                                                                        dealing harm intrusive thought since going miscarriage 6 month ago mostly revolve around mom day get others noticed get people weaker like one night horrible intrusive thought mom gave peace mind knowing step dad knew tried anything could stop always compassionate person still thought make hard see true mean crazy since thought go kid dad hospital grandpa ect ect people weaker hate want figure thought able get rid   \n",
              "10                                                                                                                                                                                                                                                                                                                                                                    intrusive thought never nice tonight horrific telling know risked several minute life saying heck letting know settle sleep telling someone loft waiting murder sleep telling family member going get really sick telling dog escape get hit car telling fall unconscious bath drown get stabbed shop watch someone beheaded came first three step staircase without going back see every time suckered believe noticed let one slide stupid notice bides waiting relax think bam harassing torturing horrible thought try listen show know nonce unrealistic manage   \n",
              "12  probably three area struggle term ocd obsession compulsion dirt germ responsibility mentally ob led many compulsive behaviour constant checking repetitive family friend google google toxic longer speak still try worm way terrible dirt near exposed everyday since march pick dave poop shovel pee litter tray exposure strike 1 ocd ya lil bish terrified germ could make loved one sick dave happens sickly hamster always issue respiratory system get ill need antibiotic pain med etc nursing hamster gooey eye germy snot accidentally worked wonder ocd feel tad guilty managing find silver lining furry son poor health dat sometimes know strike 2 imagine dave ocd cu bloody happening guilt ohhhh guilt mentioned previous post ocd caused feel disproportionate level responsibility come wellbeing human animal care feeling responsibility condensed long intense fear would accidentally dog believe feel rational   \n",
              "\n",
              "                                                                                         prefLabel  \\\n",
              "3                                             ['Treatment', 'hope', 'Thought', 'obsession', 'OCD']   \n",
              "6                                 ['Intrusive thoughts', 'fall', 'joy', 'hope', 'Thought', 'fear']   \n",
              "8                                   ['miscarriage', 'compassion', 'Thought', 'Intrusive thoughts']   \n",
              "10                                                       ['Intrusive thoughts', 'fall', 'Thought']   \n",
              "12  ['obsession', 'compulsion', 'Compulsive behavior', 'checking', 'drop', 'fear', 'guilt', 'OCD']   \n",
              "\n",
              "    compulsion  obsession  \\\n",
              "3            0          1   \n",
              "6            0          1   \n",
              "8            0          1   \n",
              "10           0          1   \n",
              "12           1          1   \n",
              "\n",
              "                                                                                                                                                                                                                                                                                                                                                                                                                                                                                                                                                                                                                                                                                            expand1  \\\n",
              "3                Aggressive obsession, Contamination obsession, Doubt obsession, Hoarding obsession, Religious obsession, Sexual obsession, Somatic obsession, Symmetry obsession, prophylactic treatment, therapeutic procedure, chemotherapy procedure, immunotherapy procedure, physical therapy procedure, radiation therapy procedure, transplantation, solid organ transplant, transfusion, morbid thoughts, Mental image, Homicidal thoughts, Persistent thoughts, Irrational thoughts, Suicidal ideation, Sexual thought, Aggressive thought, Contamination thought, Doubt thought, Hoarding thought, Obsessional thoughts, Religious thought, Somatic thought, Symmetry thought, Obsession   \n",
              "6                                                                                                                               Aggressive intrusive thoughts, Contamination intrusive thoughts, Doubt intrusive thoughts, Hoarding intrusive thoughts, Religious intrusive thoughts, Sexual intrusive thoughts, Somatic intrusive thoughts, Symmetry intrusive thoughts, morbid thoughts, Mental image, Homicidal thoughts, Persistent thoughts, Irrational thoughts, Suicidal ideation, Sexual thought, Aggressive thought, Contamination thought, Doubt thought, Hoarding thought, Obsessional thoughts, Religious thought, Somatic thought, Symmetry thought, terror, panic, panic, moral panic   \n",
              "8                                                                                                                                                                  Aggressive intrusive thoughts, Contamination intrusive thoughts, Doubt intrusive thoughts, Hoarding intrusive thoughts, Religious intrusive thoughts, Sexual intrusive thoughts, Somatic intrusive thoughts, Symmetry intrusive thoughts, morbid thoughts, Mental image, Homicidal thoughts, Persistent thoughts, Irrational thoughts, Suicidal ideation, Sexual thought, Aggressive thought, Contamination thought, Doubt thought, Hoarding thought, Obsessional thoughts, Religious thought, Somatic thought, Symmetry thought   \n",
              "10                                                                                                                                                                 Aggressive intrusive thoughts, Contamination intrusive thoughts, Doubt intrusive thoughts, Hoarding intrusive thoughts, Religious intrusive thoughts, Sexual intrusive thoughts, Somatic intrusive thoughts, Symmetry intrusive thoughts, morbid thoughts, Mental image, Homicidal thoughts, Persistent thoughts, Irrational thoughts, Suicidal ideation, Sexual thought, Aggressive thought, Contamination thought, Doubt thought, Hoarding thought, Obsessional thoughts, Religious thought, Somatic thought, Symmetry thought   \n",
              "12  Aggressive obsession, Contamination obsession, Doubt obsession, Hoarding obsession, Religious obsession, Sexual obsession, Somatic obsession, Symmetry obsession, addictive behavior, compulsive sexual behavior, repetitive compulsive behavior, nonparaphilic compulsive sexual behavior, compulsive masturbation, Compulsive buying, Compulsive checking, Compulsive cleaning, Compulsive counting, Compulsive eating, Compulsive gambling, Compulsive handwashing, Compulsive hoarding, Compulsive ordering, Compulsive touching, Compulsive washing, Repeating rituals, Ritual hand washing, survivor guilt, terror, panic, panic, moral panic, Compulsive behavior, Compulsion, Obsession   \n",
              "\n",
              "    post_length  \\\n",
              "3          1345   \n",
              "6          1087   \n",
              "8           787   \n",
              "10         1037   \n",
              "12         1550   \n",
              "\n",
              "                                                                                                                                                                                                                                                                                                                                                                                                                                                                                                                                                                                                                                                                                                                                                                                                                                                                                                                                                                                                                                                                                                                                                                                                                                                                                                                                                                                                                                                                                                                               clean_text  \n",
              "3                                                                                                                                                                                                           hello everyone could really use your help right now in identifying whether this is another ocd obsession or just my mind being corrupt hav suffered before with ocd obsessions about harming my family and it was the worst experience of my life did get treatment in the form of cbt and this helped however after my level exams which were stressfull my ocd has returned and now obsess over harm inappropriately touching people etc apart from this new obsession has come whenever see any young child laughing or playing or just sitting usually my year old cousin who visits us start to have intrusive thought about negative experiences in my own childhood my father was an alcoholic which left me with very panicky experiences get really distressed by thesehorrible reminders and do cry as result avoid playing with my cousin at all costs so dont have to dwell on my own childhood and feel depressed however just seeing my cousin once brings these horrible memories which are followed by ongoing thoughts in my mind that tell me im hopeless due to my childhood will never amount to anything and my childhood made me this way please help me need to know if this is another ocd obsession so can find some peace of mind and know its not me being bitter and twisted idiot so is this ocd  \n",
              "6                                                                                                                                                                                                                                                                                                                                                                                                                                                                                                   so ive been doing better with my harm intrusive thoughts but it feels like im falling down again got to the point where realised it wasnt me thinking the things and that they were lies now once again im starting to believe them and think im going to it feels so real and like ill just do it at any moment they mostly revolve around my mom and cat something says your going to do this to her or that cant even think about my mom without getting gut wrenching feeling just basically have it pounded in my mind that ill do it also get blasphemous thoughts and even when she hugs me think just mean things love my mom but its so hard to feel as much love or enjoy time with her now im so tired of this saw phychiatrist yesterday and he wasnt helpful waited month to see him and he just now decided to sign me up for therapy which will take forever feel helpless they say its fear but how could fear make you feel like you would do these horrible things or that you may even want to really have no hope  \n",
              "8                                                                                                                                                                                                                                                                                                                                                                                                                                                                                                                                                                                                                                                                                                                                                                         so ive been dealing with harm intrusive thoughts since was going through miscarriage about months ago they mostly revolve around my mom all day but get them about others too ive noticed only get them about people that are weaker than me like one night was having horrible intrusive thoughts about my mom but it gave me peace of mind knowing my step dad was in there so knew if tried anything he could stop me ive always been very compassionate person and still am but these thoughts make it hard to see the true me does it mean im crazy since my thoughts go after kids dad that was in hospital my grandpa ect ect people that are weaker than me hate this just want to figure out why im having the thoughts and be able to get rid of them  \n",
              "10                                                                                                                                                                                                                                                                                                                                                                                                                                                                                                             my intrusive thoughts are never nice at all but tonight they are horrific its telling me that it knows risked several minutes of my life saying no to it and by heck is it letting me know that cant settle or sleep because it is telling me theres someone in the loft waiting to murder me when sleep its telling me family member is gonna get really sick its telling me my dogs will escape and get hit by car its telling me that ill fall unconscious in the bath and drown ill get stabbed at the shop ill watch someone be beheaded all because came down the first three steps of my staircase without going back up see every time im suckered in where believe it hasnt noticed and its let this one slide how stupid of me it does notice it just bides its time waiting for me to relax and not think of it and then bam there it is harassing me again torturing me with horrible thoughts and then when try not listen it shows me some of them know it is nonce and unrealistic but can not manage them   \n",
              "12  these are probably the three areas that struggle with most in terms of ocd obsessions and compulsions dirt germs and responsibility and mentally obsess over them which has led to many compulsive behaviours such as constant checking repetitive handwashing and reassuranceseeking from family friends and google google is now toxic exboyfriend to me we no longer speak but he still tries to worm his way in im terrible at dirt being near or on me which ive been exposed to everyday since march when pick up daves poops and when shovel the pee out of his litter tray exposure strike ocd ya lil bish im terrified of germs because they could make me or my loved ones sick dave happens to be very sickly hamster he has always had issues with his respiratory system and so gets ill and needs antibiotics and pain meds etc nursing hamster with gooey eyes and germy snot has accidentally worked wonders for the ocd feel tad guilty for managing to find silver lining in my furry sons poor health but dats just how it be sometimes yknow strike imagine dave dropkicking the ocd cus thats whats bloody happening here and then theres the guilt ohhhh the guilt ive mentioned in previous posts that ocd has caused me to feel disproportionate levels of responsibility when it comes to the wellbeing of humans and animals that care about this feeling of responsibility was condensed for long while into an intense fear that would accidentally hurtkill my dogs believe that and feel it is rational  "
            ],
            "text/html": [
              "\n",
              "  <div id=\"df-bc80d3ca-5436-4a48-abfc-b0e048fb7b1d\" class=\"colab-df-container\">\n",
              "    <div>\n",
              "<style scoped>\n",
              "    .dataframe tbody tr th:only-of-type {\n",
              "        vertical-align: middle;\n",
              "    }\n",
              "\n",
              "    .dataframe tbody tr th {\n",
              "        vertical-align: top;\n",
              "    }\n",
              "\n",
              "    .dataframe thead th {\n",
              "        text-align: right;\n",
              "    }\n",
              "</style>\n",
              "<table border=\"1\" class=\"dataframe\">\n",
              "  <thead>\n",
              "    <tr style=\"text-align: right;\">\n",
              "      <th></th>\n",
              "      <th>post</th>\n",
              "      <th>prefLabel</th>\n",
              "      <th>compulsion</th>\n",
              "      <th>obsession</th>\n",
              "      <th>expand1</th>\n",
              "      <th>post_length</th>\n",
              "      <th>clean_text</th>\n",
              "    </tr>\n",
              "  </thead>\n",
              "  <tbody>\n",
              "    <tr>\n",
              "      <th>3</th>\n",
              "      <td>hello everyone could really use help right identifying whether another ocd obsession mind corrupt hav suffered ocd obsession harming family worst experience life get treatment form cbt helped however level exam stressfull ocd returned ob harm inappropriately touching people etc apart new obsession come whenever see young child laughing playing sitting usually 8 year old cousin visit u start intrusive thought negative experience childhood father alcoholic left panicky experience get really distressed thesehorrible reminder cry result avoid playing cousin cost dwell childhood feel depressed however seeing cousin brings horrible memory followed thought mind tell hopeless due childhood never amount anything childhood made way please help need know another ocd obsession find peace mind know bitter twisted idiot ocd</td>\n",
              "      <td>['Treatment', 'hope', 'Thought', 'obsession', 'OCD']</td>\n",
              "      <td>0</td>\n",
              "      <td>1</td>\n",
              "      <td>Aggressive obsession, Contamination obsession, Doubt obsession, Hoarding obsession, Religious obsession, Sexual obsession, Somatic obsession, Symmetry obsession, prophylactic treatment, therapeutic procedure, chemotherapy procedure, immunotherapy procedure, physical therapy procedure, radiation therapy procedure, transplantation, solid organ transplant, transfusion, morbid thoughts, Mental image, Homicidal thoughts, Persistent thoughts, Irrational thoughts, Suicidal ideation, Sexual thought, Aggressive thought, Contamination thought, Doubt thought, Hoarding thought, Obsessional thoughts, Religious thought, Somatic thought, Symmetry thought, Obsession</td>\n",
              "      <td>1345</td>\n",
              "      <td>hello everyone could really use your help right now in identifying whether this is another ocd obsession or just my mind being corrupt hav suffered before with ocd obsessions about harming my family and it was the worst experience of my life did get treatment in the form of cbt and this helped however after my level exams which were stressfull my ocd has returned and now obsess over harm inappropriately touching people etc apart from this new obsession has come whenever see any young child laughing or playing or just sitting usually my year old cousin who visits us start to have intrusive thought about negative experiences in my own childhood my father was an alcoholic which left me with very panicky experiences get really distressed by thesehorrible reminders and do cry as result avoid playing with my cousin at all costs so dont have to dwell on my own childhood and feel depressed however just seeing my cousin once brings these horrible memories which are followed by ongoing thoughts in my mind that tell me im hopeless due to my childhood will never amount to anything and my childhood made me this way please help me need to know if this is another ocd obsession so can find some peace of mind and know its not me being bitter and twisted idiot so is this ocd</td>\n",
              "    </tr>\n",
              "    <tr>\n",
              "      <th>6</th>\n",
              "      <td>better harm intrusive thought feel like falling got point realised thinking thing lie starting believe think going feel real like ill moment mostly revolve around mom cat something say going even think mom without getting gut wrenching feeling basically pounded mind ill also get blasphemous thought even hug think mean thing love mom hard feel much love enjoy time tired saw phychiatrist yesterday helpful waited month see decided sign therapy take forever feel helpless say fear could fear make feel like would horrible thing may even want really hope</td>\n",
              "      <td>['Intrusive thoughts', 'fall', 'joy', 'hope', 'Thought', 'fear']</td>\n",
              "      <td>0</td>\n",
              "      <td>1</td>\n",
              "      <td>Aggressive intrusive thoughts, Contamination intrusive thoughts, Doubt intrusive thoughts, Hoarding intrusive thoughts, Religious intrusive thoughts, Sexual intrusive thoughts, Somatic intrusive thoughts, Symmetry intrusive thoughts, morbid thoughts, Mental image, Homicidal thoughts, Persistent thoughts, Irrational thoughts, Suicidal ideation, Sexual thought, Aggressive thought, Contamination thought, Doubt thought, Hoarding thought, Obsessional thoughts, Religious thought, Somatic thought, Symmetry thought, terror, panic, panic, moral panic</td>\n",
              "      <td>1087</td>\n",
              "      <td>so ive been doing better with my harm intrusive thoughts but it feels like im falling down again got to the point where realised it wasnt me thinking the things and that they were lies now once again im starting to believe them and think im going to it feels so real and like ill just do it at any moment they mostly revolve around my mom and cat something says your going to do this to her or that cant even think about my mom without getting gut wrenching feeling just basically have it pounded in my mind that ill do it also get blasphemous thoughts and even when she hugs me think just mean things love my mom but its so hard to feel as much love or enjoy time with her now im so tired of this saw phychiatrist yesterday and he wasnt helpful waited month to see him and he just now decided to sign me up for therapy which will take forever feel helpless they say its fear but how could fear make you feel like you would do these horrible things or that you may even want to really have no hope</td>\n",
              "    </tr>\n",
              "    <tr>\n",
              "      <th>8</th>\n",
              "      <td>dealing harm intrusive thought since going miscarriage 6 month ago mostly revolve around mom day get others noticed get people weaker like one night horrible intrusive thought mom gave peace mind knowing step dad knew tried anything could stop always compassionate person still thought make hard see true mean crazy since thought go kid dad hospital grandpa ect ect people weaker hate want figure thought able get rid</td>\n",
              "      <td>['miscarriage', 'compassion', 'Thought', 'Intrusive thoughts']</td>\n",
              "      <td>0</td>\n",
              "      <td>1</td>\n",
              "      <td>Aggressive intrusive thoughts, Contamination intrusive thoughts, Doubt intrusive thoughts, Hoarding intrusive thoughts, Religious intrusive thoughts, Sexual intrusive thoughts, Somatic intrusive thoughts, Symmetry intrusive thoughts, morbid thoughts, Mental image, Homicidal thoughts, Persistent thoughts, Irrational thoughts, Suicidal ideation, Sexual thought, Aggressive thought, Contamination thought, Doubt thought, Hoarding thought, Obsessional thoughts, Religious thought, Somatic thought, Symmetry thought</td>\n",
              "      <td>787</td>\n",
              "      <td>so ive been dealing with harm intrusive thoughts since was going through miscarriage about months ago they mostly revolve around my mom all day but get them about others too ive noticed only get them about people that are weaker than me like one night was having horrible intrusive thoughts about my mom but it gave me peace of mind knowing my step dad was in there so knew if tried anything he could stop me ive always been very compassionate person and still am but these thoughts make it hard to see the true me does it mean im crazy since my thoughts go after kids dad that was in hospital my grandpa ect ect people that are weaker than me hate this just want to figure out why im having the thoughts and be able to get rid of them</td>\n",
              "    </tr>\n",
              "    <tr>\n",
              "      <th>10</th>\n",
              "      <td>intrusive thought never nice tonight horrific telling know risked several minute life saying heck letting know settle sleep telling someone loft waiting murder sleep telling family member going get really sick telling dog escape get hit car telling fall unconscious bath drown get stabbed shop watch someone beheaded came first three step staircase without going back see every time suckered believe noticed let one slide stupid notice bides waiting relax think bam harassing torturing horrible thought try listen show know nonce unrealistic manage</td>\n",
              "      <td>['Intrusive thoughts', 'fall', 'Thought']</td>\n",
              "      <td>0</td>\n",
              "      <td>1</td>\n",
              "      <td>Aggressive intrusive thoughts, Contamination intrusive thoughts, Doubt intrusive thoughts, Hoarding intrusive thoughts, Religious intrusive thoughts, Sexual intrusive thoughts, Somatic intrusive thoughts, Symmetry intrusive thoughts, morbid thoughts, Mental image, Homicidal thoughts, Persistent thoughts, Irrational thoughts, Suicidal ideation, Sexual thought, Aggressive thought, Contamination thought, Doubt thought, Hoarding thought, Obsessional thoughts, Religious thought, Somatic thought, Symmetry thought</td>\n",
              "      <td>1037</td>\n",
              "      <td>my intrusive thoughts are never nice at all but tonight they are horrific its telling me that it knows risked several minutes of my life saying no to it and by heck is it letting me know that cant settle or sleep because it is telling me theres someone in the loft waiting to murder me when sleep its telling me family member is gonna get really sick its telling me my dogs will escape and get hit by car its telling me that ill fall unconscious in the bath and drown ill get stabbed at the shop ill watch someone be beheaded all because came down the first three steps of my staircase without going back up see every time im suckered in where believe it hasnt noticed and its let this one slide how stupid of me it does notice it just bides its time waiting for me to relax and not think of it and then bam there it is harassing me again torturing me with horrible thoughts and then when try not listen it shows me some of them know it is nonce and unrealistic but can not manage them</td>\n",
              "    </tr>\n",
              "    <tr>\n",
              "      <th>12</th>\n",
              "      <td>probably three area struggle term ocd obsession compulsion dirt germ responsibility mentally ob led many compulsive behaviour constant checking repetitive family friend google google toxic longer speak still try worm way terrible dirt near exposed everyday since march pick dave poop shovel pee litter tray exposure strike 1 ocd ya lil bish terrified germ could make loved one sick dave happens sickly hamster always issue respiratory system get ill need antibiotic pain med etc nursing hamster gooey eye germy snot accidentally worked wonder ocd feel tad guilty managing find silver lining furry son poor health dat sometimes know strike 2 imagine dave ocd cu bloody happening guilt ohhhh guilt mentioned previous post ocd caused feel disproportionate level responsibility come wellbeing human animal care feeling responsibility condensed long intense fear would accidentally dog believe feel rational</td>\n",
              "      <td>['obsession', 'compulsion', 'Compulsive behavior', 'checking', 'drop', 'fear', 'guilt', 'OCD']</td>\n",
              "      <td>1</td>\n",
              "      <td>1</td>\n",
              "      <td>Aggressive obsession, Contamination obsession, Doubt obsession, Hoarding obsession, Religious obsession, Sexual obsession, Somatic obsession, Symmetry obsession, addictive behavior, compulsive sexual behavior, repetitive compulsive behavior, nonparaphilic compulsive sexual behavior, compulsive masturbation, Compulsive buying, Compulsive checking, Compulsive cleaning, Compulsive counting, Compulsive eating, Compulsive gambling, Compulsive handwashing, Compulsive hoarding, Compulsive ordering, Compulsive touching, Compulsive washing, Repeating rituals, Ritual hand washing, survivor guilt, terror, panic, panic, moral panic, Compulsive behavior, Compulsion, Obsession</td>\n",
              "      <td>1550</td>\n",
              "      <td>these are probably the three areas that struggle with most in terms of ocd obsessions and compulsions dirt germs and responsibility and mentally obsess over them which has led to many compulsive behaviours such as constant checking repetitive handwashing and reassuranceseeking from family friends and google google is now toxic exboyfriend to me we no longer speak but he still tries to worm his way in im terrible at dirt being near or on me which ive been exposed to everyday since march when pick up daves poops and when shovel the pee out of his litter tray exposure strike ocd ya lil bish im terrified of germs because they could make me or my loved ones sick dave happens to be very sickly hamster he has always had issues with his respiratory system and so gets ill and needs antibiotics and pain meds etc nursing hamster with gooey eyes and germy snot has accidentally worked wonders for the ocd feel tad guilty for managing to find silver lining in my furry sons poor health but dats just how it be sometimes yknow strike imagine dave dropkicking the ocd cus thats whats bloody happening here and then theres the guilt ohhhh the guilt ive mentioned in previous posts that ocd has caused me to feel disproportionate levels of responsibility when it comes to the wellbeing of humans and animals that care about this feeling of responsibility was condensed for long while into an intense fear that would accidentally hurtkill my dogs believe that and feel it is rational</td>\n",
              "    </tr>\n",
              "  </tbody>\n",
              "</table>\n",
              "</div>\n",
              "    <div class=\"colab-df-buttons\">\n",
              "\n",
              "  <div class=\"colab-df-container\">\n",
              "    <button class=\"colab-df-convert\" onclick=\"convertToInteractive('df-bc80d3ca-5436-4a48-abfc-b0e048fb7b1d')\"\n",
              "            title=\"Convert this dataframe to an interactive table.\"\n",
              "            style=\"display:none;\">\n",
              "\n",
              "  <svg xmlns=\"http://www.w3.org/2000/svg\" height=\"24px\" viewBox=\"0 -960 960 960\">\n",
              "    <path d=\"M120-120v-720h720v720H120Zm60-500h600v-160H180v160Zm220 220h160v-160H400v160Zm0 220h160v-160H400v160ZM180-400h160v-160H180v160Zm440 0h160v-160H620v160ZM180-180h160v-160H180v160Zm440 0h160v-160H620v160Z\"/>\n",
              "  </svg>\n",
              "    </button>\n",
              "\n",
              "  <style>\n",
              "    .colab-df-container {\n",
              "      display:flex;\n",
              "      gap: 12px;\n",
              "    }\n",
              "\n",
              "    .colab-df-convert {\n",
              "      background-color: #E8F0FE;\n",
              "      border: none;\n",
              "      border-radius: 50%;\n",
              "      cursor: pointer;\n",
              "      display: none;\n",
              "      fill: #1967D2;\n",
              "      height: 32px;\n",
              "      padding: 0 0 0 0;\n",
              "      width: 32px;\n",
              "    }\n",
              "\n",
              "    .colab-df-convert:hover {\n",
              "      background-color: #E2EBFA;\n",
              "      box-shadow: 0px 1px 2px rgba(60, 64, 67, 0.3), 0px 1px 3px 1px rgba(60, 64, 67, 0.15);\n",
              "      fill: #174EA6;\n",
              "    }\n",
              "\n",
              "    .colab-df-buttons div {\n",
              "      margin-bottom: 4px;\n",
              "    }\n",
              "\n",
              "    [theme=dark] .colab-df-convert {\n",
              "      background-color: #3B4455;\n",
              "      fill: #D2E3FC;\n",
              "    }\n",
              "\n",
              "    [theme=dark] .colab-df-convert:hover {\n",
              "      background-color: #434B5C;\n",
              "      box-shadow: 0px 1px 3px 1px rgba(0, 0, 0, 0.15);\n",
              "      filter: drop-shadow(0px 1px 2px rgba(0, 0, 0, 0.3));\n",
              "      fill: #FFFFFF;\n",
              "    }\n",
              "  </style>\n",
              "\n",
              "    <script>\n",
              "      const buttonEl =\n",
              "        document.querySelector('#df-bc80d3ca-5436-4a48-abfc-b0e048fb7b1d button.colab-df-convert');\n",
              "      buttonEl.style.display =\n",
              "        google.colab.kernel.accessAllowed ? 'block' : 'none';\n",
              "\n",
              "      async function convertToInteractive(key) {\n",
              "        const element = document.querySelector('#df-bc80d3ca-5436-4a48-abfc-b0e048fb7b1d');\n",
              "        const dataTable =\n",
              "          await google.colab.kernel.invokeFunction('convertToInteractive',\n",
              "                                                    [key], {});\n",
              "        if (!dataTable) return;\n",
              "\n",
              "        const docLinkHtml = 'Like what you see? Visit the ' +\n",
              "          '<a target=\"_blank\" href=https://colab.research.google.com/notebooks/data_table.ipynb>data table notebook</a>'\n",
              "          + ' to learn more about interactive tables.';\n",
              "        element.innerHTML = '';\n",
              "        dataTable['output_type'] = 'display_data';\n",
              "        await google.colab.output.renderOutput(dataTable, element);\n",
              "        const docLink = document.createElement('div');\n",
              "        docLink.innerHTML = docLinkHtml;\n",
              "        element.appendChild(docLink);\n",
              "      }\n",
              "    </script>\n",
              "  </div>\n",
              "\n",
              "\n",
              "<div id=\"df-0168d167-6473-4f2e-8179-00021b655aa5\">\n",
              "  <button class=\"colab-df-quickchart\" onclick=\"quickchart('df-0168d167-6473-4f2e-8179-00021b655aa5')\"\n",
              "            title=\"Suggest charts\"\n",
              "            style=\"display:none;\">\n",
              "\n",
              "<svg xmlns=\"http://www.w3.org/2000/svg\" height=\"24px\"viewBox=\"0 0 24 24\"\n",
              "     width=\"24px\">\n",
              "    <g>\n",
              "        <path d=\"M19 3H5c-1.1 0-2 .9-2 2v14c0 1.1.9 2 2 2h14c1.1 0 2-.9 2-2V5c0-1.1-.9-2-2-2zM9 17H7v-7h2v7zm4 0h-2V7h2v10zm4 0h-2v-4h2v4z\"/>\n",
              "    </g>\n",
              "</svg>\n",
              "  </button>\n",
              "\n",
              "<style>\n",
              "  .colab-df-quickchart {\n",
              "      --bg-color: #E8F0FE;\n",
              "      --fill-color: #1967D2;\n",
              "      --hover-bg-color: #E2EBFA;\n",
              "      --hover-fill-color: #174EA6;\n",
              "      --disabled-fill-color: #AAA;\n",
              "      --disabled-bg-color: #DDD;\n",
              "  }\n",
              "\n",
              "  [theme=dark] .colab-df-quickchart {\n",
              "      --bg-color: #3B4455;\n",
              "      --fill-color: #D2E3FC;\n",
              "      --hover-bg-color: #434B5C;\n",
              "      --hover-fill-color: #FFFFFF;\n",
              "      --disabled-bg-color: #3B4455;\n",
              "      --disabled-fill-color: #666;\n",
              "  }\n",
              "\n",
              "  .colab-df-quickchart {\n",
              "    background-color: var(--bg-color);\n",
              "    border: none;\n",
              "    border-radius: 50%;\n",
              "    cursor: pointer;\n",
              "    display: none;\n",
              "    fill: var(--fill-color);\n",
              "    height: 32px;\n",
              "    padding: 0;\n",
              "    width: 32px;\n",
              "  }\n",
              "\n",
              "  .colab-df-quickchart:hover {\n",
              "    background-color: var(--hover-bg-color);\n",
              "    box-shadow: 0 1px 2px rgba(60, 64, 67, 0.3), 0 1px 3px 1px rgba(60, 64, 67, 0.15);\n",
              "    fill: var(--button-hover-fill-color);\n",
              "  }\n",
              "\n",
              "  .colab-df-quickchart-complete:disabled,\n",
              "  .colab-df-quickchart-complete:disabled:hover {\n",
              "    background-color: var(--disabled-bg-color);\n",
              "    fill: var(--disabled-fill-color);\n",
              "    box-shadow: none;\n",
              "  }\n",
              "\n",
              "  .colab-df-spinner {\n",
              "    border: 2px solid var(--fill-color);\n",
              "    border-color: transparent;\n",
              "    border-bottom-color: var(--fill-color);\n",
              "    animation:\n",
              "      spin 1s steps(1) infinite;\n",
              "  }\n",
              "\n",
              "  @keyframes spin {\n",
              "    0% {\n",
              "      border-color: transparent;\n",
              "      border-bottom-color: var(--fill-color);\n",
              "      border-left-color: var(--fill-color);\n",
              "    }\n",
              "    20% {\n",
              "      border-color: transparent;\n",
              "      border-left-color: var(--fill-color);\n",
              "      border-top-color: var(--fill-color);\n",
              "    }\n",
              "    30% {\n",
              "      border-color: transparent;\n",
              "      border-left-color: var(--fill-color);\n",
              "      border-top-color: var(--fill-color);\n",
              "      border-right-color: var(--fill-color);\n",
              "    }\n",
              "    40% {\n",
              "      border-color: transparent;\n",
              "      border-right-color: var(--fill-color);\n",
              "      border-top-color: var(--fill-color);\n",
              "    }\n",
              "    60% {\n",
              "      border-color: transparent;\n",
              "      border-right-color: var(--fill-color);\n",
              "    }\n",
              "    80% {\n",
              "      border-color: transparent;\n",
              "      border-right-color: var(--fill-color);\n",
              "      border-bottom-color: var(--fill-color);\n",
              "    }\n",
              "    90% {\n",
              "      border-color: transparent;\n",
              "      border-bottom-color: var(--fill-color);\n",
              "    }\n",
              "  }\n",
              "</style>\n",
              "\n",
              "  <script>\n",
              "    async function quickchart(key) {\n",
              "      const quickchartButtonEl =\n",
              "        document.querySelector('#' + key + ' button');\n",
              "      quickchartButtonEl.disabled = true;  // To prevent multiple clicks.\n",
              "      quickchartButtonEl.classList.add('colab-df-spinner');\n",
              "      try {\n",
              "        const charts = await google.colab.kernel.invokeFunction(\n",
              "            'suggestCharts', [key], {});\n",
              "      } catch (error) {\n",
              "        console.error('Error during call to suggestCharts:', error);\n",
              "      }\n",
              "      quickchartButtonEl.classList.remove('colab-df-spinner');\n",
              "      quickchartButtonEl.classList.add('colab-df-quickchart-complete');\n",
              "    }\n",
              "    (() => {\n",
              "      let quickchartButtonEl =\n",
              "        document.querySelector('#df-0168d167-6473-4f2e-8179-00021b655aa5 button');\n",
              "      quickchartButtonEl.style.display =\n",
              "        google.colab.kernel.accessAllowed ? 'block' : 'none';\n",
              "    })();\n",
              "  </script>\n",
              "</div>\n",
              "\n",
              "    </div>\n",
              "  </div>\n"
            ],
            "application/vnd.google.colaboratory.intrinsic+json": {
              "type": "dataframe",
              "variable_name": "process_df",
              "summary": "{\n  \"name\": \"process_df\",\n  \"rows\": 7955,\n  \"fields\": [\n    {\n      \"column\": \"post\",\n      \"properties\": {\n        \"dtype\": \"string\",\n        \"num_unique_values\": 7810,\n        \"samples\": [\n          \"day film mum change little girl dress keep going back check\",\n          \"know intrusive beginning wonder\",\n          \"mean like smaller child act impulse since still small still quite grasp right wrong like age 7\"\n        ],\n        \"semantic_type\": \"\",\n        \"description\": \"\"\n      }\n    },\n    {\n      \"column\": \"prefLabel\",\n      \"properties\": {\n        \"dtype\": \"category\",\n        \"num_unique_values\": 3533,\n        \"samples\": [\n          \"['Thought', 'Activity', 'anxiety', 'anxiety', 'interest', 'obsession', 'OCD']\",\n          \"['obsession', 'Intrusive thoughts', 'compulsion', 'OCD', 'symptom', 'Thought']\",\n          \"['hope', 'feeling good', 'Intrusive thoughts', 'Thought', 'intense anxiety', 'anxiety', 'anxiety', 'obsession']\"\n        ],\n        \"semantic_type\": \"\",\n        \"description\": \"\"\n      }\n    },\n    {\n      \"column\": \"compulsion\",\n      \"properties\": {\n        \"dtype\": \"number\",\n        \"std\": 0,\n        \"min\": 0,\n        \"max\": 1,\n        \"num_unique_values\": 2,\n        \"samples\": [\n          1,\n          0\n        ],\n        \"semantic_type\": \"\",\n        \"description\": \"\"\n      }\n    },\n    {\n      \"column\": \"obsession\",\n      \"properties\": {\n        \"dtype\": \"number\",\n        \"std\": 0,\n        \"min\": 0,\n        \"max\": 1,\n        \"num_unique_values\": 2,\n        \"samples\": [\n          0,\n          1\n        ],\n        \"semantic_type\": \"\",\n        \"description\": \"\"\n      }\n    },\n    {\n      \"column\": \"expand1\",\n      \"properties\": {\n        \"dtype\": \"category\",\n        \"num_unique_values\": 909,\n        \"samples\": [\n          \"Aggressive obsession, Contamination obsession, Doubt obsession, Hoarding obsession, Religious obsession, Sexual obsession, Somatic obsession, Symmetry obsession, prophylactic treatment, therapeutic procedure, chemotherapy procedure, immunotherapy procedure, physical therapy procedure, radiation therapy procedure, transplantation, solid organ transplant, transfusion, morbid thoughts, Mental image, Homicidal thoughts, Persistent thoughts, Irrational thoughts, Suicidal ideation, Sexual thought, Aggressive thought, Contamination thought, Doubt thought, Hoarding thought, Obsessional thoughts, Religious thought, Somatic thought, Symmetry thought, terror, panic, Aggressive urge, Contamination urge, Doubt urge, Hoarding urge, Irrational urge, Religious urge, Sexual urge, Somatic urge, Symmetry urge, panic, moral panic, Obsession\",\n          \"Aggressive intrusive thoughts, Contamination intrusive thoughts, Doubt intrusive thoughts, Hoarding intrusive thoughts, Religious intrusive thoughts, Sexual intrusive thoughts, Somatic intrusive thoughts, Symmetry intrusive thoughts, physical object, information content entity, specialized object, morbid thoughts, Mental image, Homicidal thoughts, Persistent thoughts, Irrational thoughts, Suicidal ideation, Sexual thought, Aggressive thought, Contamination thought, Doubt thought, Hoarding thought, Obsessional thoughts, Religious thought, Somatic thought, Symmetry thought, addictive behavior, compulsive sexual behavior, repetitive compulsive behavior, nonparaphilic compulsive sexual behavior, compulsive masturbation, Compulsive buying, Compulsive checking, Compulsive cleaning, Compulsive counting, Compulsive eating, Compulsive gambling, Compulsive handwashing, Compulsive hoarding, Compulsive ordering, Compulsive touching, Compulsive washing, Repeating rituals, Ritual hand washing, Compulsive behavior\"\n        ],\n        \"semantic_type\": \"\",\n        \"description\": \"\"\n      }\n    },\n    {\n      \"column\": \"post_length\",\n      \"properties\": {\n        \"dtype\": \"number\",\n        \"std\": 525,\n        \"min\": 7,\n        \"max\": 1999,\n        \"num_unique_values\": 1868,\n        \"samples\": [\n          736,\n          247\n        ],\n        \"semantic_type\": \"\",\n        \"description\": \"\"\n      }\n    },\n    {\n      \"column\": \"clean_text\",\n      \"properties\": {\n        \"dtype\": \"string\",\n        \"num_unique_values\": 7810,\n        \"samples\": [\n          \"im working person and find that read things over and over again without absorbing anything if enter dates on the computer telephone numbers etc always check them twice to make sure ive got them correct does this happen to other people its got so bad that cant really read book anymore as keep reading the same page over and over\",\n          \"at my work or sports club if there is man there would think fancy them when dont ive known of them for while and never taken much notice and then all of sudden do or even if its new person ill think do even if there not even my type and dont even fancy them start to panic and think im with my boyfriend cant fancy anyone else know dont fancy them but cant help but think do why do feel like this thank you xxx\"\n        ],\n        \"semantic_type\": \"\",\n        \"description\": \"\"\n      }\n    }\n  ]\n}"
            }
          },
          "metadata": {},
          "execution_count": 26
        }
      ],
      "source": [
        "process_df.head()"
      ]
    },
    {
      "cell_type": "code",
      "execution_count": null,
      "metadata": {
        "colab": {
          "base_uri": "https://localhost:8080/"
        },
        "id": "5YR5Y79N67iC",
        "outputId": "f50f83d3-5947-40f2-e71b-87d52989d3d6"
      },
      "outputs": [
        {
          "output_type": "stream",
          "name": "stdout",
          "text": [
            "Number of posts: 7955\n",
            "Number of '1's in 'obsession' column: 3792\n",
            "Number of '1's in 'compulsion' column: 1869\n",
            "Number of '0's in 'obsession' column: 4163\n",
            "Number of '0's in 'compulsion' column: 6086\n"
          ]
        }
      ],
      "source": [
        "# Assuming 'process_df' is the DataFrame name\n",
        "# Print the number of posts\n",
        "print(f\"Number of posts: {len(process_df)}\")\n",
        "\n",
        "# Print the count of '1' in the 'obsession' column\n",
        "print(f\"Number of '1's in 'obsession' column: {process_df['obsession'].sum()}\")\n",
        "print(f\"Number of '1's in 'compulsion' column: {process_df['compulsion'].sum()}\")\n",
        "\n",
        "# Print the count of '0's in both 'obsession' and 'compulsion' columns\n",
        "print(f\"Number of '0's in 'obsession' column: {len(process_df) - process_df['obsession'].sum()}\")\n",
        "print(f\"Number of '0's in 'compulsion' column: {len(process_df) - process_df['compulsion'].sum()}\")\n"
      ]
    },
    {
      "cell_type": "markdown",
      "metadata": {
        "id": "mLbJKawVBaRq"
      },
      "source": [
        "## BoW and splitting the data"
      ]
    },
    {
      "cell_type": "code",
      "execution_count": null,
      "metadata": {
        "id": "-VyFrgyu8TiY"
      },
      "outputs": [],
      "source": [
        "from sklearn.feature_extraction.text import CountVectorizer\n",
        "\n",
        "# Creating features using Bag of Words\n",
        "text_data = process_df['post'].astype(str)\n",
        "\n",
        "# Convert text to vectors using CountVectorizer with specified parameters\n",
        "count_vect = CountVectorizer(max_features=25000, min_df=5, max_df=0.9, stop_words='english')\n",
        "X = count_vect.fit_transform(text_data)\n",
        "\n",
        "# Assuming 'compulsion' and 'obsession' are the target labels\n",
        "Y = np.asarray(process_df[['compulsion', 'obsession']])\n"
      ]
    },
    {
      "cell_type": "code",
      "execution_count": null,
      "metadata": {
        "colab": {
          "base_uri": "https://localhost:8080/"
        },
        "id": "DnIu8Bbv70qc",
        "outputId": "63feb321-8a4b-4ce5-ff6a-c2b7017ba5bc"
      },
      "outputs": [
        {
          "output_type": "stream",
          "name": "stdout",
          "text": [
            "Number of documents: 7955\n",
            "Number of unique tokens: 4963\n"
          ]
        }
      ],
      "source": [
        "# Get the shape (size) of the DTM\n",
        "num_documents, num_tokens = X.shape\n",
        "\n",
        "# Print the number of documents and tokens\n",
        "print(\"Number of documents:\", num_documents)\n",
        "print(\"Number of unique tokens:\", num_tokens)"
      ]
    },
    {
      "cell_type": "code",
      "execution_count": null,
      "metadata": {
        "colab": {
          "base_uri": "https://localhost:8080/"
        },
        "id": "oG4oY4xN8vqX",
        "outputId": "5e483d30-d58e-4cdc-ebdd-958be5daf333"
      },
      "outputs": [
        {
          "output_type": "stream",
          "name": "stdout",
          "text": [
            "(7955, 4963)\n",
            "(7955, 2)\n"
          ]
        }
      ],
      "source": [
        "print(X.shape)\n",
        "print(Y.shape)"
      ]
    },
    {
      "cell_type": "code",
      "execution_count": null,
      "metadata": {
        "id": "QmYD6spZ8vv_"
      },
      "outputs": [],
      "source": [
        "# Assuming X and Y are your feature and target variables\n",
        "X_train, X_test, y_train, y_test = train_test_split(X, Y, test_size=0.2, random_state=42)"
      ]
    },
    {
      "cell_type": "code",
      "execution_count": null,
      "metadata": {
        "colab": {
          "base_uri": "https://localhost:8080/"
        },
        "id": "ngsHIaSVJ8MA",
        "outputId": "b385d070-7f35-4a89-ed26-8b8d9198ba06"
      },
      "outputs": [
        {
          "output_type": "stream",
          "name": "stdout",
          "text": [
            "(6364, 4963)\n",
            "(1591, 4963)\n",
            "(6364, 2)\n",
            "(1591, 2)\n"
          ]
        }
      ],
      "source": [
        "print(X_train.shape)\n",
        "print(X_test.shape)\n",
        "print(y_train.shape)\n",
        "print(y_test.shape)"
      ]
    },
    {
      "cell_type": "markdown",
      "metadata": {
        "id": "mYByN9PuLwB6"
      },
      "source": [
        "## Random Forest"
      ]
    },
    {
      "cell_type": "code",
      "execution_count": null,
      "metadata": {
        "colab": {
          "base_uri": "https://localhost:8080/"
        },
        "id": "F7IMii_-Ly6i",
        "outputId": "8b870641-35be-4826-9449-21db22ed33b3"
      },
      "outputs": [
        {
          "output_type": "stream",
          "name": "stdout",
          "text": [
            "Confusion Matrix for obsession:\n",
            "[[1222    0]\n",
            " [  35  334]]\n",
            "\n",
            "\n",
            "Confusion Matrix for compulsion:\n",
            "[[788  44]\n",
            " [  9 750]]\n",
            "\n",
            "\n"
          ]
        }
      ],
      "source": [
        "from sklearn.ensemble import RandomForestClassifier\n",
        "from sklearn.model_selection import train_test_split\n",
        "from sklearn.metrics import classification_report, multilabel_confusion_matrix\n",
        "\n",
        "# Assuming X_train, X_test, y_train, y_test are your training and testing sets\n",
        "X_train, X_test, y_train, y_test = train_test_split(X, Y, test_size=0.2, random_state=42)\n",
        "\n",
        "# Initialize the Random Forest classifier\n",
        "rf_classifier = RandomForestClassifier(n_estimators=100, random_state=42)\n",
        "\n",
        "# Train the classifier\n",
        "rf_classifier.fit(X_train, y_train)\n",
        "\n",
        "# Make predictions on the test set\n",
        "y_pred_rf = rf_classifier.predict(X_test)\n",
        "\n",
        "# Evaluate the model\n",
        "conf_matrix = multilabel_confusion_matrix(y_test, y_pred_rf)\n",
        "\n",
        "# Print confusion matrix for each class\n",
        "for i, label in enumerate(['obsession', 'compulsion']):\n",
        "    print(f\"Confusion Matrix for {label}:\")\n",
        "    print(conf_matrix[i])\n",
        "    print(\"\\n\")\n"
      ]
    },
    {
      "cell_type": "code",
      "execution_count": null,
      "metadata": {
        "colab": {
          "base_uri": "https://localhost:8080/"
        },
        "id": "POBXHxxsQzP7",
        "outputId": "7e858f30-2b12-4c37-bb15-cd3ef665a92c"
      },
      "outputs": [
        {
          "output_type": "stream",
          "name": "stdout",
          "text": [
            "Accuracy for obsession: 0.9780012570710245\n",
            "Accuracy for compulsion: 0.9666876178504086\n"
          ]
        }
      ],
      "source": [
        "from sklearn.metrics import accuracy_score\n",
        "# Assuming y_test and y_pred are your actual and predicted labels\n",
        "label_names = ['obsession', 'compulsion']\n",
        "\n",
        "# Calculate accuracy for each label\n",
        "accuracy_per_label = {label: accuracy_score(y_test[:, i], y_pred_rf[:, i]) for i, label in enumerate(label_names)}\n",
        "\n",
        "# Print accuracy for each label\n",
        "for label, acc in accuracy_per_label.items():\n",
        "    print(f'Accuracy for {label}: {acc}')\n"
      ]
    },
    {
      "cell_type": "code",
      "execution_count": null,
      "metadata": {
        "colab": {
          "base_uri": "https://localhost:8080/"
        },
        "id": "Fk5eF-LeLzA6",
        "outputId": "964be61d-4c2b-4872-ad9e-919ed33df12d"
      },
      "outputs": [
        {
          "output_type": "stream",
          "name": "stdout",
          "text": [
            "              precision    recall  f1-score   support\n",
            "\n",
            "   obsession       1.00      0.91      0.95       369\n",
            "  compulsion       0.94      0.99      0.97       759\n",
            "\n",
            "   micro avg       0.96      0.96      0.96      1128\n",
            "   macro avg       0.97      0.95      0.96      1128\n",
            "weighted avg       0.96      0.96      0.96      1128\n",
            " samples avg       0.61      0.61      0.61      1128\n",
            "\n"
          ]
        },
        {
          "output_type": "stream",
          "name": "stderr",
          "text": [
            "/usr/local/lib/python3.10/dist-packages/sklearn/metrics/_classification.py:1344: UndefinedMetricWarning: Precision and F-score are ill-defined and being set to 0.0 in samples with no predicted labels. Use `zero_division` parameter to control this behavior.\n",
            "  _warn_prf(average, modifier, msg_start, len(result))\n",
            "/usr/local/lib/python3.10/dist-packages/sklearn/metrics/_classification.py:1344: UndefinedMetricWarning: Recall and F-score are ill-defined and being set to 0.0 in samples with no true labels. Use `zero_division` parameter to control this behavior.\n",
            "  _warn_prf(average, modifier, msg_start, len(result))\n"
          ]
        }
      ],
      "source": [
        "#classification report\n",
        "label_names = ['obsession','compulsion']\n",
        "report = classification_report(y_test, y_pred_rf, target_names=label_names)\n",
        "print(report)"
      ]
    },
    {
      "cell_type": "markdown",
      "metadata": {
        "id": "_Y6j9f5NYsIV"
      },
      "source": [
        "## Prediction on manual label data\n",
        "\n",
        "> Add blockquote\n",
        "\n"
      ]
    },
    {
      "cell_type": "code",
      "execution_count": null,
      "metadata": {
        "id": "Jh6zBAHB89VY"
      },
      "outputs": [],
      "source": [
        "unlabed_data = pd.read_csv('/content/drive/MyDrive/BERT_new_model/Dataset/ontology_labeled_data_all_after_Embedding.csv')"
      ]
    },
    {
      "cell_type": "code",
      "execution_count": null,
      "metadata": {
        "id": "OK0R5817-2JK",
        "colab": {
          "base_uri": "https://localhost:8080/",
          "height": 1000
        },
        "outputId": "16a6aa93-1361-4551-ed79-7b35d82a83ec"
      },
      "outputs": [
        {
          "output_type": "execute_result",
          "data": {
            "text/plain": [
              "                                                                                                                                                                                                                                                                                                                                                                                                                                                                                                                                                                                                                                                                                                                                                                                                                                                                                                                                                                                                                                                                                                                                                                                                                                                                                                                                                                                                                                                                                                                                                                                                                                                                                                                                                                                                                                                                                                                                                                                                                                                                                                                                                                                                                                                                                                                                                                                                                                                                                                                                                                                                                                                                                                                                                                                                                                                                                                                                                                                 post  \\\n",
              "0                                                                                                                                                                                                                                                                                                                                                                                                                                                                                                                                                                                                                                                                                                                                                                                                                                                                                                                                                                                                                                                                                                                                                                                                                                                                                                                                                                                                                                                                                                                                                                                                                                                                                                                                                                                                                                                                                                                                                                                                                                                                                                   January of this year I was let go from my job. My OCD had spiked and I was calling out sick for weeks. They were kind enough and felt bad I was so \"\"\"\"sick\"\"\"\" that laid me off so I could collect unemployment and keep my insurance benefits. My unemployment runs out next week.\\nI am doing much better now and though the prospect of going back to work scares me I do not have an option. My big concern is explaining the gap in my work history. It is not as though I can say, Hi, I have a mental illness and had a nervous breakdown.\\nI am also concerned because I have talk therapy once to twice a week to deal with my depression and PTSD, and I am supposed to be starting CBT soon. I am not sure how I would go about getting the time needed for these very important things.\\nDoes anyone have any advice to offer??\\nThanks so much in advance!!\\n~jenna   \n",
              "1                                                                                                                                                                                                                                                                                                                                                                                                                                                                                                                                                                                                                                                                                                                                                                                                  Hello everyone\\nWe've had my two-year-old niece with us for most of this week and she's actually been really good for me because she's kept me busy and active and I think might have helped me confront some of my thoughts.\\nHowever, right now, I'm a little bit frightened. I've been going through a thing for some time when I would keep checking all the switches in our hallway. Some of them don't 'go' anywhere, they're just stray switches but then because they don't do anything, that seemed to stress me out even more in case I started a fire somewhere secret. But more than that, I'm afraid I might have been checking for them for the sake of checking.\\nThe truth is, I feel really upset and feel I'm setting too much store by my OCD right now, making myself sick and dizzy and hot by checking the switches night after night and I think I might have done it just because. I finally hit rock-bottom last night - there's one switch in particular that doesn't 'do anything', right next to the bathroom one. Both of them are outside the bathroom door. I keep checking both switches - even though it's obvious they're both turned off - and I keep checking and checking, counting to and fro in my head. I also get paranoid still about getting water on switches. Unfortunately, all this backwards and forwards kept making me want to go to the bathroom, which is a problem because it turns into a vicious circle.\\nI got into a state last night and told my dad everything and he told me to 'rationalise' and not check the switches. So now I'm not.\\nAnd this is the daft thing - but I feel really scared. I'm scared because I'm not doing it and I'm scared the game is finally up for me - that the whole world has done what it can for me and there's no more help I can be given. I'm scared because doing the rituals seem to have become part of me. I'm scared because I fear a kind of 'arrogance' taking me over and I'm scared of how I feel in case I sabotage my own chances of recovery - something I really fear doing.\\nI feel I need a distraction, but I'm not sure what. I'm just so scared of myself.\\nC x   \n",
              "2                                                                                                                                                                                                                                                                                                                                                                                                                                                                                                                                                                                                                                                                                                                                                                                                                                                                                                                                                                                                                                                                                                                                                                                                                                                                                                                                                                                                                                                                                                                                                                                                                                                                                                                                                                                                                                                                                                                                                                                                                                                                                                                                                                                                                                                                                                                                                                                            Hello everyone\\nFeeling a bit down at the moment (yeah, I know *facepalm*) My parents have dropped me back off at my student housing for the night and I'm the only one here, which I wasn't really expecting. I've just been feeling a little afraid, and worried I won't be able to trust myself, especially as my parents were quite keen on me coming back with them, and took a fair bit of persuasion to let me stay, because I was in desperate need of some space.\\n... On the plus side, I'm keeping myself busy! Anyone fancy a singalong to the Dennis the Menace theme tune?   \n",
              "3  I wanted to share with you this little illustration of why reassurance seeing doesn't work... I guess it might help someone, feel free to skip though as it's quite boring\\nso anyway, a few months ago I had an explosion of ocd, which prompted me to join this forum. It was by far the worst experience of ocd I've ever had, if not any kind of experience. I had this worry that I was going to be arrested for something that happened many years ago. I wanted - needed - certainty. I was absolutely desperate. It was the lowest I've ever been and I ended up in a pretty dark place.\\nAnyway I like to think I'm quite a rational minded person, so I wanted to look at the scientific odds of this happening. I'd read a self help book once that said this was a good way of reducing your worry.\\nI made a list of eight things that would have to happen in order for my worries to come true, and then gave an honest percentage to each event in terms of how likely they were to happen. My estimate was pretty generous as I was by this point quite convinced. I then multiplied them together and came out with a one in 300,000 chance of my worry coming true. I couldn't argue with maths: this was the truth.\\nSo for a couple of days I had a spring in my step, feeling like the world had been lifted. \"\"\"\"this reassurance DOES work\"\"\"\" I told myself.\\nBut then the doubt crept in. My brain wrapped itself round that one chance, even though it was one in three hundred thousand, at best. That \"\"\"\"one\"\"\"\" loomed large in my mind. It wasn't good enough. I started panicking, googling, asking, researching, ruminating, i felt sick all the time, I felt I couldn't go on and my life was over... in short I got stuck on the ocd roundabout and couldn't get off.\\nSo even though I was quite satisfied that the odds were infinitely small - much smaller than the chances of a car crash, getting cancer, having a heart attack etc (none of which worried me at all) - I was OBSESSED with this because I kept feeding the fire by carrying out my rituals.\\nSo I guess the point I wanted to get across is that... the reassurance seeking/researching never ever ever ever ever works because even if there's only one chance in three hundred thousand, or in a billion, ocd will still latch onto it. The ONLY way to move past it is to say \"\"\"\"ok, whatever, maybe that will happen, I can't read the future\"\"\"\" and get on with life.\\nI hope this doesn't seem at all condescending or preachy - that's not how I mean it at all, cos I still massively struggle with this! - it just really struck me as quite a stark illustration of how reassurance never works, no matter how tempting it is. So if anyone is reading this, desperate for certainty on a particular issue, please stop, you'll never get certainty - you don't need it! it's just ocd. Forget him and his bullying ways. just get on and enjoy your day xx   \n",
              "4                                                                                                                                                                                                                                    So, I just admitted that I might have PTSD and BPD, apart from OCD, which I admitted I have last summer, finally, after being in denail about it for half a year. Plus social anxiety and insomnia. And depression and anger issues.\\nSo I think it's not really about getting rid of OCD, or getting read of PTSD, it's about getting a better mental health and having a greater quality of life overall. It's about making healthy choices in spite of your difficulties, and having a good therapist to guide your way and together with which to swim and make a little order in the myriad of thoughts we have. And it's about also realising that thoughts are just like clouds in the sky, they come and they go, and we sometimes have better and more enjoyable things to do than focus on them.\\nLife is worth living, after all.\\nI see a lot of people here talking about relapses, changing themes... I wanted to put this idea out here.\\nThree years ago my goal was to lose weight. I did everthing I could in order to achieve it, and I did. After I did it, I started being lazy, I stopped exercising and eating healthy, and here I am, three years later, 40 pounds overweight.\\nNobody expects to stay in great shape if they stop exercising and stop eating healthy. So why is it that some would expect to stop doing what's healthy for them mentally and have great mental health?\\nThe brain is a muscle, and as any muscle we have, if we stop training it it gets soggy.\\nWhen we develop OCD is an alarm signal to start doing those healthy things which we know are healthy for us. But really, everyone could benefit from training their brains: through meditation, mindfulness, exercising, eating healthy, learning when it is worthy to worry and when it is not...\\nWe are not our OCD, BPD, PTSD and the key to recovery is to make recovery from OCD a byproduct of the healthy lifestyle choices you make: act according to your values, in spite of your fears, do the things you wanna do, work towards your goals, cultivate your passions, and others.\\nThat's what I believe is the key not only to recovery from OCD for good, but olso to build a more happier, meaningul life.\\nI, for one, now that I admitted that I might also have these other two mental disorders, apart from the three I knew I had, I am determined to change. I am determined to work hard towards recovering from PTSD and BPD and OCD and develop the mental tools which will help me further along in my journey through life, to put all these mental health issues behind.\\nI encourage you all to have faith in yourself, in your ability to change and in your ability to make life as you want it.\\nPeace.   \n",
              "\n",
              "                                                                                                                                           prefLabel  \\\n",
              "0                                                                                                                              ['OCD', 'depression']   \n",
              "1                                                   ['dizziness', 'Thought', 'hallway', 'OCD', 'outside', 'Rituals', 'fear', 'bathroom', 'checking']   \n",
              "2                                                                                                                                           ['drop']   \n",
              "3                                                                                              ['rash', 'Rituals', 'hope', 'Bullying', 'joy', 'OCD']   \n",
              "4  ['anxiety', 'anxiety', 'insomnia', 'depression', 'anger', 'quality', 'joy', 'talking', 'overweight', 'fear', 'mental disorder', 'Thought', 'OCD']   \n",
              "\n",
              "  postAnnotations  \\\n",
              "0       ['spike']   \n",
              "1     ['Rituals']   \n",
              "2       ['theme']   \n",
              "3     ['Rituals']   \n",
              "4       ['theme']   \n",
              "\n",
              "                                                                                                                                 mergedAnnotations  \\\n",
              "0                                                                                                                   ['spike', 'depression', 'OCD']   \n",
              "1                                                 ['outside', 'hallway', 'bathroom', 'fear', 'Thought', 'Rituals', 'checking', 'dizziness', 'OCD']   \n",
              "2                                                                                                                                ['drop', 'theme']   \n",
              "3                                                                                            ['OCD', 'Bullying', 'rash', 'Rituals', 'joy', 'hope']   \n",
              "4  ['talking', 'quality', 'anxiety', 'mental disorder', 'depression', 'anger', 'fear', 'Thought', 'joy', 'overweight', 'insomnia', 'theme', 'OCD']   \n",
              "\n",
              "   enriched-ontology-obsession  enriched-ontology-compulsion  obsession-expert  Compulsion-expert  \\\n",
              "0                          1.0                           NaN               1.0                0.0   \n",
              "1                          NaN                           1.0               0.0                1.0   \n",
              "2                          1.0                           NaN               0.0                0.0   \n",
              "3                          NaN                           1.0               0.0                1.0   \n",
              "4                          1.0                           NaN               0.0                0.0   \n",
              "\n",
              "                                                                                                                                                                                                                                                                                                                                                                                                                                                                                                                                                                                                                                                                                                                                                                                                                                              Explanation  \n",
              "0                                                                                                                                                                                                                                                                                                                                                                                                                                                                                                                                                                                                                                                                                                    My OCD had spiked and I was calling out sick for weeks. / I have a mental illness and had a nervous breakdown. /  My unemployment runs out next week  \n",
              "1  The truth is, I feel really upset and feel I'm setting too much store by my OCD right now, making myself sick and dizzy and hot by checking the switches night after night and I think I might have done it just because. I finally hit rock-bottom last night - there's one switch in particular that doesn't 'do anything', right next to the bathroom one. Both of them are outside the bathroom door. I keep checking both switches - even though it's obvious they're both turned off - and I keep checking and checking, counting to and fro in my head. I also get paranoid still about getting water on switches. Unfortunately, all this backwards and forwards kept making me want to go to the bathroom, which is a problem because it turns into a vicious circle./ I'm scared because doing the rituals seem to have become part of me.\\n  \n",
              "2                                                                                                                                                                                                                                                                                                                                                                                                                                                                                                                                                                                                                                                                                                                                                                                                                                                     NaN  \n",
              "3                                                                                                                                                                                                                                                                                                                                                                                                                                                                                                                                                                                           I had an explosion of ocd/  I started panicking, googling, asking, researching, ruminating, i felt sick all the time, I felt I couldn't go on and my life was over. /  I was OBSESSED with this because I kept feeding the fire by carrying out my rituals.\\n  \n",
              "4                                                                                                                                                                                                                                                                                                                                                                                                                                                                                                                                                                                                                                                                                                                                                                        I might have PTSD and BPD, apart from OCD, which I admitted I have last summer,   "
            ],
            "text/html": [
              "\n",
              "  <div id=\"df-26e16843-8c91-476a-87b0-30b7a792deca\" class=\"colab-df-container\">\n",
              "    <div>\n",
              "<style scoped>\n",
              "    .dataframe tbody tr th:only-of-type {\n",
              "        vertical-align: middle;\n",
              "    }\n",
              "\n",
              "    .dataframe tbody tr th {\n",
              "        vertical-align: top;\n",
              "    }\n",
              "\n",
              "    .dataframe thead th {\n",
              "        text-align: right;\n",
              "    }\n",
              "</style>\n",
              "<table border=\"1\" class=\"dataframe\">\n",
              "  <thead>\n",
              "    <tr style=\"text-align: right;\">\n",
              "      <th></th>\n",
              "      <th>post</th>\n",
              "      <th>prefLabel</th>\n",
              "      <th>postAnnotations</th>\n",
              "      <th>mergedAnnotations</th>\n",
              "      <th>enriched-ontology-obsession</th>\n",
              "      <th>enriched-ontology-compulsion</th>\n",
              "      <th>obsession-expert</th>\n",
              "      <th>Compulsion-expert</th>\n",
              "      <th>Explanation</th>\n",
              "    </tr>\n",
              "  </thead>\n",
              "  <tbody>\n",
              "    <tr>\n",
              "      <th>0</th>\n",
              "      <td>January of this year I was let go from my job. My OCD had spiked and I was calling out sick for weeks. They were kind enough and felt bad I was so \"\"\"\"sick\"\"\"\" that laid me off so I could collect unemployment and keep my insurance benefits. My unemployment runs out next week.\\nI am doing much better now and though the prospect of going back to work scares me I do not have an option. My big concern is explaining the gap in my work history. It is not as though I can say, Hi, I have a mental illness and had a nervous breakdown.\\nI am also concerned because I have talk therapy once to twice a week to deal with my depression and PTSD, and I am supposed to be starting CBT soon. I am not sure how I would go about getting the time needed for these very important things.\\nDoes anyone have any advice to offer??\\nThanks so much in advance!!\\n~jenna</td>\n",
              "      <td>['OCD', 'depression']</td>\n",
              "      <td>['spike']</td>\n",
              "      <td>['spike', 'depression', 'OCD']</td>\n",
              "      <td>1.0</td>\n",
              "      <td>NaN</td>\n",
              "      <td>1.0</td>\n",
              "      <td>0.0</td>\n",
              "      <td>My OCD had spiked and I was calling out sick for weeks. / I have a mental illness and had a nervous breakdown. /  My unemployment runs out next week</td>\n",
              "    </tr>\n",
              "    <tr>\n",
              "      <th>1</th>\n",
              "      <td>Hello everyone\\nWe've had my two-year-old niece with us for most of this week and she's actually been really good for me because she's kept me busy and active and I think might have helped me confront some of my thoughts.\\nHowever, right now, I'm a little bit frightened. I've been going through a thing for some time when I would keep checking all the switches in our hallway. Some of them don't 'go' anywhere, they're just stray switches but then because they don't do anything, that seemed to stress me out even more in case I started a fire somewhere secret. But more than that, I'm afraid I might have been checking for them for the sake of checking.\\nThe truth is, I feel really upset and feel I'm setting too much store by my OCD right now, making myself sick and dizzy and hot by checking the switches night after night and I think I might have done it just because. I finally hit rock-bottom last night - there's one switch in particular that doesn't 'do anything', right next to the bathroom one. Both of them are outside the bathroom door. I keep checking both switches - even though it's obvious they're both turned off - and I keep checking and checking, counting to and fro in my head. I also get paranoid still about getting water on switches. Unfortunately, all this backwards and forwards kept making me want to go to the bathroom, which is a problem because it turns into a vicious circle.\\nI got into a state last night and told my dad everything and he told me to 'rationalise' and not check the switches. So now I'm not.\\nAnd this is the daft thing - but I feel really scared. I'm scared because I'm not doing it and I'm scared the game is finally up for me - that the whole world has done what it can for me and there's no more help I can be given. I'm scared because doing the rituals seem to have become part of me. I'm scared because I fear a kind of 'arrogance' taking me over and I'm scared of how I feel in case I sabotage my own chances of recovery - something I really fear doing.\\nI feel I need a distraction, but I'm not sure what. I'm just so scared of myself.\\nC x</td>\n",
              "      <td>['dizziness', 'Thought', 'hallway', 'OCD', 'outside', 'Rituals', 'fear', 'bathroom', 'checking']</td>\n",
              "      <td>['Rituals']</td>\n",
              "      <td>['outside', 'hallway', 'bathroom', 'fear', 'Thought', 'Rituals', 'checking', 'dizziness', 'OCD']</td>\n",
              "      <td>NaN</td>\n",
              "      <td>1.0</td>\n",
              "      <td>0.0</td>\n",
              "      <td>1.0</td>\n",
              "      <td>The truth is, I feel really upset and feel I'm setting too much store by my OCD right now, making myself sick and dizzy and hot by checking the switches night after night and I think I might have done it just because. I finally hit rock-bottom last night - there's one switch in particular that doesn't 'do anything', right next to the bathroom one. Both of them are outside the bathroom door. I keep checking both switches - even though it's obvious they're both turned off - and I keep checking and checking, counting to and fro in my head. I also get paranoid still about getting water on switches. Unfortunately, all this backwards and forwards kept making me want to go to the bathroom, which is a problem because it turns into a vicious circle./ I'm scared because doing the rituals seem to have become part of me.\\n</td>\n",
              "    </tr>\n",
              "    <tr>\n",
              "      <th>2</th>\n",
              "      <td>Hello everyone\\nFeeling a bit down at the moment (yeah, I know *facepalm*) My parents have dropped me back off at my student housing for the night and I'm the only one here, which I wasn't really expecting. I've just been feeling a little afraid, and worried I won't be able to trust myself, especially as my parents were quite keen on me coming back with them, and took a fair bit of persuasion to let me stay, because I was in desperate need of some space.\\n... On the plus side, I'm keeping myself busy! Anyone fancy a singalong to the Dennis the Menace theme tune?</td>\n",
              "      <td>['drop']</td>\n",
              "      <td>['theme']</td>\n",
              "      <td>['drop', 'theme']</td>\n",
              "      <td>1.0</td>\n",
              "      <td>NaN</td>\n",
              "      <td>0.0</td>\n",
              "      <td>0.0</td>\n",
              "      <td>NaN</td>\n",
              "    </tr>\n",
              "    <tr>\n",
              "      <th>3</th>\n",
              "      <td>I wanted to share with you this little illustration of why reassurance seeing doesn't work... I guess it might help someone, feel free to skip though as it's quite boring\\nso anyway, a few months ago I had an explosion of ocd, which prompted me to join this forum. It was by far the worst experience of ocd I've ever had, if not any kind of experience. I had this worry that I was going to be arrested for something that happened many years ago. I wanted - needed - certainty. I was absolutely desperate. It was the lowest I've ever been and I ended up in a pretty dark place.\\nAnyway I like to think I'm quite a rational minded person, so I wanted to look at the scientific odds of this happening. I'd read a self help book once that said this was a good way of reducing your worry.\\nI made a list of eight things that would have to happen in order for my worries to come true, and then gave an honest percentage to each event in terms of how likely they were to happen. My estimate was pretty generous as I was by this point quite convinced. I then multiplied them together and came out with a one in 300,000 chance of my worry coming true. I couldn't argue with maths: this was the truth.\\nSo for a couple of days I had a spring in my step, feeling like the world had been lifted. \"\"\"\"this reassurance DOES work\"\"\"\" I told myself.\\nBut then the doubt crept in. My brain wrapped itself round that one chance, even though it was one in three hundred thousand, at best. That \"\"\"\"one\"\"\"\" loomed large in my mind. It wasn't good enough. I started panicking, googling, asking, researching, ruminating, i felt sick all the time, I felt I couldn't go on and my life was over... in short I got stuck on the ocd roundabout and couldn't get off.\\nSo even though I was quite satisfied that the odds were infinitely small - much smaller than the chances of a car crash, getting cancer, having a heart attack etc (none of which worried me at all) - I was OBSESSED with this because I kept feeding the fire by carrying out my rituals.\\nSo I guess the point I wanted to get across is that... the reassurance seeking/researching never ever ever ever ever works because even if there's only one chance in three hundred thousand, or in a billion, ocd will still latch onto it. The ONLY way to move past it is to say \"\"\"\"ok, whatever, maybe that will happen, I can't read the future\"\"\"\" and get on with life.\\nI hope this doesn't seem at all condescending or preachy - that's not how I mean it at all, cos I still massively struggle with this! - it just really struck me as quite a stark illustration of how reassurance never works, no matter how tempting it is. So if anyone is reading this, desperate for certainty on a particular issue, please stop, you'll never get certainty - you don't need it! it's just ocd. Forget him and his bullying ways. just get on and enjoy your day xx</td>\n",
              "      <td>['rash', 'Rituals', 'hope', 'Bullying', 'joy', 'OCD']</td>\n",
              "      <td>['Rituals']</td>\n",
              "      <td>['OCD', 'Bullying', 'rash', 'Rituals', 'joy', 'hope']</td>\n",
              "      <td>NaN</td>\n",
              "      <td>1.0</td>\n",
              "      <td>0.0</td>\n",
              "      <td>1.0</td>\n",
              "      <td>I had an explosion of ocd/  I started panicking, googling, asking, researching, ruminating, i felt sick all the time, I felt I couldn't go on and my life was over. /  I was OBSESSED with this because I kept feeding the fire by carrying out my rituals.\\n</td>\n",
              "    </tr>\n",
              "    <tr>\n",
              "      <th>4</th>\n",
              "      <td>So, I just admitted that I might have PTSD and BPD, apart from OCD, which I admitted I have last summer, finally, after being in denail about it for half a year. Plus social anxiety and insomnia. And depression and anger issues.\\nSo I think it's not really about getting rid of OCD, or getting read of PTSD, it's about getting a better mental health and having a greater quality of life overall. It's about making healthy choices in spite of your difficulties, and having a good therapist to guide your way and together with which to swim and make a little order in the myriad of thoughts we have. And it's about also realising that thoughts are just like clouds in the sky, they come and they go, and we sometimes have better and more enjoyable things to do than focus on them.\\nLife is worth living, after all.\\nI see a lot of people here talking about relapses, changing themes... I wanted to put this idea out here.\\nThree years ago my goal was to lose weight. I did everthing I could in order to achieve it, and I did. After I did it, I started being lazy, I stopped exercising and eating healthy, and here I am, three years later, 40 pounds overweight.\\nNobody expects to stay in great shape if they stop exercising and stop eating healthy. So why is it that some would expect to stop doing what's healthy for them mentally and have great mental health?\\nThe brain is a muscle, and as any muscle we have, if we stop training it it gets soggy.\\nWhen we develop OCD is an alarm signal to start doing those healthy things which we know are healthy for us. But really, everyone could benefit from training their brains: through meditation, mindfulness, exercising, eating healthy, learning when it is worthy to worry and when it is not...\\nWe are not our OCD, BPD, PTSD and the key to recovery is to make recovery from OCD a byproduct of the healthy lifestyle choices you make: act according to your values, in spite of your fears, do the things you wanna do, work towards your goals, cultivate your passions, and others.\\nThat's what I believe is the key not only to recovery from OCD for good, but olso to build a more happier, meaningul life.\\nI, for one, now that I admitted that I might also have these other two mental disorders, apart from the three I knew I had, I am determined to change. I am determined to work hard towards recovering from PTSD and BPD and OCD and develop the mental tools which will help me further along in my journey through life, to put all these mental health issues behind.\\nI encourage you all to have faith in yourself, in your ability to change and in your ability to make life as you want it.\\nPeace.</td>\n",
              "      <td>['anxiety', 'anxiety', 'insomnia', 'depression', 'anger', 'quality', 'joy', 'talking', 'overweight', 'fear', 'mental disorder', 'Thought', 'OCD']</td>\n",
              "      <td>['theme']</td>\n",
              "      <td>['talking', 'quality', 'anxiety', 'mental disorder', 'depression', 'anger', 'fear', 'Thought', 'joy', 'overweight', 'insomnia', 'theme', 'OCD']</td>\n",
              "      <td>1.0</td>\n",
              "      <td>NaN</td>\n",
              "      <td>0.0</td>\n",
              "      <td>0.0</td>\n",
              "      <td>I might have PTSD and BPD, apart from OCD, which I admitted I have last summer,</td>\n",
              "    </tr>\n",
              "  </tbody>\n",
              "</table>\n",
              "</div>\n",
              "    <div class=\"colab-df-buttons\">\n",
              "\n",
              "  <div class=\"colab-df-container\">\n",
              "    <button class=\"colab-df-convert\" onclick=\"convertToInteractive('df-26e16843-8c91-476a-87b0-30b7a792deca')\"\n",
              "            title=\"Convert this dataframe to an interactive table.\"\n",
              "            style=\"display:none;\">\n",
              "\n",
              "  <svg xmlns=\"http://www.w3.org/2000/svg\" height=\"24px\" viewBox=\"0 -960 960 960\">\n",
              "    <path d=\"M120-120v-720h720v720H120Zm60-500h600v-160H180v160Zm220 220h160v-160H400v160Zm0 220h160v-160H400v160ZM180-400h160v-160H180v160Zm440 0h160v-160H620v160ZM180-180h160v-160H180v160Zm440 0h160v-160H620v160Z\"/>\n",
              "  </svg>\n",
              "    </button>\n",
              "\n",
              "  <style>\n",
              "    .colab-df-container {\n",
              "      display:flex;\n",
              "      gap: 12px;\n",
              "    }\n",
              "\n",
              "    .colab-df-convert {\n",
              "      background-color: #E8F0FE;\n",
              "      border: none;\n",
              "      border-radius: 50%;\n",
              "      cursor: pointer;\n",
              "      display: none;\n",
              "      fill: #1967D2;\n",
              "      height: 32px;\n",
              "      padding: 0 0 0 0;\n",
              "      width: 32px;\n",
              "    }\n",
              "\n",
              "    .colab-df-convert:hover {\n",
              "      background-color: #E2EBFA;\n",
              "      box-shadow: 0px 1px 2px rgba(60, 64, 67, 0.3), 0px 1px 3px 1px rgba(60, 64, 67, 0.15);\n",
              "      fill: #174EA6;\n",
              "    }\n",
              "\n",
              "    .colab-df-buttons div {\n",
              "      margin-bottom: 4px;\n",
              "    }\n",
              "\n",
              "    [theme=dark] .colab-df-convert {\n",
              "      background-color: #3B4455;\n",
              "      fill: #D2E3FC;\n",
              "    }\n",
              "\n",
              "    [theme=dark] .colab-df-convert:hover {\n",
              "      background-color: #434B5C;\n",
              "      box-shadow: 0px 1px 3px 1px rgba(0, 0, 0, 0.15);\n",
              "      filter: drop-shadow(0px 1px 2px rgba(0, 0, 0, 0.3));\n",
              "      fill: #FFFFFF;\n",
              "    }\n",
              "  </style>\n",
              "\n",
              "    <script>\n",
              "      const buttonEl =\n",
              "        document.querySelector('#df-26e16843-8c91-476a-87b0-30b7a792deca button.colab-df-convert');\n",
              "      buttonEl.style.display =\n",
              "        google.colab.kernel.accessAllowed ? 'block' : 'none';\n",
              "\n",
              "      async function convertToInteractive(key) {\n",
              "        const element = document.querySelector('#df-26e16843-8c91-476a-87b0-30b7a792deca');\n",
              "        const dataTable =\n",
              "          await google.colab.kernel.invokeFunction('convertToInteractive',\n",
              "                                                    [key], {});\n",
              "        if (!dataTable) return;\n",
              "\n",
              "        const docLinkHtml = 'Like what you see? Visit the ' +\n",
              "          '<a target=\"_blank\" href=https://colab.research.google.com/notebooks/data_table.ipynb>data table notebook</a>'\n",
              "          + ' to learn more about interactive tables.';\n",
              "        element.innerHTML = '';\n",
              "        dataTable['output_type'] = 'display_data';\n",
              "        await google.colab.output.renderOutput(dataTable, element);\n",
              "        const docLink = document.createElement('div');\n",
              "        docLink.innerHTML = docLinkHtml;\n",
              "        element.appendChild(docLink);\n",
              "      }\n",
              "    </script>\n",
              "  </div>\n",
              "\n",
              "\n",
              "<div id=\"df-b0f9f5cd-0cba-495e-85d0-0b5984872397\">\n",
              "  <button class=\"colab-df-quickchart\" onclick=\"quickchart('df-b0f9f5cd-0cba-495e-85d0-0b5984872397')\"\n",
              "            title=\"Suggest charts\"\n",
              "            style=\"display:none;\">\n",
              "\n",
              "<svg xmlns=\"http://www.w3.org/2000/svg\" height=\"24px\"viewBox=\"0 0 24 24\"\n",
              "     width=\"24px\">\n",
              "    <g>\n",
              "        <path d=\"M19 3H5c-1.1 0-2 .9-2 2v14c0 1.1.9 2 2 2h14c1.1 0 2-.9 2-2V5c0-1.1-.9-2-2-2zM9 17H7v-7h2v7zm4 0h-2V7h2v10zm4 0h-2v-4h2v4z\"/>\n",
              "    </g>\n",
              "</svg>\n",
              "  </button>\n",
              "\n",
              "<style>\n",
              "  .colab-df-quickchart {\n",
              "      --bg-color: #E8F0FE;\n",
              "      --fill-color: #1967D2;\n",
              "      --hover-bg-color: #E2EBFA;\n",
              "      --hover-fill-color: #174EA6;\n",
              "      --disabled-fill-color: #AAA;\n",
              "      --disabled-bg-color: #DDD;\n",
              "  }\n",
              "\n",
              "  [theme=dark] .colab-df-quickchart {\n",
              "      --bg-color: #3B4455;\n",
              "      --fill-color: #D2E3FC;\n",
              "      --hover-bg-color: #434B5C;\n",
              "      --hover-fill-color: #FFFFFF;\n",
              "      --disabled-bg-color: #3B4455;\n",
              "      --disabled-fill-color: #666;\n",
              "  }\n",
              "\n",
              "  .colab-df-quickchart {\n",
              "    background-color: var(--bg-color);\n",
              "    border: none;\n",
              "    border-radius: 50%;\n",
              "    cursor: pointer;\n",
              "    display: none;\n",
              "    fill: var(--fill-color);\n",
              "    height: 32px;\n",
              "    padding: 0;\n",
              "    width: 32px;\n",
              "  }\n",
              "\n",
              "  .colab-df-quickchart:hover {\n",
              "    background-color: var(--hover-bg-color);\n",
              "    box-shadow: 0 1px 2px rgba(60, 64, 67, 0.3), 0 1px 3px 1px rgba(60, 64, 67, 0.15);\n",
              "    fill: var(--button-hover-fill-color);\n",
              "  }\n",
              "\n",
              "  .colab-df-quickchart-complete:disabled,\n",
              "  .colab-df-quickchart-complete:disabled:hover {\n",
              "    background-color: var(--disabled-bg-color);\n",
              "    fill: var(--disabled-fill-color);\n",
              "    box-shadow: none;\n",
              "  }\n",
              "\n",
              "  .colab-df-spinner {\n",
              "    border: 2px solid var(--fill-color);\n",
              "    border-color: transparent;\n",
              "    border-bottom-color: var(--fill-color);\n",
              "    animation:\n",
              "      spin 1s steps(1) infinite;\n",
              "  }\n",
              "\n",
              "  @keyframes spin {\n",
              "    0% {\n",
              "      border-color: transparent;\n",
              "      border-bottom-color: var(--fill-color);\n",
              "      border-left-color: var(--fill-color);\n",
              "    }\n",
              "    20% {\n",
              "      border-color: transparent;\n",
              "      border-left-color: var(--fill-color);\n",
              "      border-top-color: var(--fill-color);\n",
              "    }\n",
              "    30% {\n",
              "      border-color: transparent;\n",
              "      border-left-color: var(--fill-color);\n",
              "      border-top-color: var(--fill-color);\n",
              "      border-right-color: var(--fill-color);\n",
              "    }\n",
              "    40% {\n",
              "      border-color: transparent;\n",
              "      border-right-color: var(--fill-color);\n",
              "      border-top-color: var(--fill-color);\n",
              "    }\n",
              "    60% {\n",
              "      border-color: transparent;\n",
              "      border-right-color: var(--fill-color);\n",
              "    }\n",
              "    80% {\n",
              "      border-color: transparent;\n",
              "      border-right-color: var(--fill-color);\n",
              "      border-bottom-color: var(--fill-color);\n",
              "    }\n",
              "    90% {\n",
              "      border-color: transparent;\n",
              "      border-bottom-color: var(--fill-color);\n",
              "    }\n",
              "  }\n",
              "</style>\n",
              "\n",
              "  <script>\n",
              "    async function quickchart(key) {\n",
              "      const quickchartButtonEl =\n",
              "        document.querySelector('#' + key + ' button');\n",
              "      quickchartButtonEl.disabled = true;  // To prevent multiple clicks.\n",
              "      quickchartButtonEl.classList.add('colab-df-spinner');\n",
              "      try {\n",
              "        const charts = await google.colab.kernel.invokeFunction(\n",
              "            'suggestCharts', [key], {});\n",
              "      } catch (error) {\n",
              "        console.error('Error during call to suggestCharts:', error);\n",
              "      }\n",
              "      quickchartButtonEl.classList.remove('colab-df-spinner');\n",
              "      quickchartButtonEl.classList.add('colab-df-quickchart-complete');\n",
              "    }\n",
              "    (() => {\n",
              "      let quickchartButtonEl =\n",
              "        document.querySelector('#df-b0f9f5cd-0cba-495e-85d0-0b5984872397 button');\n",
              "      quickchartButtonEl.style.display =\n",
              "        google.colab.kernel.accessAllowed ? 'block' : 'none';\n",
              "    })();\n",
              "  </script>\n",
              "</div>\n",
              "\n",
              "    </div>\n",
              "  </div>\n"
            ],
            "application/vnd.google.colaboratory.intrinsic+json": {
              "type": "dataframe",
              "variable_name": "unlabed_data",
              "summary": "{\n  \"name\": \"unlabed_data\",\n  \"rows\": 1769,\n  \"fields\": [\n    {\n      \"column\": \"post\",\n      \"properties\": {\n        \"dtype\": \"string\",\n        \"num_unique_values\": 1764,\n        \"samples\": [\n          \"Not sure if i have ocd but spend about an hour just washing my hands desparate to get some control appear to be getting worse can anyone recommend a good therapist in the west midlands area,\",\n          \"so my house mate has a cold sore, which she keeps touching and then touching things in the house and its just sent me off and I can't stop washing my hands and it feels like everything is dirty and I can't clean it and im not clean and im panicking a little bit \\nvi\",\n          \"This is what works for me in response to a spike. Engaging with spike in any way like accepting possibilities, applying logic etc just make me stuck in OCD loop. Is it because my OCD is bad at the moment and later I would be able to accept possibilities etc? That means I should calm me a little for some time and then work on cognitive side. Or it is just ok and I should stick with refusing to engage with the thought at all and refocusing away? Please suggest me.\\nEdited May 15, 2018 by worriedjohn\"\n        ],\n        \"semantic_type\": \"\",\n        \"description\": \"\"\n      }\n    },\n    {\n      \"column\": \"prefLabel\",\n      \"properties\": {\n        \"dtype\": \"string\",\n        \"num_unique_values\": 1338,\n        \"samples\": [\n          \"['Treatment', 'toilet', 'interest', 'anxiety', 'anxiety', 'OCD']\",\n          \"['Rituals', 'interest', 'outside', 'role', 'Treatment', 'Activity', 'Thought', 'OCD']\",\n          \"['washing hands', 'joy', 'fall', 'OCD', 'Thought']\"\n        ],\n        \"semantic_type\": \"\",\n        \"description\": \"\"\n      }\n    },\n    {\n      \"column\": \"postAnnotations\",\n      \"properties\": {\n        \"dtype\": \"category\",\n        \"num_unique_values\": 67,\n        \"samples\": [\n          \"['intrusive thought', 'theme']\",\n          \"['rumination', 'sensation', 'obsessive']\",\n          \"[\\u2018Rituals\\u2019]\"\n        ],\n        \"semantic_type\": \"\",\n        \"description\": \"\"\n      }\n    },\n    {\n      \"column\": \"mergedAnnotations\",\n      \"properties\": {\n        \"dtype\": \"string\",\n        \"num_unique_values\": 1343,\n        \"samples\": [\n          \"['shaking', 'anxiety', 'social media', 'depression', 'fear', 'Thought', 'spike', 'OCD']\",\n          \"['rumination', 'process', 'Treatment', 'Thought', 'spike', 'OCD']\",\n          \"['flatulence', 'washing hands', 'gastroenteritis', 'enteritis', 'fear', 'toilet', 'symptom', 'OCD']\"\n        ],\n        \"semantic_type\": \"\",\n        \"description\": \"\"\n      }\n    },\n    {\n      \"column\": \"enriched-ontology-obsession\",\n      \"properties\": {\n        \"dtype\": \"number\",\n        \"std\": 0.0,\n        \"min\": 1.0,\n        \"max\": 1.0,\n        \"num_unique_values\": 1,\n        \"samples\": [\n          1.0\n        ],\n        \"semantic_type\": \"\",\n        \"description\": \"\"\n      }\n    },\n    {\n      \"column\": \"enriched-ontology-compulsion\",\n      \"properties\": {\n        \"dtype\": \"number\",\n        \"std\": 0.0,\n        \"min\": 1.0,\n        \"max\": 1.0,\n        \"num_unique_values\": 1,\n        \"samples\": [\n          1.0\n        ],\n        \"semantic_type\": \"\",\n        \"description\": \"\"\n      }\n    },\n    {\n      \"column\": \"obsession-expert\",\n      \"properties\": {\n        \"dtype\": \"number\",\n        \"std\": 0.4823065112637651,\n        \"min\": 0.0,\n        \"max\": 1.0,\n        \"num_unique_values\": 2,\n        \"samples\": [\n          0.0\n        ],\n        \"semantic_type\": \"\",\n        \"description\": \"\"\n      }\n    },\n    {\n      \"column\": \"Compulsion-expert\",\n      \"properties\": {\n        \"dtype\": \"number\",\n        \"std\": 0.4907304010662191,\n        \"min\": 0.0,\n        \"max\": 1.0,\n        \"num_unique_values\": 2,\n        \"samples\": [\n          1.0\n        ],\n        \"semantic_type\": \"\",\n        \"description\": \"\"\n      }\n    },\n    {\n      \"column\": \"Explanation\",\n      \"properties\": {\n        \"dtype\": \"category\",\n        \"num_unique_values\": 112,\n        \"samples\": [\n          \"I still had the thoughts and the rituals, they were no where near as bad as before I was taking the Seroxat.\\n\"\n        ],\n        \"semantic_type\": \"\",\n        \"description\": \"\"\n      }\n    }\n  ]\n}"
            }
          },
          "metadata": {},
          "execution_count": 41
        }
      ],
      "source": [
        "unlabed_data.head()"
      ]
    },
    {
      "cell_type": "code",
      "execution_count": null,
      "metadata": {
        "id": "QjU-9hGpVhun",
        "colab": {
          "base_uri": "https://localhost:8080/",
          "height": 1000
        },
        "outputId": "52fc8341-6ef1-4ec3-94f5-018e4b44783d"
      },
      "outputs": [
        {
          "output_type": "execute_result",
          "data": {
            "text/plain": [
              "                                                                                                                                                                                                                                                                                                                                                                                                                                                                                                                                                                                                                                                                                                                                                                                                                                                                                                                                                                                                                                                                                                                                                                                                                                                                                                                                                                                                                                                                                                                                                                                                                                                                                                                                                      post  \\\n",
              "0                                                                                                                                                                                                                                                                                                                                                                                                                                                                                                                                                                                                                                                                                                                                                                                                                                                                                                                                                                                                                                                                                                                                                                                                                                                        january year let go job ocd spiked calling sick week kind enough felt bad sick laid could collect unemployment keep insurance benefit unemployment run next week much better though prospect going back work scare option big concern explaining gap work history though say hi mental illness nervous breakdown also concerned talk therapy twice week deal depression ptsd supposed starting cbt soon sure would go getting time needed important thing anyone advice offer thanks much advance   \n",
              "1                                                                                                                                                                                                                                                                                                                                                                                                                                                                                                                                                                                                                                                      hello everyone niece u week actually really good kept busy active think might helped confront thought however right little bit frightened going thing time would keep checking switch hallway anywhere stray switch anything seemed stress even case started fire somewhere secret afraid might checking sake checking truth feel really upset feel setting much store ocd right making sick dizzy hot checking switch night night think might done finally hit last night one switch particular anything right next bathroom one outside bathroom door keep checking switch even though obvious turned keep checking checking counting fro head also get paranoid still getting water switch unfortunately backwards forward kept making want go bathroom problem turn vicious circle got state last night told dad everything told check switch daft thing feel really scared scared scared game finally whole world done help given scared ritual seem become part scared fear kind taking scared feel case sabotage chance recovery something really fear feel need distraction sure scared c x   \n",
              "2                                                                                                                                                                                                                                                                                                                                                                                                                                                                                                                                                                                                                                                                                                                                                                                                                                                                                                                                                                                                                                                                                                                                                                                                                                                                                                                                                                                                                      hello everyone feeling bit moment yeah know facepalm parent dropped back student housing night one really expecting feeling little afraid worried able trust especially parent quite keen coming back took fair bit persuasion let stay desperate need space plus side keeping busy anyone fancy singalong dennis menace theme tune   \n",
              "3  wanted share little illustration reassurance seeing work guess might help someone feel free skip though quite boring anyway month ago explosion ocd prompted join forum far worst experience ocd ever kind experience worry going arrested something happened many year ago wanted needed certainty absolutely desperate lowest ever ended pretty dark place anyway like think quite rational minded person wanted look scientific odds happening would read self help book said good way reducing worry made list eight thing would happen order worry come true gave honest percentage event term likely happen estimate pretty generous point quite convinced multiplied together came one chance worry coming true could argue math truth couple day spring step feeling like world lifted reassurance work told doubt crept brain wrapped round one chance even though one three hundred thousand best one loomed large mind good enough started panicking googling asking researching ruminating felt sick time felt could go life short got stuck ocd roundabout could get even though quite satisfied odds infinitely small much smaller chance car crash getting cancer heart attack etc none worried obsessed kept feeding fire carrying ritual guess point wanted get across reassurance never ever ever ever ever work even one chance three hundred thousand billion ocd still latch onto way move past say ok whatever maybe happen read future get life hope seem condescending preachy mean co still massively struggle really struck quite stark illustration reassurance never work matter tempting anyone reading desperate certainty particular issue please stop never get certainty need ocd forget bullying way get enjoy day xx   \n",
              "4                                                                                                                                                                                            admitted might ptsd bpd apart ocd admitted last summer finally denail half year plus social anxiety insomnia depression anger issue think really getting rid ocd getting read ptsd getting better mental health greater quality life overall making healthy choice spite difficulty good therapist guide way together swim make little order myriad thought also realising thought like cloud sky come go sometimes better enjoyable thing focus life worth living see lot people talking relapse changing theme wanted put idea three year ago goal lose weight everthing could order achieve started lazy stopped exercising eating healthy three year later 40 pound overweight nobody expects stay great shape stop exercising stop eating healthy would expect stop healthy mentally great mental health brain muscle muscle stop training get soggy develop ocd alarm signal start healthy thing know healthy u really everyone could benefit training brain meditation mindfulness exercising eating healthy learning worthy worry ocd bpd ptsd key recovery make recovery ocd byproduct healthy lifestyle choice make act according value spite fear thing want work towards goal cultivate passion others believe key recovery ocd good olso build happier meaningul life one admitted might also two mental disorder apart three knew determined change determined work hard towards recovering ptsd bpd ocd develop mental tool help along journey life put mental health issue behind encourage faith ability change ability make life want peace   \n",
              "\n",
              "                                                                                                                                           prefLabel  \\\n",
              "0                                                                                                                              ['OCD', 'depression']   \n",
              "1                                                   ['dizziness', 'Thought', 'hallway', 'OCD', 'outside', 'Rituals', 'fear', 'bathroom', 'checking']   \n",
              "2                                                                                                                                           ['drop']   \n",
              "3                                                                                              ['rash', 'Rituals', 'hope', 'Bullying', 'joy', 'OCD']   \n",
              "4  ['anxiety', 'anxiety', 'insomnia', 'depression', 'anger', 'quality', 'joy', 'talking', 'overweight', 'fear', 'mental disorder', 'Thought', 'OCD']   \n",
              "\n",
              "  postAnnotations  \\\n",
              "0       ['spike']   \n",
              "1     ['Rituals']   \n",
              "2       ['theme']   \n",
              "3     ['Rituals']   \n",
              "4       ['theme']   \n",
              "\n",
              "                                                                                                                                 mergedAnnotations  \\\n",
              "0                                                                                                                   ['spike', 'depression', 'OCD']   \n",
              "1                                                 ['outside', 'hallway', 'bathroom', 'fear', 'Thought', 'Rituals', 'checking', 'dizziness', 'OCD']   \n",
              "2                                                                                                                                ['drop', 'theme']   \n",
              "3                                                                                            ['OCD', 'Bullying', 'rash', 'Rituals', 'joy', 'hope']   \n",
              "4  ['talking', 'quality', 'anxiety', 'mental disorder', 'depression', 'anger', 'fear', 'Thought', 'joy', 'overweight', 'insomnia', 'theme', 'OCD']   \n",
              "\n",
              "   enriched-ontology-obsession  enriched-ontology-compulsion  obsession-expert  Compulsion-expert  \\\n",
              "0                          1.0                           NaN               1.0                0.0   \n",
              "1                          NaN                           1.0               0.0                1.0   \n",
              "2                          1.0                           NaN               0.0                0.0   \n",
              "3                          NaN                           1.0               0.0                1.0   \n",
              "4                          1.0                           NaN               0.0                0.0   \n",
              "\n",
              "                                                                                                                                                                                                                                                                                                                                                                                                                                                                                                                                                                                                                                                                                                                                                                                                                                              Explanation  \\\n",
              "0                                                                                                                                                                                                                                                                                                                                                                                                                                                                                                                                                                                                                                                                                                    My OCD had spiked and I was calling out sick for weeks. / I have a mental illness and had a nervous breakdown. /  My unemployment runs out next week   \n",
              "1  The truth is, I feel really upset and feel I'm setting too much store by my OCD right now, making myself sick and dizzy and hot by checking the switches night after night and I think I might have done it just because. I finally hit rock-bottom last night - there's one switch in particular that doesn't 'do anything', right next to the bathroom one. Both of them are outside the bathroom door. I keep checking both switches - even though it's obvious they're both turned off - and I keep checking and checking, counting to and fro in my head. I also get paranoid still about getting water on switches. Unfortunately, all this backwards and forwards kept making me want to go to the bathroom, which is a problem because it turns into a vicious circle./ I'm scared because doing the rituals seem to have become part of me.\\n   \n",
              "2                                                                                                                                                                                                                                                                                                                                                                                                                                                                                                                                                                                                                                                                                                                                                                                                                                                     NaN   \n",
              "3                                                                                                                                                                                                                                                                                                                                                                                                                                                                                                                                                                                           I had an explosion of ocd/  I started panicking, googling, asking, researching, ruminating, i felt sick all the time, I felt I couldn't go on and my life was over. /  I was OBSESSED with this because I kept feeding the fire by carrying out my rituals.\\n   \n",
              "4                                                                                                                                                                                                                                                                                                                                                                                                                                                                                                                                                                                                                                                                                                                                                                        I might have PTSD and BPD, apart from OCD, which I admitted I have last summer,    \n",
              "\n",
              "                                                                                                                                                                                                                                                                                                                                                                                                                                                                                                                                                                                                                                                                                                                                                                                                                                                                                                                                                                                                                                                                                                                                                                                                                                                                                                                                                                                                                                                                                                                                                                                                                                                                                                                                                                                                                                                                                                                                                                                                                                                                                                                                                                                                                                                                                                                                                                                                                                                                                                                                                                                                                                                                                                                                           clean_text  \n",
              "0                                                                                                                                                                                                                                                                                                                                                                                                                                                                                                                                                                                                                                                                                                                                                                                                                                                                                                                                                                                                                                                                                                                                                                                                                                                                                                                                                                                                                                                                                                                                                                                                                                                                                                                                                                                                                                                                                                                                 january of this year was let go from my job my ocd had spiked and was calling out sick for weeks they were kind enough and felt bad was so sick that laid me off so could collect unemployment and keep my insurance benefits my unemployment runs out next week am doing much better now and though the prospect of going back to work scares me do not have an option my big concern is explaining the gap in my work history it is not as though can say hi have mental illness and had nervous breakdown am also concerned because have talk therapy once to twice week to deal with my depression and ptsd and am supposed to be starting cbt soon am not sure how would go about getting the time needed for these very important things does anyone have any advice to offer thanks so much in advance jenna  \n",
              "1                                                                                                                                                                                                                                                                                                                                                                                                                                                                                                                                                                                                                                                                                                                 hello everyone weve had my twoyearold niece with us for most of this week and shes actually been really good for me because shes kept me busy and active and think might have helped me confront some of my thoughts however right now im little bit frightened ive been going through thing for some time when would keep checking all the switches in our hallway some of them dont go anywhere theyre just stray switches but then because they dont do anything that seemed to stress me out even more in case started fire somewhere secret but more than that im afraid might have been checking for them for the sake of checking the truth is feel really upset and feel im setting too much store by my ocd right now making myself sick and dizzy and hot by checking the switches night after night and think might have done it just because finally hit rockbottom last night theres one switch in particular that doesnt do anything right next to the bathroom one both of them are outside the bathroom door keep checking both switches even though its obvious theyre both turned off and keep checking and checking counting to and fro in my head also get paranoid still about getting water on switches unfortunately all this backwards and forwards kept making me want to go to the bathroom which is problem because it turns into vicious circle got into state last night and told my dad everything and he told me to rationalise and not check the switches so now im not and this is the daft thing but feel really scared im scared because im not doing it and im scared the game is finally up for me that the whole world has done what it can for me and theres no more help can be given im scared because doing the rituals seem to have become part of me im scared because fear kind of arrogance taking me over and im scared of how feel in case sabotage my own chances of recovery something really fear doing feel need distraction but im not sure what im just so scared of myself x  \n",
              "2                                                                                                                                                                                                                                                                                                                                                                                                                                                                                                                                                                                                                                                                                                                                                                                                                                                                                                                                                                                                                                                                                                                                                                                                                                                                                                                                                                                                                                                                                                                                                                                                                                                                                                                                                                                                                                                                                                                                                                                                                                                                                                                                                                                                      hello everyone feeling bit down at the moment yeah know facepalm my parents have dropped me back off at my student housing for the night and im the only one here which wasnt really expecting ive just been feeling little afraid and worried wont be able to trust myself especially as my parents were quite keen on me coming back with them and took fair bit of persuasion to let me stay because was in desperate need of some space on the plus side im keeping myself busy anyone fancy singalong to the dennis the menace theme tune  \n",
              "3  i wanted to share with you this little illustration of why reassurance seeing doesnt work guess it might help someone feel free to skip though as its quite boring so anyway few months ago had an explosion of ocd which prompted me to join this forum it was by far the worst experience of ocd ive ever had if not any kind of experience had this worry that was going to be arrested for something that happened many years ago wanted needed certainty was absolutely desperate it was the lowest ive ever been and ended up in pretty dark place anyway like to think im quite rational minded person so wanted to look at the scientific odds of this happening id read self help book once that said this was good way of reducing your worry made list of eight things that would have to happen in order for my worries to come true and then gave an honest percentage to each event in terms of how likely they were to happen my estimate was pretty generous as was by this point quite convinced then multiplied them together and came out with one in chance of my worry coming true couldnt argue with maths this was the truth so for couple of days had spring in my step feeling like the world had been lifted this reassurance does work told myself but then the doubt crept in my brain wrapped itself round that one chance even though it was one in three hundred thousand at best that one loomed large in my mind it wasnt good enough started panicking googling asking researching ruminating felt sick all the time felt couldnt go on and my life was over in short got stuck on the ocd roundabout and couldnt get off so even though was quite satisfied that the odds were infinitely small much smaller than the chances of car crash getting cancer having heart attack etc none of which worried me at all was obsessed with this because kept feeding the fire by carrying out my rituals so guess the point wanted to get across is that the reassurance seekingresearching never ever ever ever ever works because even if theres only one chance in three hundred thousand or in billion ocd will still latch onto it the only way to move past it is to say ok whatever maybe that will happen cant read the future and get on with life hope this doesnt seem at all condescending or preachy thats not how mean it at all cos still massively struggle with this it just really struck me as quite stark illustration of how reassurance never works no matter how tempting it is so if anyone is reading this desperate for certainty on particular issue please stop youll never get certainty you dont need it its just ocd forget him and his bullying ways just get on and enjoy your day xx  \n",
              "4                                                                                                                                                              so just admitted that might have ptsd and bpd apart from ocd which admitted have last summer finally after being in denail about it for half year plus social anxiety and insomnia and depression and anger issues so think its not really about getting rid of ocd or getting read of ptsd its about getting better mental health and having greater quality of life overall its about making healthy choices in spite of your difficulties and having good therapist to guide your way and together with which to swim and make little order in the myriad of thoughts we have and its about also realising that thoughts are just like clouds in the sky they come and they go and we sometimes have better and more enjoyable things to do than focus on them life is worth living after all see lot of people here talking about relapses changing themes wanted to put this idea out here three years ago my goal was to lose weight did everthing could in order to achieve it and did after did it started being lazy stopped exercising and eating healthy and here am three years later pounds overweight nobody expects to stay in great shape if they stop exercising and stop eating healthy so why is it that some would expect to stop doing whats healthy for them mentally and have great mental health the brain is muscle and as any muscle we have if we stop training it it gets soggy when we develop ocd is an alarm signal to start doing those healthy things which we know are healthy for us but really everyone could benefit from training their brains through meditation mindfulness exercising eating healthy learning when it is worthy to worry and when it is not we are not our ocd bpd ptsd and the key to recovery is to make recovery from ocd byproduct of the healthy lifestyle choices you make act according to your values in spite of your fears do the things you wanna do work towards your goals cultivate your passions and others thats what believe is the key not only to recovery from ocd for good but olso to build more happier meaningul life for one now that admitted that might also have these other two mental disorders apart from the three knew had am determined to change am determined to work hard towards recovering from ptsd and bpd and ocd and develop the mental tools which will help me further along in my journey through life to put all these mental health issues behind encourage you all to have faith in yourself in your ability to change and in your ability to make life as you want it peace  "
            ],
            "text/html": [
              "\n",
              "  <div id=\"df-13a141ab-bf63-42c4-aaf7-62d29b5e564f\" class=\"colab-df-container\">\n",
              "    <div>\n",
              "<style scoped>\n",
              "    .dataframe tbody tr th:only-of-type {\n",
              "        vertical-align: middle;\n",
              "    }\n",
              "\n",
              "    .dataframe tbody tr th {\n",
              "        vertical-align: top;\n",
              "    }\n",
              "\n",
              "    .dataframe thead th {\n",
              "        text-align: right;\n",
              "    }\n",
              "</style>\n",
              "<table border=\"1\" class=\"dataframe\">\n",
              "  <thead>\n",
              "    <tr style=\"text-align: right;\">\n",
              "      <th></th>\n",
              "      <th>post</th>\n",
              "      <th>prefLabel</th>\n",
              "      <th>postAnnotations</th>\n",
              "      <th>mergedAnnotations</th>\n",
              "      <th>enriched-ontology-obsession</th>\n",
              "      <th>enriched-ontology-compulsion</th>\n",
              "      <th>obsession-expert</th>\n",
              "      <th>Compulsion-expert</th>\n",
              "      <th>Explanation</th>\n",
              "      <th>clean_text</th>\n",
              "    </tr>\n",
              "  </thead>\n",
              "  <tbody>\n",
              "    <tr>\n",
              "      <th>0</th>\n",
              "      <td>january year let go job ocd spiked calling sick week kind enough felt bad sick laid could collect unemployment keep insurance benefit unemployment run next week much better though prospect going back work scare option big concern explaining gap work history though say hi mental illness nervous breakdown also concerned talk therapy twice week deal depression ptsd supposed starting cbt soon sure would go getting time needed important thing anyone advice offer thanks much advance</td>\n",
              "      <td>['OCD', 'depression']</td>\n",
              "      <td>['spike']</td>\n",
              "      <td>['spike', 'depression', 'OCD']</td>\n",
              "      <td>1.0</td>\n",
              "      <td>NaN</td>\n",
              "      <td>1.0</td>\n",
              "      <td>0.0</td>\n",
              "      <td>My OCD had spiked and I was calling out sick for weeks. / I have a mental illness and had a nervous breakdown. /  My unemployment runs out next week</td>\n",
              "      <td>january of this year was let go from my job my ocd had spiked and was calling out sick for weeks they were kind enough and felt bad was so sick that laid me off so could collect unemployment and keep my insurance benefits my unemployment runs out next week am doing much better now and though the prospect of going back to work scares me do not have an option my big concern is explaining the gap in my work history it is not as though can say hi have mental illness and had nervous breakdown am also concerned because have talk therapy once to twice week to deal with my depression and ptsd and am supposed to be starting cbt soon am not sure how would go about getting the time needed for these very important things does anyone have any advice to offer thanks so much in advance jenna</td>\n",
              "    </tr>\n",
              "    <tr>\n",
              "      <th>1</th>\n",
              "      <td>hello everyone niece u week actually really good kept busy active think might helped confront thought however right little bit frightened going thing time would keep checking switch hallway anywhere stray switch anything seemed stress even case started fire somewhere secret afraid might checking sake checking truth feel really upset feel setting much store ocd right making sick dizzy hot checking switch night night think might done finally hit last night one switch particular anything right next bathroom one outside bathroom door keep checking switch even though obvious turned keep checking checking counting fro head also get paranoid still getting water switch unfortunately backwards forward kept making want go bathroom problem turn vicious circle got state last night told dad everything told check switch daft thing feel really scared scared scared game finally whole world done help given scared ritual seem become part scared fear kind taking scared feel case sabotage chance recovery something really fear feel need distraction sure scared c x</td>\n",
              "      <td>['dizziness', 'Thought', 'hallway', 'OCD', 'outside', 'Rituals', 'fear', 'bathroom', 'checking']</td>\n",
              "      <td>['Rituals']</td>\n",
              "      <td>['outside', 'hallway', 'bathroom', 'fear', 'Thought', 'Rituals', 'checking', 'dizziness', 'OCD']</td>\n",
              "      <td>NaN</td>\n",
              "      <td>1.0</td>\n",
              "      <td>0.0</td>\n",
              "      <td>1.0</td>\n",
              "      <td>The truth is, I feel really upset and feel I'm setting too much store by my OCD right now, making myself sick and dizzy and hot by checking the switches night after night and I think I might have done it just because. I finally hit rock-bottom last night - there's one switch in particular that doesn't 'do anything', right next to the bathroom one. Both of them are outside the bathroom door. I keep checking both switches - even though it's obvious they're both turned off - and I keep checking and checking, counting to and fro in my head. I also get paranoid still about getting water on switches. Unfortunately, all this backwards and forwards kept making me want to go to the bathroom, which is a problem because it turns into a vicious circle./ I'm scared because doing the rituals seem to have become part of me.\\n</td>\n",
              "      <td>hello everyone weve had my twoyearold niece with us for most of this week and shes actually been really good for me because shes kept me busy and active and think might have helped me confront some of my thoughts however right now im little bit frightened ive been going through thing for some time when would keep checking all the switches in our hallway some of them dont go anywhere theyre just stray switches but then because they dont do anything that seemed to stress me out even more in case started fire somewhere secret but more than that im afraid might have been checking for them for the sake of checking the truth is feel really upset and feel im setting too much store by my ocd right now making myself sick and dizzy and hot by checking the switches night after night and think might have done it just because finally hit rockbottom last night theres one switch in particular that doesnt do anything right next to the bathroom one both of them are outside the bathroom door keep checking both switches even though its obvious theyre both turned off and keep checking and checking counting to and fro in my head also get paranoid still about getting water on switches unfortunately all this backwards and forwards kept making me want to go to the bathroom which is problem because it turns into vicious circle got into state last night and told my dad everything and he told me to rationalise and not check the switches so now im not and this is the daft thing but feel really scared im scared because im not doing it and im scared the game is finally up for me that the whole world has done what it can for me and theres no more help can be given im scared because doing the rituals seem to have become part of me im scared because fear kind of arrogance taking me over and im scared of how feel in case sabotage my own chances of recovery something really fear doing feel need distraction but im not sure what im just so scared of myself x</td>\n",
              "    </tr>\n",
              "    <tr>\n",
              "      <th>2</th>\n",
              "      <td>hello everyone feeling bit moment yeah know facepalm parent dropped back student housing night one really expecting feeling little afraid worried able trust especially parent quite keen coming back took fair bit persuasion let stay desperate need space plus side keeping busy anyone fancy singalong dennis menace theme tune</td>\n",
              "      <td>['drop']</td>\n",
              "      <td>['theme']</td>\n",
              "      <td>['drop', 'theme']</td>\n",
              "      <td>1.0</td>\n",
              "      <td>NaN</td>\n",
              "      <td>0.0</td>\n",
              "      <td>0.0</td>\n",
              "      <td>NaN</td>\n",
              "      <td>hello everyone feeling bit down at the moment yeah know facepalm my parents have dropped me back off at my student housing for the night and im the only one here which wasnt really expecting ive just been feeling little afraid and worried wont be able to trust myself especially as my parents were quite keen on me coming back with them and took fair bit of persuasion to let me stay because was in desperate need of some space on the plus side im keeping myself busy anyone fancy singalong to the dennis the menace theme tune</td>\n",
              "    </tr>\n",
              "    <tr>\n",
              "      <th>3</th>\n",
              "      <td>wanted share little illustration reassurance seeing work guess might help someone feel free skip though quite boring anyway month ago explosion ocd prompted join forum far worst experience ocd ever kind experience worry going arrested something happened many year ago wanted needed certainty absolutely desperate lowest ever ended pretty dark place anyway like think quite rational minded person wanted look scientific odds happening would read self help book said good way reducing worry made list eight thing would happen order worry come true gave honest percentage event term likely happen estimate pretty generous point quite convinced multiplied together came one chance worry coming true could argue math truth couple day spring step feeling like world lifted reassurance work told doubt crept brain wrapped round one chance even though one three hundred thousand best one loomed large mind good enough started panicking googling asking researching ruminating felt sick time felt could go life short got stuck ocd roundabout could get even though quite satisfied odds infinitely small much smaller chance car crash getting cancer heart attack etc none worried obsessed kept feeding fire carrying ritual guess point wanted get across reassurance never ever ever ever ever work even one chance three hundred thousand billion ocd still latch onto way move past say ok whatever maybe happen read future get life hope seem condescending preachy mean co still massively struggle really struck quite stark illustration reassurance never work matter tempting anyone reading desperate certainty particular issue please stop never get certainty need ocd forget bullying way get enjoy day xx</td>\n",
              "      <td>['rash', 'Rituals', 'hope', 'Bullying', 'joy', 'OCD']</td>\n",
              "      <td>['Rituals']</td>\n",
              "      <td>['OCD', 'Bullying', 'rash', 'Rituals', 'joy', 'hope']</td>\n",
              "      <td>NaN</td>\n",
              "      <td>1.0</td>\n",
              "      <td>0.0</td>\n",
              "      <td>1.0</td>\n",
              "      <td>I had an explosion of ocd/  I started panicking, googling, asking, researching, ruminating, i felt sick all the time, I felt I couldn't go on and my life was over. /  I was OBSESSED with this because I kept feeding the fire by carrying out my rituals.\\n</td>\n",
              "      <td>i wanted to share with you this little illustration of why reassurance seeing doesnt work guess it might help someone feel free to skip though as its quite boring so anyway few months ago had an explosion of ocd which prompted me to join this forum it was by far the worst experience of ocd ive ever had if not any kind of experience had this worry that was going to be arrested for something that happened many years ago wanted needed certainty was absolutely desperate it was the lowest ive ever been and ended up in pretty dark place anyway like to think im quite rational minded person so wanted to look at the scientific odds of this happening id read self help book once that said this was good way of reducing your worry made list of eight things that would have to happen in order for my worries to come true and then gave an honest percentage to each event in terms of how likely they were to happen my estimate was pretty generous as was by this point quite convinced then multiplied them together and came out with one in chance of my worry coming true couldnt argue with maths this was the truth so for couple of days had spring in my step feeling like the world had been lifted this reassurance does work told myself but then the doubt crept in my brain wrapped itself round that one chance even though it was one in three hundred thousand at best that one loomed large in my mind it wasnt good enough started panicking googling asking researching ruminating felt sick all the time felt couldnt go on and my life was over in short got stuck on the ocd roundabout and couldnt get off so even though was quite satisfied that the odds were infinitely small much smaller than the chances of car crash getting cancer having heart attack etc none of which worried me at all was obsessed with this because kept feeding the fire by carrying out my rituals so guess the point wanted to get across is that the reassurance seekingresearching never ever ever ever ever works because even if theres only one chance in three hundred thousand or in billion ocd will still latch onto it the only way to move past it is to say ok whatever maybe that will happen cant read the future and get on with life hope this doesnt seem at all condescending or preachy thats not how mean it at all cos still massively struggle with this it just really struck me as quite stark illustration of how reassurance never works no matter how tempting it is so if anyone is reading this desperate for certainty on particular issue please stop youll never get certainty you dont need it its just ocd forget him and his bullying ways just get on and enjoy your day xx</td>\n",
              "    </tr>\n",
              "    <tr>\n",
              "      <th>4</th>\n",
              "      <td>admitted might ptsd bpd apart ocd admitted last summer finally denail half year plus social anxiety insomnia depression anger issue think really getting rid ocd getting read ptsd getting better mental health greater quality life overall making healthy choice spite difficulty good therapist guide way together swim make little order myriad thought also realising thought like cloud sky come go sometimes better enjoyable thing focus life worth living see lot people talking relapse changing theme wanted put idea three year ago goal lose weight everthing could order achieve started lazy stopped exercising eating healthy three year later 40 pound overweight nobody expects stay great shape stop exercising stop eating healthy would expect stop healthy mentally great mental health brain muscle muscle stop training get soggy develop ocd alarm signal start healthy thing know healthy u really everyone could benefit training brain meditation mindfulness exercising eating healthy learning worthy worry ocd bpd ptsd key recovery make recovery ocd byproduct healthy lifestyle choice make act according value spite fear thing want work towards goal cultivate passion others believe key recovery ocd good olso build happier meaningul life one admitted might also two mental disorder apart three knew determined change determined work hard towards recovering ptsd bpd ocd develop mental tool help along journey life put mental health issue behind encourage faith ability change ability make life want peace</td>\n",
              "      <td>['anxiety', 'anxiety', 'insomnia', 'depression', 'anger', 'quality', 'joy', 'talking', 'overweight', 'fear', 'mental disorder', 'Thought', 'OCD']</td>\n",
              "      <td>['theme']</td>\n",
              "      <td>['talking', 'quality', 'anxiety', 'mental disorder', 'depression', 'anger', 'fear', 'Thought', 'joy', 'overweight', 'insomnia', 'theme', 'OCD']</td>\n",
              "      <td>1.0</td>\n",
              "      <td>NaN</td>\n",
              "      <td>0.0</td>\n",
              "      <td>0.0</td>\n",
              "      <td>I might have PTSD and BPD, apart from OCD, which I admitted I have last summer,</td>\n",
              "      <td>so just admitted that might have ptsd and bpd apart from ocd which admitted have last summer finally after being in denail about it for half year plus social anxiety and insomnia and depression and anger issues so think its not really about getting rid of ocd or getting read of ptsd its about getting better mental health and having greater quality of life overall its about making healthy choices in spite of your difficulties and having good therapist to guide your way and together with which to swim and make little order in the myriad of thoughts we have and its about also realising that thoughts are just like clouds in the sky they come and they go and we sometimes have better and more enjoyable things to do than focus on them life is worth living after all see lot of people here talking about relapses changing themes wanted to put this idea out here three years ago my goal was to lose weight did everthing could in order to achieve it and did after did it started being lazy stopped exercising and eating healthy and here am three years later pounds overweight nobody expects to stay in great shape if they stop exercising and stop eating healthy so why is it that some would expect to stop doing whats healthy for them mentally and have great mental health the brain is muscle and as any muscle we have if we stop training it it gets soggy when we develop ocd is an alarm signal to start doing those healthy things which we know are healthy for us but really everyone could benefit from training their brains through meditation mindfulness exercising eating healthy learning when it is worthy to worry and when it is not we are not our ocd bpd ptsd and the key to recovery is to make recovery from ocd byproduct of the healthy lifestyle choices you make act according to your values in spite of your fears do the things you wanna do work towards your goals cultivate your passions and others thats what believe is the key not only to recovery from ocd for good but olso to build more happier meaningul life for one now that admitted that might also have these other two mental disorders apart from the three knew had am determined to change am determined to work hard towards recovering from ptsd and bpd and ocd and develop the mental tools which will help me further along in my journey through life to put all these mental health issues behind encourage you all to have faith in yourself in your ability to change and in your ability to make life as you want it peace</td>\n",
              "    </tr>\n",
              "  </tbody>\n",
              "</table>\n",
              "</div>\n",
              "    <div class=\"colab-df-buttons\">\n",
              "\n",
              "  <div class=\"colab-df-container\">\n",
              "    <button class=\"colab-df-convert\" onclick=\"convertToInteractive('df-13a141ab-bf63-42c4-aaf7-62d29b5e564f')\"\n",
              "            title=\"Convert this dataframe to an interactive table.\"\n",
              "            style=\"display:none;\">\n",
              "\n",
              "  <svg xmlns=\"http://www.w3.org/2000/svg\" height=\"24px\" viewBox=\"0 -960 960 960\">\n",
              "    <path d=\"M120-120v-720h720v720H120Zm60-500h600v-160H180v160Zm220 220h160v-160H400v160Zm0 220h160v-160H400v160ZM180-400h160v-160H180v160Zm440 0h160v-160H620v160ZM180-180h160v-160H180v160Zm440 0h160v-160H620v160Z\"/>\n",
              "  </svg>\n",
              "    </button>\n",
              "\n",
              "  <style>\n",
              "    .colab-df-container {\n",
              "      display:flex;\n",
              "      gap: 12px;\n",
              "    }\n",
              "\n",
              "    .colab-df-convert {\n",
              "      background-color: #E8F0FE;\n",
              "      border: none;\n",
              "      border-radius: 50%;\n",
              "      cursor: pointer;\n",
              "      display: none;\n",
              "      fill: #1967D2;\n",
              "      height: 32px;\n",
              "      padding: 0 0 0 0;\n",
              "      width: 32px;\n",
              "    }\n",
              "\n",
              "    .colab-df-convert:hover {\n",
              "      background-color: #E2EBFA;\n",
              "      box-shadow: 0px 1px 2px rgba(60, 64, 67, 0.3), 0px 1px 3px 1px rgba(60, 64, 67, 0.15);\n",
              "      fill: #174EA6;\n",
              "    }\n",
              "\n",
              "    .colab-df-buttons div {\n",
              "      margin-bottom: 4px;\n",
              "    }\n",
              "\n",
              "    [theme=dark] .colab-df-convert {\n",
              "      background-color: #3B4455;\n",
              "      fill: #D2E3FC;\n",
              "    }\n",
              "\n",
              "    [theme=dark] .colab-df-convert:hover {\n",
              "      background-color: #434B5C;\n",
              "      box-shadow: 0px 1px 3px 1px rgba(0, 0, 0, 0.15);\n",
              "      filter: drop-shadow(0px 1px 2px rgba(0, 0, 0, 0.3));\n",
              "      fill: #FFFFFF;\n",
              "    }\n",
              "  </style>\n",
              "\n",
              "    <script>\n",
              "      const buttonEl =\n",
              "        document.querySelector('#df-13a141ab-bf63-42c4-aaf7-62d29b5e564f button.colab-df-convert');\n",
              "      buttonEl.style.display =\n",
              "        google.colab.kernel.accessAllowed ? 'block' : 'none';\n",
              "\n",
              "      async function convertToInteractive(key) {\n",
              "        const element = document.querySelector('#df-13a141ab-bf63-42c4-aaf7-62d29b5e564f');\n",
              "        const dataTable =\n",
              "          await google.colab.kernel.invokeFunction('convertToInteractive',\n",
              "                                                    [key], {});\n",
              "        if (!dataTable) return;\n",
              "\n",
              "        const docLinkHtml = 'Like what you see? Visit the ' +\n",
              "          '<a target=\"_blank\" href=https://colab.research.google.com/notebooks/data_table.ipynb>data table notebook</a>'\n",
              "          + ' to learn more about interactive tables.';\n",
              "        element.innerHTML = '';\n",
              "        dataTable['output_type'] = 'display_data';\n",
              "        await google.colab.output.renderOutput(dataTable, element);\n",
              "        const docLink = document.createElement('div');\n",
              "        docLink.innerHTML = docLinkHtml;\n",
              "        element.appendChild(docLink);\n",
              "      }\n",
              "    </script>\n",
              "  </div>\n",
              "\n",
              "\n",
              "<div id=\"df-03ce7a9f-8daa-4723-99f7-74bd5f286d40\">\n",
              "  <button class=\"colab-df-quickchart\" onclick=\"quickchart('df-03ce7a9f-8daa-4723-99f7-74bd5f286d40')\"\n",
              "            title=\"Suggest charts\"\n",
              "            style=\"display:none;\">\n",
              "\n",
              "<svg xmlns=\"http://www.w3.org/2000/svg\" height=\"24px\"viewBox=\"0 0 24 24\"\n",
              "     width=\"24px\">\n",
              "    <g>\n",
              "        <path d=\"M19 3H5c-1.1 0-2 .9-2 2v14c0 1.1.9 2 2 2h14c1.1 0 2-.9 2-2V5c0-1.1-.9-2-2-2zM9 17H7v-7h2v7zm4 0h-2V7h2v10zm4 0h-2v-4h2v4z\"/>\n",
              "    </g>\n",
              "</svg>\n",
              "  </button>\n",
              "\n",
              "<style>\n",
              "  .colab-df-quickchart {\n",
              "      --bg-color: #E8F0FE;\n",
              "      --fill-color: #1967D2;\n",
              "      --hover-bg-color: #E2EBFA;\n",
              "      --hover-fill-color: #174EA6;\n",
              "      --disabled-fill-color: #AAA;\n",
              "      --disabled-bg-color: #DDD;\n",
              "  }\n",
              "\n",
              "  [theme=dark] .colab-df-quickchart {\n",
              "      --bg-color: #3B4455;\n",
              "      --fill-color: #D2E3FC;\n",
              "      --hover-bg-color: #434B5C;\n",
              "      --hover-fill-color: #FFFFFF;\n",
              "      --disabled-bg-color: #3B4455;\n",
              "      --disabled-fill-color: #666;\n",
              "  }\n",
              "\n",
              "  .colab-df-quickchart {\n",
              "    background-color: var(--bg-color);\n",
              "    border: none;\n",
              "    border-radius: 50%;\n",
              "    cursor: pointer;\n",
              "    display: none;\n",
              "    fill: var(--fill-color);\n",
              "    height: 32px;\n",
              "    padding: 0;\n",
              "    width: 32px;\n",
              "  }\n",
              "\n",
              "  .colab-df-quickchart:hover {\n",
              "    background-color: var(--hover-bg-color);\n",
              "    box-shadow: 0 1px 2px rgba(60, 64, 67, 0.3), 0 1px 3px 1px rgba(60, 64, 67, 0.15);\n",
              "    fill: var(--button-hover-fill-color);\n",
              "  }\n",
              "\n",
              "  .colab-df-quickchart-complete:disabled,\n",
              "  .colab-df-quickchart-complete:disabled:hover {\n",
              "    background-color: var(--disabled-bg-color);\n",
              "    fill: var(--disabled-fill-color);\n",
              "    box-shadow: none;\n",
              "  }\n",
              "\n",
              "  .colab-df-spinner {\n",
              "    border: 2px solid var(--fill-color);\n",
              "    border-color: transparent;\n",
              "    border-bottom-color: var(--fill-color);\n",
              "    animation:\n",
              "      spin 1s steps(1) infinite;\n",
              "  }\n",
              "\n",
              "  @keyframes spin {\n",
              "    0% {\n",
              "      border-color: transparent;\n",
              "      border-bottom-color: var(--fill-color);\n",
              "      border-left-color: var(--fill-color);\n",
              "    }\n",
              "    20% {\n",
              "      border-color: transparent;\n",
              "      border-left-color: var(--fill-color);\n",
              "      border-top-color: var(--fill-color);\n",
              "    }\n",
              "    30% {\n",
              "      border-color: transparent;\n",
              "      border-left-color: var(--fill-color);\n",
              "      border-top-color: var(--fill-color);\n",
              "      border-right-color: var(--fill-color);\n",
              "    }\n",
              "    40% {\n",
              "      border-color: transparent;\n",
              "      border-right-color: var(--fill-color);\n",
              "      border-top-color: var(--fill-color);\n",
              "    }\n",
              "    60% {\n",
              "      border-color: transparent;\n",
              "      border-right-color: var(--fill-color);\n",
              "    }\n",
              "    80% {\n",
              "      border-color: transparent;\n",
              "      border-right-color: var(--fill-color);\n",
              "      border-bottom-color: var(--fill-color);\n",
              "    }\n",
              "    90% {\n",
              "      border-color: transparent;\n",
              "      border-bottom-color: var(--fill-color);\n",
              "    }\n",
              "  }\n",
              "</style>\n",
              "\n",
              "  <script>\n",
              "    async function quickchart(key) {\n",
              "      const quickchartButtonEl =\n",
              "        document.querySelector('#' + key + ' button');\n",
              "      quickchartButtonEl.disabled = true;  // To prevent multiple clicks.\n",
              "      quickchartButtonEl.classList.add('colab-df-spinner');\n",
              "      try {\n",
              "        const charts = await google.colab.kernel.invokeFunction(\n",
              "            'suggestCharts', [key], {});\n",
              "      } catch (error) {\n",
              "        console.error('Error during call to suggestCharts:', error);\n",
              "      }\n",
              "      quickchartButtonEl.classList.remove('colab-df-spinner');\n",
              "      quickchartButtonEl.classList.add('colab-df-quickchart-complete');\n",
              "    }\n",
              "    (() => {\n",
              "      let quickchartButtonEl =\n",
              "        document.querySelector('#df-03ce7a9f-8daa-4723-99f7-74bd5f286d40 button');\n",
              "      quickchartButtonEl.style.display =\n",
              "        google.colab.kernel.accessAllowed ? 'block' : 'none';\n",
              "    })();\n",
              "  </script>\n",
              "</div>\n",
              "\n",
              "    </div>\n",
              "  </div>\n"
            ],
            "application/vnd.google.colaboratory.intrinsic+json": {
              "type": "dataframe",
              "variable_name": "unlabed_data",
              "summary": "{\n  \"name\": \"unlabed_data\",\n  \"rows\": 1769,\n  \"fields\": [\n    {\n      \"column\": \"post\",\n      \"properties\": {\n        \"dtype\": \"string\",\n        \"num_unique_values\": 1764,\n        \"samples\": [\n          \"sure ocd spend hour washing hand desparate get control appear getting worse anyone recommend good therapist west midland area\",\n          \"house mate cold sore keep touching touching thing house sent stop washing hand feel like everything dirty clean clean panicking little bit vi\",\n          \"work response spike engaging spike way like accepting possibility applying logic etc make stuck ocd loop ocd bad moment later would able accept possibility etc mean calm little time work cognitive side ok stick refusing engage thought refocusing away please suggest edited may 15 2018 worriedjohn\"\n        ],\n        \"semantic_type\": \"\",\n        \"description\": \"\"\n      }\n    },\n    {\n      \"column\": \"prefLabel\",\n      \"properties\": {\n        \"dtype\": \"string\",\n        \"num_unique_values\": 1338,\n        \"samples\": [\n          \"['Treatment', 'toilet', 'interest', 'anxiety', 'anxiety', 'OCD']\",\n          \"['Rituals', 'interest', 'outside', 'role', 'Treatment', 'Activity', 'Thought', 'OCD']\",\n          \"['washing hands', 'joy', 'fall', 'OCD', 'Thought']\"\n        ],\n        \"semantic_type\": \"\",\n        \"description\": \"\"\n      }\n    },\n    {\n      \"column\": \"postAnnotations\",\n      \"properties\": {\n        \"dtype\": \"category\",\n        \"num_unique_values\": 67,\n        \"samples\": [\n          \"['intrusive thought', 'theme']\",\n          \"['rumination', 'sensation', 'obsessive']\",\n          \"[\\u2018Rituals\\u2019]\"\n        ],\n        \"semantic_type\": \"\",\n        \"description\": \"\"\n      }\n    },\n    {\n      \"column\": \"mergedAnnotations\",\n      \"properties\": {\n        \"dtype\": \"string\",\n        \"num_unique_values\": 1343,\n        \"samples\": [\n          \"['shaking', 'anxiety', 'social media', 'depression', 'fear', 'Thought', 'spike', 'OCD']\",\n          \"['rumination', 'process', 'Treatment', 'Thought', 'spike', 'OCD']\",\n          \"['flatulence', 'washing hands', 'gastroenteritis', 'enteritis', 'fear', 'toilet', 'symptom', 'OCD']\"\n        ],\n        \"semantic_type\": \"\",\n        \"description\": \"\"\n      }\n    },\n    {\n      \"column\": \"enriched-ontology-obsession\",\n      \"properties\": {\n        \"dtype\": \"number\",\n        \"std\": 0.0,\n        \"min\": 1.0,\n        \"max\": 1.0,\n        \"num_unique_values\": 1,\n        \"samples\": [\n          1.0\n        ],\n        \"semantic_type\": \"\",\n        \"description\": \"\"\n      }\n    },\n    {\n      \"column\": \"enriched-ontology-compulsion\",\n      \"properties\": {\n        \"dtype\": \"number\",\n        \"std\": 0.0,\n        \"min\": 1.0,\n        \"max\": 1.0,\n        \"num_unique_values\": 1,\n        \"samples\": [\n          1.0\n        ],\n        \"semantic_type\": \"\",\n        \"description\": \"\"\n      }\n    },\n    {\n      \"column\": \"obsession-expert\",\n      \"properties\": {\n        \"dtype\": \"number\",\n        \"std\": 0.4823065112637651,\n        \"min\": 0.0,\n        \"max\": 1.0,\n        \"num_unique_values\": 2,\n        \"samples\": [\n          0.0\n        ],\n        \"semantic_type\": \"\",\n        \"description\": \"\"\n      }\n    },\n    {\n      \"column\": \"Compulsion-expert\",\n      \"properties\": {\n        \"dtype\": \"number\",\n        \"std\": 0.4907304010662191,\n        \"min\": 0.0,\n        \"max\": 1.0,\n        \"num_unique_values\": 2,\n        \"samples\": [\n          1.0\n        ],\n        \"semantic_type\": \"\",\n        \"description\": \"\"\n      }\n    },\n    {\n      \"column\": \"Explanation\",\n      \"properties\": {\n        \"dtype\": \"category\",\n        \"num_unique_values\": 112,\n        \"samples\": [\n          \"I still had the thoughts and the rituals, they were no where near as bad as before I was taking the Seroxat.\\n\"\n        ],\n        \"semantic_type\": \"\",\n        \"description\": \"\"\n      }\n    },\n    {\n      \"column\": \"clean_text\",\n      \"properties\": {\n        \"dtype\": \"string\",\n        \"num_unique_values\": 1763,\n        \"samples\": [\n          \"i have pretty much covered every ocd theme in my life most are now dormant or tick along with not much bother contamination harm and pocd are my current really bad ones and struggle every min of every day against one or more of these worries within each one theres so many triggers for example within contamination worry about asbestos lead other metals glass stone sand any dust of any kind chemicals basically any foreign substance or possible poison entering my own but mainly my sons body and causing harm thats bit of background on tuesday was rushed into hospital with suspected ectopic pregnancy in ae in the rush and chaos of it all nurse put cannula into my arm behind my elbow to administer morphine another drip of liquid and to also get blood from me she did terrible job and after several failed attempts finally got the cannula into my arm but badly they were unable to get blood from it about an inch came out before they tried dragging more out which was yucky substance instead of blood anyway as result my arm is in right mess its heavily bruised hurting so badly now even though it was days ago and the ocd has hooked into this and is now trying to convince me that the needle snapped in my arm and is now floating around in my bloodstream know this is not the case well the none ocd bit of me does but all day since the thought first entered my head its been driving me mad the thing im asking for help with is how to deal with the thoughts now am confident with cbt techniques for contamination not washing my hands touching stuff dont want to touch etc but if the rituals havent yet started what can do to make sure they dont start im feeling the need to keep my arm below my heart to ask for reassurance to google etc but resisting doing all those things this is the right thing to do isnt it is there any other techniques can use since being in hospital ive had several other ocd spikes about it all but this one seems to be the one ive hooked into grr btw me and baby are both fine thank god\"\n        ],\n        \"semantic_type\": \"\",\n        \"description\": \"\"\n      }\n    }\n  ]\n}"
            }
          },
          "metadata": {},
          "execution_count": 42
        }
      ],
      "source": [
        "#apply the process of cleaning for the train and test data\n",
        "unlabed_data = clean_text(unlabed_data)\n",
        "unlabed_data['post'] = unlabed_data['post'].apply(process_text)\n",
        "#process_df['clean_text'] = process_df['clean_text'].apply(process_text)\n",
        "unlabed_data.head()"
      ]
    },
    {
      "cell_type": "code",
      "execution_count": null,
      "metadata": {
        "id": "KKeH9Wml-kT6"
      },
      "outputs": [],
      "source": [
        "# Assuming 'clean_text' is the column containing text data\n",
        "unlabeled_data_text = unlabed_data['post']\n",
        "\n",
        "# Transform the unlabelled data using the same CountVectorizer\n",
        "X1 = count_vect.transform(unlabeled_data_text)\n",
        "\n",
        "# Make predictions using the loaded model\n",
        "predictions = rf_classifier.predict(X1)"
      ]
    },
    {
      "cell_type": "code",
      "execution_count": null,
      "metadata": {
        "id": "OiO44v98-kWw",
        "colab": {
          "base_uri": "https://localhost:8080/"
        },
        "outputId": "7a811971-a2fb-4f96-bd3b-bc0ed1497b3e"
      },
      "outputs": [
        {
          "output_type": "stream",
          "name": "stderr",
          "text": [
            "IOPub data rate exceeded.\n",
            "The notebook server will temporarily stop sending output\n",
            "to the client in order to avoid crashing it.\n",
            "To change this limit, set the config variable\n",
            "`--NotebookApp.iopub_data_rate_limit`.\n",
            "\n",
            "Current values:\n",
            "NotebookApp.iopub_data_rate_limit=1000000.0 (bytes/sec)\n",
            "NotebookApp.rate_limit_window=3.0 (secs)\n",
            "\n"
          ]
        }
      ],
      "source": [
        "# Assuming 'predictions' is a NumPy array or Pandas DataFrame containing the predicted labels\n",
        "# Add these predictions to your unlabeled data or save them as needed\n",
        "unlabed_data['predicted_compulsion'] = predictions[:, 0]\n",
        "unlabed_data['predicted_obsession'] = predictions[:, 1]\n",
        "\n",
        "# Display or save the results\n",
        "print(unlabed_data[['post', 'predicted_compulsion', 'predicted_obsession']])"
      ]
    },
    {
      "cell_type": "code",
      "execution_count": null,
      "metadata": {
        "colab": {
          "base_uri": "https://localhost:8080/"
        },
        "id": "1cTqoo-UHqKW",
        "outputId": "b1efa38a-7768-449b-9d3b-c9fe9843fc43"
      },
      "outputs": [
        {
          "output_type": "stream",
          "name": "stdout",
          "text": [
            "\n",
            "Evaluation for 'obsession':\n",
            "              precision    recall  f1-score   support\n",
            "\n",
            "         0.0       0.39      1.00      0.56       114\n",
            "         1.0       1.00      0.02      0.04       186\n",
            "\n",
            "    accuracy                           0.39       300\n",
            "   macro avg       0.69      0.51      0.30       300\n",
            "weighted avg       0.77      0.39      0.24       300\n",
            "\n",
            "\n",
            "Evaluation for 'compulsion':\n",
            "              precision    recall  f1-score   support\n",
            "\n",
            "         0.0       0.57      0.27      0.37       182\n",
            "         1.0       0.38      0.69      0.49       118\n",
            "\n",
            "    accuracy                           0.44       300\n",
            "   macro avg       0.48      0.48      0.43       300\n",
            "weighted avg       0.50      0.44      0.42       300\n",
            "\n",
            "\n",
            "Accuracy for 'obsession': 0.3933333333333333\n",
            "Accuracy for 'compulsion': 0.43666666666666665\n"
          ]
        }
      ],
      "source": [
        "from sklearn.metrics import classification_report, accuracy_score\n",
        "\n",
        "# Assuming 'clean_text' is the column containing text data\n",
        "unlabeled_data_vec_first_300 = count_vect.transform(unlabed_data['post'].head(300))\n",
        "\n",
        "# Make predictions using the loaded model for the first 300 rows\n",
        "predictions_first_300 = rf_classifier.predict(unlabeled_data_vec_first_300)\n",
        "\n",
        "# Assuming unlabeled_data is your DataFrame for the first 300 rows\n",
        "# Replace '...' with your actual DataFrame variable\n",
        "unlabeled_data_first_300 = unlabed_data.head(300)\n",
        "\n",
        "# Replace NaN values in the manual labels with 0 (you can choose a different approach)\n",
        "y_true_first_300 = unlabeled_data_first_300[['obsession-expert', 'Compulsion-expert']].fillna(0).values\n",
        "\n",
        "# Evaluate the model on the first 300 rows\n",
        "print(\"\\nEvaluation for 'obsession':\")\n",
        "print(classification_report(y_true_first_300[:, 0], predictions_first_300[:, 0]))\n",
        "\n",
        "print(\"\\nEvaluation for 'compulsion':\")\n",
        "print(classification_report(y_true_first_300[:, 1], predictions_first_300[:, 1]))\n",
        "\n",
        "# Print accuracy\n",
        "print(\"\\nAccuracy for 'obsession':\", accuracy_score(y_true_first_300[:, 0], predictions_first_300[:, 0]))\n",
        "print(\"Accuracy for 'compulsion':\", accuracy_score(y_true_first_300[:, 1], predictions_first_300[:, 1]))"
      ]
    },
    {
      "cell_type": "code",
      "execution_count": null,
      "metadata": {
        "colab": {
          "base_uri": "https://localhost:8080/"
        },
        "id": "WgHgbejcFD3e",
        "outputId": "b96f2ca5-bd12-47bd-b8a4-a8229ea3293f"
      },
      "outputs": [
        {
          "output_type": "stream",
          "name": "stdout",
          "text": [
            "\n",
            "Manual Label Counts for 'obsession':\n",
            "Label 0: 107\n",
            "Label 1: 186\n",
            "\n",
            "Manual Label Counts for 'compulsion':\n",
            "Label 0: 177\n",
            "Label 1: 118\n",
            "\n",
            "Predicted Label Counts for 'obsession':\n",
            "Label 0: 460\n",
            "Label 1: 1309\n",
            "\n",
            "Predicted Label Counts for 'compulsion':\n",
            "Label 0: 1754\n",
            "Label 1: 15\n"
          ]
        }
      ],
      "source": [
        "from sklearn.metrics import classification_report, accuracy_score\n",
        "\n",
        "# Assuming df is your DataFrame containing the mentioned columns\n",
        "# Replace this line with your actual DataFrame\n",
        "df = ...\n",
        "\n",
        "# Extract the true labels (manual labels) and predicted labels\n",
        "y_true = unlabed_data[['obsession-expert', 'Compulsion-expert']].values\n",
        "y_pred = unlabed_data[['predicted_obsession', 'predicted_compulsion']].values\n",
        "\n",
        "# Evaluate the model on the first 300 posts (exclude rows without manual labels)\n",
        "mask = ~unlabed_data['obsession-expert'].isnull()\n",
        "y_true_sub = y_true[mask]\n",
        "y_pred_sub = y_pred[mask]\n",
        "\n",
        "# Count the number of manual labels for 'obsession'\n",
        "obsession_manual_counts = unlabed_data['obsession-expert'].value_counts().to_dict()\n",
        "print(\"\\nManual Label Counts for 'obsession':\")\n",
        "print(\"Label 0:\", obsession_manual_counts.get(0, 0))\n",
        "print(\"Label 1:\", obsession_manual_counts.get(1, 0))\n",
        "\n",
        "# Count the number of manual labels for 'compulsion'\n",
        "compulsion_manual_counts = unlabed_data['Compulsion-expert'].value_counts().to_dict()\n",
        "print(\"\\nManual Label Counts for 'compulsion':\")\n",
        "print(\"Label 0:\", compulsion_manual_counts.get(0, 0))\n",
        "print(\"Label 1:\", compulsion_manual_counts.get(1, 0))\n",
        "\n",
        "# Count the number of predicted labels for 'obsession'\n",
        "obsession_pred_counts = unlabed_data['predicted_obsession'].value_counts().to_dict()\n",
        "print(\"\\nPredicted Label Counts for 'obsession':\")\n",
        "print(\"Label 0:\", obsession_pred_counts.get(0, 0))\n",
        "print(\"Label 1:\", obsession_pred_counts.get(1, 0))\n",
        "\n",
        "# Count the number of predicted labels for 'compulsion'\n",
        "compulsion_pred_counts = unlabed_data['predicted_compulsion'].value_counts().to_dict()\n",
        "print(\"\\nPredicted Label Counts for 'compulsion':\")\n",
        "print(\"Label 0:\", compulsion_pred_counts.get(0, 0))\n",
        "print(\"Label 1:\", compulsion_pred_counts.get(1, 0))\n"
      ]
    },
    {
      "cell_type": "markdown",
      "metadata": {
        "id": "-8zfL9ZQLtJC"
      },
      "source": []
    },
    {
      "cell_type": "markdown",
      "metadata": {
        "id": "s--kDI2fJZ3M"
      },
      "source": [
        "## NB"
      ]
    },
    {
      "cell_type": "code",
      "execution_count": null,
      "metadata": {
        "colab": {
          "base_uri": "https://localhost:8080/",
          "height": 118
        },
        "id": "miM_r96BNhEd",
        "outputId": "ab915a24-0d69-48b1-de5f-82d93e76dfa5"
      },
      "outputs": [
        {
          "output_type": "execute_result",
          "data": {
            "text/plain": [
              "MultiOutputClassifier(estimator=MultinomialNB())"
            ],
            "text/html": [
              "<style>#sk-container-id-1 {color: black;background-color: white;}#sk-container-id-1 pre{padding: 0;}#sk-container-id-1 div.sk-toggleable {background-color: white;}#sk-container-id-1 label.sk-toggleable__label {cursor: pointer;display: block;width: 100%;margin-bottom: 0;padding: 0.3em;box-sizing: border-box;text-align: center;}#sk-container-id-1 label.sk-toggleable__label-arrow:before {content: \"▸\";float: left;margin-right: 0.25em;color: #696969;}#sk-container-id-1 label.sk-toggleable__label-arrow:hover:before {color: black;}#sk-container-id-1 div.sk-estimator:hover label.sk-toggleable__label-arrow:before {color: black;}#sk-container-id-1 div.sk-toggleable__content {max-height: 0;max-width: 0;overflow: hidden;text-align: left;background-color: #f0f8ff;}#sk-container-id-1 div.sk-toggleable__content pre {margin: 0.2em;color: black;border-radius: 0.25em;background-color: #f0f8ff;}#sk-container-id-1 input.sk-toggleable__control:checked~div.sk-toggleable__content {max-height: 200px;max-width: 100%;overflow: auto;}#sk-container-id-1 input.sk-toggleable__control:checked~label.sk-toggleable__label-arrow:before {content: \"▾\";}#sk-container-id-1 div.sk-estimator input.sk-toggleable__control:checked~label.sk-toggleable__label {background-color: #d4ebff;}#sk-container-id-1 div.sk-label input.sk-toggleable__control:checked~label.sk-toggleable__label {background-color: #d4ebff;}#sk-container-id-1 input.sk-hidden--visually {border: 0;clip: rect(1px 1px 1px 1px);clip: rect(1px, 1px, 1px, 1px);height: 1px;margin: -1px;overflow: hidden;padding: 0;position: absolute;width: 1px;}#sk-container-id-1 div.sk-estimator {font-family: monospace;background-color: #f0f8ff;border: 1px dotted black;border-radius: 0.25em;box-sizing: border-box;margin-bottom: 0.5em;}#sk-container-id-1 div.sk-estimator:hover {background-color: #d4ebff;}#sk-container-id-1 div.sk-parallel-item::after {content: \"\";width: 100%;border-bottom: 1px solid gray;flex-grow: 1;}#sk-container-id-1 div.sk-label:hover label.sk-toggleable__label {background-color: #d4ebff;}#sk-container-id-1 div.sk-serial::before {content: \"\";position: absolute;border-left: 1px solid gray;box-sizing: border-box;top: 0;bottom: 0;left: 50%;z-index: 0;}#sk-container-id-1 div.sk-serial {display: flex;flex-direction: column;align-items: center;background-color: white;padding-right: 0.2em;padding-left: 0.2em;position: relative;}#sk-container-id-1 div.sk-item {position: relative;z-index: 1;}#sk-container-id-1 div.sk-parallel {display: flex;align-items: stretch;justify-content: center;background-color: white;position: relative;}#sk-container-id-1 div.sk-item::before, #sk-container-id-1 div.sk-parallel-item::before {content: \"\";position: absolute;border-left: 1px solid gray;box-sizing: border-box;top: 0;bottom: 0;left: 50%;z-index: -1;}#sk-container-id-1 div.sk-parallel-item {display: flex;flex-direction: column;z-index: 1;position: relative;background-color: white;}#sk-container-id-1 div.sk-parallel-item:first-child::after {align-self: flex-end;width: 50%;}#sk-container-id-1 div.sk-parallel-item:last-child::after {align-self: flex-start;width: 50%;}#sk-container-id-1 div.sk-parallel-item:only-child::after {width: 0;}#sk-container-id-1 div.sk-dashed-wrapped {border: 1px dashed gray;margin: 0 0.4em 0.5em 0.4em;box-sizing: border-box;padding-bottom: 0.4em;background-color: white;}#sk-container-id-1 div.sk-label label {font-family: monospace;font-weight: bold;display: inline-block;line-height: 1.2em;}#sk-container-id-1 div.sk-label-container {text-align: center;}#sk-container-id-1 div.sk-container {/* jupyter's `normalize.less` sets `[hidden] { display: none; }` but bootstrap.min.css set `[hidden] { display: none !important; }` so we also need the `!important` here to be able to override the default hidden behavior on the sphinx rendered scikit-learn.org. See: https://github.com/scikit-learn/scikit-learn/issues/21755 */display: inline-block !important;position: relative;}#sk-container-id-1 div.sk-text-repr-fallback {display: none;}</style><div id=\"sk-container-id-1\" class=\"sk-top-container\"><div class=\"sk-text-repr-fallback\"><pre>MultiOutputClassifier(estimator=MultinomialNB())</pre><b>In a Jupyter environment, please rerun this cell to show the HTML representation or trust the notebook. <br />On GitHub, the HTML representation is unable to render, please try loading this page with nbviewer.org.</b></div><div class=\"sk-container\" hidden><div class=\"sk-item sk-dashed-wrapped\"><div class=\"sk-label-container\"><div class=\"sk-label sk-toggleable\"><input class=\"sk-toggleable__control sk-hidden--visually\" id=\"sk-estimator-id-1\" type=\"checkbox\" ><label for=\"sk-estimator-id-1\" class=\"sk-toggleable__label sk-toggleable__label-arrow\">MultiOutputClassifier</label><div class=\"sk-toggleable__content\"><pre>MultiOutputClassifier(estimator=MultinomialNB())</pre></div></div></div><div class=\"sk-parallel\"><div class=\"sk-parallel-item\"><div class=\"sk-item\"><div class=\"sk-label-container\"><div class=\"sk-label sk-toggleable\"><input class=\"sk-toggleable__control sk-hidden--visually\" id=\"sk-estimator-id-2\" type=\"checkbox\" ><label for=\"sk-estimator-id-2\" class=\"sk-toggleable__label sk-toggleable__label-arrow\">estimator: MultinomialNB</label><div class=\"sk-toggleable__content\"><pre>MultinomialNB()</pre></div></div></div><div class=\"sk-serial\"><div class=\"sk-item\"><div class=\"sk-estimator sk-toggleable\"><input class=\"sk-toggleable__control sk-hidden--visually\" id=\"sk-estimator-id-3\" type=\"checkbox\" ><label for=\"sk-estimator-id-3\" class=\"sk-toggleable__label sk-toggleable__label-arrow\">MultinomialNB</label><div class=\"sk-toggleable__content\"><pre>MultinomialNB()</pre></div></div></div></div></div></div></div></div></div></div>"
            ]
          },
          "metadata": {},
          "execution_count": 50
        }
      ],
      "source": [
        "from sklearn.multioutput import MultiOutputClassifier\n",
        "from sklearn.naive_bayes import MultinomialNB\n",
        "#intialize the Random Forest Model\n",
        "clf_NB = MultiOutputClassifier(MultinomialNB()).fit(X_train, y_train)\n",
        "#train the model\n",
        "clf_NB.fit(X_train,y_train)"
      ]
    },
    {
      "cell_type": "code",
      "execution_count": null,
      "metadata": {
        "id": "YheXCBqANhJM"
      },
      "outputs": [],
      "source": [
        "prediction_NB= clf_NB.predict(X_test)"
      ]
    },
    {
      "cell_type": "code",
      "execution_count": null,
      "metadata": {
        "colab": {
          "base_uri": "https://localhost:8080/"
        },
        "id": "AvTonBZFQKRJ",
        "outputId": "db4e7f8e-c481-414f-d16f-26900606cebf"
      },
      "outputs": [
        {
          "output_type": "execute_result",
          "data": {
            "text/plain": [
              "array([[0, 1],\n",
              "       [0, 0],\n",
              "       [0, 1],\n",
              "       ...,\n",
              "       [1, 1],\n",
              "       [0, 1],\n",
              "       [1, 1]])"
            ]
          },
          "metadata": {},
          "execution_count": 52
        }
      ],
      "source": [
        "prediction_NB"
      ]
    },
    {
      "cell_type": "code",
      "execution_count": null,
      "metadata": {
        "colab": {
          "base_uri": "https://localhost:8080/"
        },
        "id": "LT9eCmNcQV6A",
        "outputId": "f262e47e-bcc3-41e1-f7fd-23ff043f6a17"
      },
      "outputs": [
        {
          "output_type": "stream",
          "name": "stdout",
          "text": [
            "              precision    recall  f1-score   support\n",
            "\n",
            "   obsession       0.73      0.91      0.81       369\n",
            "  compulsion       0.80      0.93      0.86       759\n",
            "\n",
            "   micro avg       0.78      0.92      0.84      1128\n",
            "   macro avg       0.77      0.92      0.84      1128\n",
            "weighted avg       0.78      0.92      0.85      1128\n",
            " samples avg       0.55      0.59      0.56      1128\n",
            "\n"
          ]
        },
        {
          "output_type": "stream",
          "name": "stderr",
          "text": [
            "/usr/local/lib/python3.10/dist-packages/sklearn/metrics/_classification.py:1344: UndefinedMetricWarning: Precision and F-score are ill-defined and being set to 0.0 in samples with no predicted labels. Use `zero_division` parameter to control this behavior.\n",
            "  _warn_prf(average, modifier, msg_start, len(result))\n",
            "/usr/local/lib/python3.10/dist-packages/sklearn/metrics/_classification.py:1344: UndefinedMetricWarning: Recall and F-score are ill-defined and being set to 0.0 in samples with no true labels. Use `zero_division` parameter to control this behavior.\n",
            "  _warn_prf(average, modifier, msg_start, len(result))\n"
          ]
        }
      ],
      "source": [
        "#classification report\n",
        "label_names = ['obsession','compulsion']\n",
        "print(classification_report(y_test, prediction_NB,target_names=label_names))"
      ]
    },
    {
      "cell_type": "code",
      "execution_count": null,
      "metadata": {
        "colab": {
          "base_uri": "https://localhost:8080/"
        },
        "id": "EFLRAGi4Dzrr",
        "outputId": "22501976-4888-4f5e-9e3e-2b80552cdf8a"
      },
      "outputs": [
        {
          "output_type": "stream",
          "name": "stdout",
          "text": [
            "Confusion Matrix:\n",
            "[[[1097  125]\n",
            "  [  32  337]]\n",
            "\n",
            " [[ 659  173]\n",
            "  [  53  706]]]\n"
          ]
        }
      ],
      "source": [
        "from sklearn.metrics import classification_report, confusion_matrix\n",
        "# Print confusion matrix\n",
        "# Print confusion matrix\n",
        "conf_matrix = multilabel_confusion_matrix(y_test, prediction_NB)\n",
        "print(\"Confusion Matrix:\")\n",
        "print(conf_matrix)\n",
        "\n",
        "#For the 'obsession' class:\n",
        "#True Positive (TP):\n",
        "#False Positive (FP):\n",
        "#True Negative (TN):\n",
        "#False Negative (FN):\n",
        "\n",
        "#For the 'compulsion' class:\n",
        "#True Positive (TP):\n",
        "#False Positive (FP):\n",
        "#True Negative (TN):\n",
        "#False Negative (FN):"
      ]
    },
    {
      "cell_type": "code",
      "execution_count": null,
      "metadata": {
        "colab": {
          "base_uri": "https://localhost:8080/"
        },
        "id": "PC1RdTPDOGDD",
        "outputId": "e723b867-8ea9-47c3-a357-be664fbdff2a"
      },
      "outputs": [
        {
          "output_type": "stream",
          "name": "stdout",
          "text": [
            "Accuracy: 0.7743557510999372\n"
          ]
        }
      ],
      "source": [
        "from sklearn.metrics import classification_report, accuracy_score\n",
        "\n",
        "# Calculate accuracy\n",
        "accuracy = accuracy_score(y_test, prediction_NB)\n",
        "print(f'Accuracy: {accuracy}')\n"
      ]
    },
    {
      "cell_type": "code",
      "execution_count": null,
      "metadata": {
        "colab": {
          "base_uri": "https://localhost:8080/"
        },
        "id": "-Xrx5kng7rzx",
        "outputId": "7766cd99-7ff1-4b91-e3ee-06aa48850cd1"
      },
      "outputs": [
        {
          "output_type": "stream",
          "name": "stdout",
          "text": [
            "Accuracy for obsession: 0.9013199245757385\n",
            "Accuracy for compulsion: 0.857950974230044\n"
          ]
        }
      ],
      "source": [
        "\n",
        "# Assuming y_test and y_pred are your actual and predicted labels\n",
        "label_names = ['obsession', 'compulsion']\n",
        "\n",
        "# Calculate accuracy for each label\n",
        "accuracy_per_label = {label: accuracy_score(y_test[:, i], prediction_NB[:, i]) for i, label in enumerate(label_names)}\n",
        "\n",
        "# Print accuracy for each label\n",
        "for label, acc in accuracy_per_label.items():\n",
        "    print(f'Accuracy for {label}: {acc}')\n"
      ]
    },
    {
      "cell_type": "markdown",
      "metadata": {
        "id": "_R_yP1UeDqoD"
      },
      "source": [
        "## Prediction on manual label using NB"
      ]
    },
    {
      "cell_type": "code",
      "execution_count": null,
      "metadata": {
        "colab": {
          "base_uri": "https://localhost:8080/"
        },
        "id": "RrAkuSSMQopQ",
        "outputId": "0efc6924-795b-48b2-af16-98b337deb0fa"
      },
      "outputs": [
        {
          "output_type": "stream",
          "name": "stdout",
          "text": [
            "\n",
            "Evaluation for 'obsession':\n",
            "              precision    recall  f1-score   support\n",
            "\n",
            "         0.0       0.37      0.67      0.48       114\n",
            "         1.0       0.61      0.32      0.42       186\n",
            "\n",
            "    accuracy                           0.45       300\n",
            "   macro avg       0.49      0.49      0.45       300\n",
            "weighted avg       0.52      0.45      0.44       300\n",
            "\n",
            "\n",
            "Evaluation for 'compulsion':\n",
            "              precision    recall  f1-score   support\n",
            "\n",
            "         0.0       0.53      0.42      0.47       182\n",
            "         1.0       0.32      0.42      0.36       118\n",
            "\n",
            "    accuracy                           0.42       300\n",
            "   macro avg       0.42      0.42      0.42       300\n",
            "weighted avg       0.45      0.42      0.43       300\n",
            "\n",
            "\n",
            "Accuracy for 'obsession': 0.45\n",
            "Accuracy for 'compulsion': 0.42\n"
          ]
        }
      ],
      "source": [
        "# Assuming 'clean_text' is the column containing text data\n",
        "unlabeled_data_vec_first_300 = count_vect.transform(unlabed_data['clean_text'].head(300))\n",
        "\n",
        "# Make predictions using the loaded model for the first 300 rows\n",
        "predictions_first_300 = clf_NB.predict(unlabeled_data_vec_first_300)\n",
        "\n",
        "# Assuming unlabeled_data is your DataFrame for the first 300 rows\n",
        "# Replace '...' with your actual DataFrame variable\n",
        "unlabeled_data_first_300 = unlabed_data.head(300)\n",
        "\n",
        "# Replace NaN values in the manual labels with 0 (you can choose a different approach)\n",
        "y_true_first_300 = unlabeled_data_first_300[['obsession-expert', 'Compulsion-expert']].fillna(0).values\n",
        "\n",
        "# Evaluate the model on the first 300 rows\n",
        "print(\"\\nEvaluation for 'obsession':\")\n",
        "print(classification_report(y_true_first_300[:, 0], predictions_first_300[:, 0]))\n",
        "\n",
        "print(\"\\nEvaluation for 'compulsion':\")\n",
        "print(classification_report(y_true_first_300[:, 1], predictions_first_300[:, 1]))\n",
        "\n",
        "# Print accuracy\n",
        "print(\"\\nAccuracy for 'obsession':\", accuracy_score(y_true_first_300[:, 0], predictions_first_300[:, 0]))\n",
        "print(\"Accuracy for 'compulsion':\", accuracy_score(y_true_first_300[:, 1], predictions_first_300[:, 1]))"
      ]
    },
    {
      "cell_type": "markdown",
      "metadata": {
        "id": "YKIzhayVRoDG"
      },
      "source": [
        "## K-Nearest Neighbors (KNN)"
      ]
    },
    {
      "cell_type": "code",
      "execution_count": null,
      "metadata": {
        "colab": {
          "base_uri": "https://localhost:8080/"
        },
        "id": "YDEAvN2WRodM",
        "outputId": "8b6102ef-67de-4105-bf70-a0decc506040"
      },
      "outputs": [
        {
          "output_type": "stream",
          "name": "stdout",
          "text": [
            "Accuracy for KNN: 0.5971087366436204\n"
          ]
        }
      ],
      "source": [
        "from sklearn.neighbors import KNeighborsClassifier\n",
        "from sklearn.model_selection import train_test_split\n",
        "from sklearn.metrics import accuracy_score\n",
        "\n",
        "# Assuming X_train, X_test, y_train, y_test are your training and testing sets\n",
        "X_train, X_test, y_train, y_test = train_test_split(X, Y, test_size=0.2, random_state=42)\n",
        "\n",
        "# Initialize the KNN model with specified parameters\n",
        "knn_model = KNeighborsClassifier(n_neighbors=5, weights='uniform', algorithm='auto')\n",
        "\n",
        "# Train the KNN model\n",
        "knn_model.fit(X_train, y_train)\n",
        "\n",
        "# Make predictions on the test set\n",
        "knn_predictions = knn_model.predict(X_test)\n",
        "\n",
        "# Calculate accuracy\n",
        "accuracy = accuracy_score(y_test, knn_predictions)\n",
        "\n",
        "print(f'Accuracy for KNN: {accuracy}')"
      ]
    },
    {
      "cell_type": "code",
      "execution_count": null,
      "metadata": {
        "colab": {
          "base_uri": "https://localhost:8080/"
        },
        "id": "7j0NLJqNRogQ",
        "outputId": "08cab338-a31c-4230-949e-d3ded381c128"
      },
      "outputs": [
        {
          "output_type": "stream",
          "name": "stdout",
          "text": [
            "              precision    recall  f1-score   support\n",
            "\n",
            "   obsession       0.74      0.19      0.30       369\n",
            "  compulsion       0.90      0.51      0.66       759\n",
            "\n",
            "   micro avg       0.88      0.41      0.56      1128\n",
            "   macro avg       0.82      0.35      0.48      1128\n",
            "weighted avg       0.85      0.41      0.54      1128\n",
            " samples avg       0.28      0.26      0.26      1128\n",
            "\n"
          ]
        },
        {
          "output_type": "stream",
          "name": "stderr",
          "text": [
            "/usr/local/lib/python3.10/dist-packages/sklearn/metrics/_classification.py:1344: UndefinedMetricWarning: Precision and F-score are ill-defined and being set to 0.0 in samples with no predicted labels. Use `zero_division` parameter to control this behavior.\n",
            "  _warn_prf(average, modifier, msg_start, len(result))\n",
            "/usr/local/lib/python3.10/dist-packages/sklearn/metrics/_classification.py:1344: UndefinedMetricWarning: Recall and F-score are ill-defined and being set to 0.0 in samples with no true labels. Use `zero_division` parameter to control this behavior.\n",
            "  _warn_prf(average, modifier, msg_start, len(result))\n"
          ]
        }
      ],
      "source": [
        "#classification report\n",
        "label_names = ['obsession','compulsion']\n",
        "print(classification_report(y_test, knn_predictions,target_names=label_names))"
      ]
    },
    {
      "cell_type": "code",
      "execution_count": null,
      "metadata": {
        "colab": {
          "base_uri": "https://localhost:8080/"
        },
        "id": "u5tROXZeFDVg",
        "outputId": "c1921a0e-a4bc-4520-a2de-71908ff9ffe1"
      },
      "outputs": [
        {
          "output_type": "stream",
          "name": "stdout",
          "text": [
            "Confusion Matrix:\n",
            "[[[1198   24]\n",
            "  [ 299   70]]\n",
            "\n",
            " [[ 791   41]\n",
            "  [ 369  390]]]\n"
          ]
        }
      ],
      "source": [
        "from sklearn.metrics import classification_report, confusion_matrix\n",
        "# Print confusion matrix\n",
        "# Print confusion matrix\n",
        "conf_matrix = multilabel_confusion_matrix(y_test, knn_predictions)\n",
        "print(\"Confusion Matrix:\")\n",
        "print(conf_matrix)\n",
        "\n",
        "#For the 'obsession' class:\n",
        "#True Positive (TP):\n",
        "#False Positive (FP):\n",
        "#True Negative (TN):\n",
        "#False Negative (FN):\n",
        "\n",
        "#For the 'compulsion' class:\n",
        "#True Positive (TP):\n",
        "#False Positive (FP):\n",
        "#True Negative (TN):\n",
        "#False Negative (FN):"
      ]
    },
    {
      "cell_type": "code",
      "execution_count": null,
      "metadata": {
        "colab": {
          "base_uri": "https://localhost:8080/"
        },
        "id": "D0cfwOgj9xzq",
        "outputId": "fcb2027c-a950-4502-b923-bbfcb72e9708"
      },
      "outputs": [
        {
          "output_type": "stream",
          "name": "stdout",
          "text": [
            "Accuracy for obsession: 0.7969830295411691\n",
            "Accuracy for compulsion: 0.7423004399748586\n"
          ]
        }
      ],
      "source": [
        "# Assuming y_test and y_pred are your actual and predicted labels\n",
        "label_names = ['obsession', 'compulsion']\n",
        "\n",
        "# Calculate accuracy for each label\n",
        "accuracy_per_label = {label: accuracy_score(y_test[:, i], knn_predictions[:, i]) for i, label in enumerate(label_names)}\n",
        "\n",
        "# Print accuracy for each label\n",
        "for label, acc in accuracy_per_label.items():\n",
        "    print(f'Accuracy for {label}: {acc}')"
      ]
    },
    {
      "cell_type": "code",
      "execution_count": null,
      "metadata": {
        "colab": {
          "base_uri": "https://localhost:8080/"
        },
        "id": "LCuLIIhWOXbm",
        "outputId": "6c444e2b-57de-4a86-f7a2-cb73736ecc63"
      },
      "outputs": [
        {
          "output_type": "stream",
          "name": "stdout",
          "text": [
            "Accuracy: 0.5971087366436204\n"
          ]
        }
      ],
      "source": [
        "from sklearn.metrics import classification_report, accuracy_score\n",
        "\n",
        "# Calculate accuracy\n",
        "accuracy = accuracy_score(y_test, knn_predictions)\n",
        "print(f'Accuracy: {accuracy}')\n"
      ]
    },
    {
      "cell_type": "markdown",
      "metadata": {
        "id": "wuZwTLKgXWhE"
      },
      "source": [
        "# TF-IDF"
      ]
    },
    {
      "cell_type": "code",
      "execution_count": null,
      "metadata": {
        "id": "7yRBExf4Xd4q"
      },
      "outputs": [],
      "source": [
        "from sklearn.feature_extraction.text import TfidfVectorizer\n",
        "\n",
        "\n",
        "tfidf_vectorizer = TfidfVectorizer(max_features=3000, max_df=0.9)  # Adjust max_features as needed\n",
        "X_tfidf = tfidf_vectorizer.fit_transform(process_df['post'])\n",
        "\n",
        "\n",
        "# Assuming 'compulsion' and 'obsession' are the target labels\n",
        "y = np.asarray(process_df[['compulsion', 'obsession']])"
      ]
    },
    {
      "cell_type": "code",
      "execution_count": null,
      "metadata": {
        "id": "VUM0bDo8XeI2"
      },
      "outputs": [],
      "source": [
        "\n",
        "# Split the data into training and testing sets\n",
        "X_train_tfidf, X_test_tfidf, y_train, y_test = train_test_split(X_tfidf, y, test_size=0.2, random_state=42)\n"
      ]
    },
    {
      "cell_type": "markdown",
      "metadata": {
        "id": "CFA6HV7VIGKV"
      },
      "source": [
        "## Logistic regression using tf-idf"
      ]
    },
    {
      "cell_type": "code",
      "execution_count": null,
      "metadata": {
        "id": "-PAtg7M_Hlgz"
      },
      "outputs": [],
      "source": [
        "from sklearn.multioutput import MultiOutputClassifier\n",
        "from sklearn.linear_model import LogisticRegression\n",
        "# Re-fit the MultiOutputClassifier\n",
        "clf_LR_tf = MultiOutputClassifier(LogisticRegression()).fit(X_train_tfidf, y_train)\n",
        "\n",
        "# Example prediction\n",
        "y_pred_tf = clf_LR_tf.predict(X_test_tfidf)\n"
      ]
    },
    {
      "cell_type": "code",
      "execution_count": null,
      "metadata": {
        "colab": {
          "base_uri": "https://localhost:8080/"
        },
        "id": "kBT4ywDLIL03",
        "outputId": "1dbffc78-667b-4ffb-dbaf-e8eef7551c6f"
      },
      "outputs": [
        {
          "output_type": "stream",
          "name": "stdout",
          "text": [
            "              precision    recall  f1-score   support\n",
            "\n",
            "   obsession       0.99      0.72      0.84       369\n",
            "  compulsion       0.93      0.94      0.93       759\n",
            "\n",
            "   micro avg       0.95      0.87      0.91      1128\n",
            "   macro avg       0.96      0.83      0.89      1128\n",
            "weighted avg       0.95      0.87      0.90      1128\n",
            " samples avg       0.56      0.56      0.56      1128\n",
            "\n"
          ]
        },
        {
          "output_type": "stream",
          "name": "stderr",
          "text": [
            "/usr/local/lib/python3.10/dist-packages/sklearn/metrics/_classification.py:1344: UndefinedMetricWarning: Precision and F-score are ill-defined and being set to 0.0 in samples with no predicted labels. Use `zero_division` parameter to control this behavior.\n",
            "  _warn_prf(average, modifier, msg_start, len(result))\n",
            "/usr/local/lib/python3.10/dist-packages/sklearn/metrics/_classification.py:1344: UndefinedMetricWarning: Recall and F-score are ill-defined and being set to 0.0 in samples with no true labels. Use `zero_division` parameter to control this behavior.\n",
            "  _warn_prf(average, modifier, msg_start, len(result))\n"
          ]
        }
      ],
      "source": [
        "label_names = ['obsession','compulsion']\n",
        "print(classification_report(y_test, y_pred_tf,target_names=label_names))"
      ]
    },
    {
      "cell_type": "code",
      "execution_count": null,
      "metadata": {
        "colab": {
          "base_uri": "https://localhost:8080/"
        },
        "id": "gXfK6dGkFR7f",
        "outputId": "4da47e74-2f08-4676-9761-005f243a7ff3"
      },
      "outputs": [
        {
          "output_type": "stream",
          "name": "stdout",
          "text": [
            "Confusion Matrix:\n",
            "[[[1220    2]\n",
            "  [ 102  267]]\n",
            "\n",
            " [[ 781   51]\n",
            "  [  48  711]]]\n"
          ]
        }
      ],
      "source": [
        "from sklearn.metrics import classification_report, confusion_matrix\n",
        "# Print confusion matrix\n",
        "# Print confusion matrix\n",
        "conf_matrix = multilabel_confusion_matrix(y_test, y_pred_tf)\n",
        "print(\"Confusion Matrix:\")\n",
        "print(conf_matrix)\n",
        "\n",
        "#For the 'obsession' class:\n",
        "#True Positive (TP): 511\n",
        "#False Positive (FP): 28\n",
        "#True Negative (TN): 1394\n",
        "#False Negative (FN): 67\n",
        "\n",
        "#For the 'compulsion' class:\n",
        "#True Positive (TP): 968\n",
        "#False Positive (FP): 35\n",
        "#True Negative (TN): 961\n",
        "#False Negative (FN): 36\n",
        "\n",
        "\n",
        "#True Positive (TP): Instances correctly predicted as belonging to the class.\n",
        "#False Positive (FP): Instances incorrectly predicted as belonging to the class (they don't actually belong to it).\n",
        "#True Negative (TN): Instances correctly predicted as not belonging to the class.\n",
        "#False Negative (FN): Instances incorrectly predicted as not belonging to the class (they actually belong to it).\n"
      ]
    },
    {
      "cell_type": "code",
      "execution_count": null,
      "metadata": {
        "colab": {
          "base_uri": "https://localhost:8080/"
        },
        "id": "OAI781-kAQe-",
        "outputId": "2545724b-18e9-4aab-aef9-f22ed8564fa3"
      },
      "outputs": [
        {
          "output_type": "stream",
          "name": "stdout",
          "text": [
            "Accuracy for obsession: 0.9346323067253299\n",
            "Accuracy for compulsion: 0.9377749842866122\n"
          ]
        }
      ],
      "source": [
        "# Assuming y_test and y_pred are your actual and predicted labels\n",
        "label_names = ['obsession', 'compulsion']\n",
        "\n",
        "# Calculate accuracy for each label\n",
        "accuracy_per_label = {label: accuracy_score(y_test[:, i], y_pred_tf[:, i]) for i, label in enumerate(label_names)}\n",
        "\n",
        "# Print accuracy for each label\n",
        "for label, acc in accuracy_per_label.items():\n",
        "    print(f'Accuracy for {label}: {acc}')"
      ]
    },
    {
      "cell_type": "code",
      "execution_count": null,
      "metadata": {
        "colab": {
          "base_uri": "https://localhost:8080/"
        },
        "id": "t7zug0c1OmyS",
        "outputId": "6d1fb1b2-6625-4e0c-c1a1-ce069e836d34"
      },
      "outputs": [
        {
          "output_type": "stream",
          "name": "stdout",
          "text": [
            "Accuracy: 0.8843494657448145\n"
          ]
        }
      ],
      "source": [
        "from sklearn.metrics import classification_report, accuracy_score\n",
        "\n",
        "# Calculate accuracy\n",
        "accuracy = accuracy_score(y_test, y_pred_tf)\n",
        "print(f'Accuracy: {accuracy}')\n"
      ]
    },
    {
      "cell_type": "code",
      "execution_count": null,
      "metadata": {
        "colab": {
          "base_uri": "https://localhost:8080/"
        },
        "id": "TgZZaZXVKD2I",
        "outputId": "6e8cb705-16fa-4577-b66e-239d98caf923"
      },
      "outputs": [
        {
          "output_type": "execute_result",
          "data": {
            "text/plain": [
              "['tfidf_vectorizer.pkl']"
            ]
          },
          "metadata": {},
          "execution_count": 72
        }
      ],
      "source": [
        "import joblib\n",
        "\n",
        "# Save the model and TF-IDF vectorizer\n",
        "joblib.dump(clf_LR_tf, 'model_LR_tf.pkl')\n",
        "joblib.dump(tfidf_vectorizer, 'tfidf_vectorizer.pkl')\n"
      ]
    },
    {
      "cell_type": "code",
      "execution_count": null,
      "metadata": {
        "id": "o7Gae4hYKJhZ"
      },
      "outputs": [],
      "source": [
        "# Load the TF-IDF vectorizer\n",
        "tfidf_vectorizer_loaded = joblib.load('tfidf_vectorizer.pkl')\n",
        "\n",
        "# Transform the unlabeled data using the loaded TF-IDF vectorizer\n",
        "unlabeled_data_tf = tfidf_vectorizer_loaded.transform(unlabed_data['clean_text'].head(293))\n",
        "\n",
        "# Load the trained model\n",
        "clf_LR_tf_loaded = joblib.load('model_LR_tf.pkl')\n",
        "\n",
        "# Make predictions using the loaded model\n",
        "predictions = clf_LR_tf_loaded.predict(unlabeled_data_tf)"
      ]
    },
    {
      "cell_type": "code",
      "execution_count": null,
      "metadata": {
        "colab": {
          "base_uri": "https://localhost:8080/"
        },
        "id": "FXeYxaEHNgFf",
        "outputId": "1b99aadf-0566-4e14-a56a-62c64aee450b"
      },
      "outputs": [
        {
          "output_type": "stream",
          "name": "stdout",
          "text": [
            "Number of samples for 'y_true_obsession': 293\n",
            "Number of samples for 'predictions[:, 0]': 293\n"
          ]
        }
      ],
      "source": [
        "# Load the manual labels for 'obsession' and 'compulsion'\n",
        "y_true_obsession = unlabed_data['obsession-expert']\n",
        "y_true_compulsion = unlabed_data['Compulsion-expert']\n",
        "\n",
        "# Drop rows with NaN values in the 'obsession_first_checker' column\n",
        "y_true_obsession = y_true_obsession.dropna()\n",
        "\n",
        "# Drop corresponding rows with NaN values in the 'compulsion_first_checker' column\n",
        "y_true_compulsion = y_true_compulsion.dropna()\n",
        "\n",
        "\n",
        "# Print the number of samples for investigation\n",
        "print(\"Number of samples for 'y_true_obsession':\", len(y_true_obsession))\n",
        "print(\"Number of samples for 'predictions[:, 0]':\", len(predictions[:, 0]))\n"
      ]
    },
    {
      "cell_type": "code",
      "execution_count": null,
      "metadata": {
        "colab": {
          "base_uri": "https://localhost:8080/"
        },
        "id": "diC-TV6fS18X",
        "outputId": "6c81441a-c57d-448e-8da6-052d0fc22129"
      },
      "outputs": [
        {
          "output_type": "stream",
          "name": "stdout",
          "text": [
            "Number of samples for 'y_true_obsession': 293\n",
            "Number of samples for 'predictions[:, 0]': 293\n",
            "Updated number of samples for 'y_true_obsession': 287\n",
            "Updated number of samples for 'predictions_obsession': 287\n"
          ]
        }
      ],
      "source": [
        "# Load the manual labels for 'obsession' and 'compulsion'\n",
        "y_true_obsession = unlabed_data['obsession-expert'].head(293)\n",
        "y_true_compulsion = unlabed_data['Compulsion-expert'].head(293)\n",
        "\n",
        "# Print the number of samples for investigation\n",
        "print(\"Number of samples for 'y_true_obsession':\", len(y_true_obsession))\n",
        "print(\"Number of samples for 'predictions[:, 0]':\", len(predictions[:, 0]))\n",
        "\n",
        "# Drop rows with NaN values in 'obsession_first_checker'\n",
        "y_true_obsession = y_true_obsession.dropna()\n",
        "y_true_compulsion = y_true_compulsion.dropna()\n",
        "\n",
        "# Ensure that 'predictions[:, 0]' has the same length as 'y_true_obsession'\n",
        "predictions_obsession = predictions[:len(y_true_obsession), 0]\n",
        "predictions_compulsion= predictions[:len(y_true_compulsion), 0]\n",
        "\n",
        "# Print the updated number of samples for investigation\n",
        "print(\"Updated number of samples for 'y_true_obsession':\", len(y_true_obsession))\n",
        "print(\"Updated number of samples for 'predictions_obsession':\", len(predictions_obsession))\n"
      ]
    },
    {
      "cell_type": "code",
      "execution_count": null,
      "metadata": {
        "colab": {
          "base_uri": "https://localhost:8080/"
        },
        "id": "qGf6ZglnTP8d",
        "outputId": "d20a2a8c-19cd-4eb6-b980-d7061e43985c"
      },
      "outputs": [
        {
          "output_type": "stream",
          "name": "stdout",
          "text": [
            "\n",
            "Evaluation for 'obsession':\n",
            "              precision    recall  f1-score   support\n",
            "\n",
            "         0.0       0.36      0.97      0.53       106\n",
            "         1.0       0.00      0.00      0.00       181\n",
            "\n",
            "    accuracy                           0.36       287\n",
            "   macro avg       0.18      0.49      0.26       287\n",
            "weighted avg       0.13      0.36      0.20       287\n",
            "\n",
            "\n",
            "Evaluation for 'compulsion':\n",
            "              precision    recall  f1-score   support\n",
            "\n",
            "         0.0       0.60      0.99      0.75       173\n",
            "         1.0       0.67      0.02      0.03       116\n",
            "\n",
            "    accuracy                           0.60       289\n",
            "   macro avg       0.63      0.51      0.39       289\n",
            "weighted avg       0.63      0.60      0.46       289\n",
            "\n"
          ]
        }
      ],
      "source": [
        "from sklearn.metrics import classification_report\n",
        "\n",
        "# Evaluate the predictions for 'obsession'\n",
        "print(\"\\nEvaluation for 'obsession':\")\n",
        "print(classification_report(y_true_obsession, predictions_obsession))\n",
        "\n",
        "print(\"\\nEvaluation for 'compulsion':\")\n",
        "print(classification_report(y_true_compulsion, predictions_compulsion))"
      ]
    },
    {
      "cell_type": "code",
      "source": [
        "######################################################################################################\n",
        "################# this is the end of experiment with ML ##############################################\n",
        "################# the training, testing are done for all BoW, tf-idf, randomforst ####################\n",
        "######################################################################################################"
      ],
      "metadata": {
        "id": "5qHQkmG4KtTX"
      },
      "execution_count": null,
      "outputs": []
    },
    {
      "cell_type": "markdown",
      "metadata": {
        "id": "NfrqJY1sItQN"
      },
      "source": [
        "## Gradient Boosting using tf-idf:"
      ]
    },
    {
      "cell_type": "code",
      "execution_count": null,
      "metadata": {
        "id": "hNXQqLXpIpVa"
      },
      "outputs": [],
      "source": [
        "from sklearn.multioutput import MultiOutputClassifier\n",
        "from sklearn.ensemble import GradientBoostingClassifier\n",
        "\n",
        "# Initialize the Gradient Boosting model\n",
        "gb_model = GradientBoostingClassifier()\n",
        "\n",
        "# Wrap the model with MultiOutputClassifier\n",
        "multi_output_gb = MultiOutputClassifier(gb_model)\n",
        "\n",
        "# Train the MultiOutputClassifier model\n",
        "multi_output_gb.fit(X_train_tfidf, y_train)\n",
        "\n",
        "# Make predictions on the test set\n",
        "y_predictions_GB = multi_output_gb.predict(X_test_tfidf)"
      ]
    },
    {
      "cell_type": "code",
      "execution_count": null,
      "metadata": {
        "id": "DBc9xr6WJKvd"
      },
      "outputs": [],
      "source": [
        "label_names = ['obsession','compulsion']\n",
        "print(classification_report(y_test, y_predictions_GB,target_names=label_names))"
      ]
    },
    {
      "cell_type": "code",
      "execution_count": null,
      "metadata": {
        "id": "oVAyAmAqJsCV"
      },
      "outputs": [],
      "source": [
        "from sklearn.metrics import classification_report, confusion_matrix\n",
        "# Print confusion matrix\n",
        "# Print confusion matrix\n",
        "conf_matrix = multilabel_confusion_matrix(y_test, y_pred_tf)\n",
        "print(\"Confusion Matrix:\")\n",
        "print(conf_matrix)\n",
        "\n",
        "#For the 'obsession' class:\n",
        "#True Positive (TP): 511\n",
        "#False Positive (FP): 28\n",
        "#True Negative (TN): 1394\n",
        "#False Negative (FN): 67\n",
        "\n",
        "#For the 'compulsion' class:\n",
        "#True Positive (TP): 968\n",
        "#False Positive (FP): 35\n",
        "#True Negative (TN): 961\n",
        "#False Negative (FN): 36\n",
        "\n",
        "\n",
        "#True Positive (TP): Instances correctly predicted as belonging to the class.\n",
        "#False Positive (FP): Instances incorrectly predicted as belonging to the class (they don't actually belong to it).\n",
        "#True Negative (TN): Instances correctly predicted as not belonging to the class.\n",
        "#False Negative (FN): Instances incorrectly predicted as not belonging to the class (they actually belong to it).\n"
      ]
    },
    {
      "cell_type": "markdown",
      "metadata": {
        "id": "T6mHO6BpKZpQ"
      },
      "source": [
        "## NB using tf-idf"
      ]
    },
    {
      "cell_type": "code",
      "execution_count": null,
      "metadata": {
        "id": "Ocg0MQ2vKDxa"
      },
      "outputs": [],
      "source": [
        "#intialize the Random Forest Model\n",
        "clf_NB = MultiOutputClassifier(MultinomialNB()).fit(X_train_tfidf, y_train)\n",
        "#train the model\n",
        "prediction_NB_tf = clf_NB.predict(X_test_tfidf)"
      ]
    },
    {
      "cell_type": "code",
      "execution_count": null,
      "metadata": {
        "id": "uZ1l7zp_KD-n"
      },
      "outputs": [],
      "source": [
        "label_names = ['obsession','compulsion']\n",
        "print(classification_report(y_test, prediction_NB_tf,target_names=label_names))"
      ]
    },
    {
      "cell_type": "code",
      "execution_count": null,
      "metadata": {
        "id": "PBqKEm_NKEKh"
      },
      "outputs": [],
      "source": [
        "from sklearn.metrics import classification_report, confusion_matrix\n",
        "# Print confusion matrix\n",
        "# Print confusion matrix\n",
        "conf_matrix = multilabel_confusion_matrix(y_test, prediction_NB_tf)\n",
        "print(\"Confusion Matrix:\")\n",
        "print(conf_matrix)\n",
        "\n",
        "#For the 'obsession' class:\n",
        "#True Positive (TP): 511\n",
        "#False Positive (FP): 28\n",
        "#True Negative (TN): 1394\n",
        "#False Negative (FN): 67\n",
        "\n",
        "#For the 'compulsion' class:\n",
        "#True Positive (TP): 968\n",
        "#False Positive (FP): 35\n",
        "#True Negative (TN): 961\n",
        "#False Negative (FN): 36\n",
        "\n",
        "\n",
        "#True Positive (TP): Instances correctly predicted as belonging to the class.\n",
        "#False Positive (FP): Instances incorrectly predicted as belonging to the class (they don't actually belong to it).\n",
        "#True Negative (TN): Instances correctly predicted as not belonging to the class.\n",
        "#False Negative (FN): Instances incorrectly predicted as not belonging to the class (they actually belong to it).\n"
      ]
    },
    {
      "cell_type": "code",
      "execution_count": null,
      "metadata": {
        "id": "BUsuboRQAjeB"
      },
      "outputs": [],
      "source": [
        "# Assuming y_test and y_pred are your actual and predicted labels\n",
        "label_names = ['obsession', 'compulsion']\n",
        "\n",
        "# Calculate accuracy for each label\n",
        "accuracy_per_label = {label: accuracy_score(y_test[:, i], prediction_NB_tf[:, i]) for i, label in enumerate(label_names)}\n",
        "\n",
        "# Print accuracy for each label\n",
        "for label, acc in accuracy_per_label.items():\n",
        "    print(f'Accuracy for {label}: {acc}')"
      ]
    },
    {
      "cell_type": "code",
      "execution_count": null,
      "metadata": {
        "id": "H1lt0ovAPA98"
      },
      "outputs": [],
      "source": [
        "from sklearn.metrics import classification_report, accuracy_score\n",
        "\n",
        "# Calculate accuracy\n",
        "accuracy = accuracy_score(y_test, prediction_NB_tf)\n",
        "print(f'Accuracy: {accuracy}')\n"
      ]
    },
    {
      "cell_type": "markdown",
      "metadata": {
        "id": "rz4RFhv9AzpL"
      },
      "source": [
        "## KNN + tf-idf"
      ]
    },
    {
      "cell_type": "code",
      "execution_count": null,
      "metadata": {
        "id": "AiiIt1TdA2dq"
      },
      "outputs": [],
      "source": [
        "from sklearn.neighbors import KNeighborsClassifier\n",
        "from sklearn.model_selection import train_test_split\n",
        "from sklearn.metrics import accuracy_score\n",
        "\n",
        "\n",
        "# Initialize the KNN model with specified parameters\n",
        "knn_model = KNeighborsClassifier(n_neighbors=5, weights='uniform', algorithm='auto')\n",
        "\n",
        "# Train the KNN model\n",
        "knn_model.fit(X_train_tfidf, y_train)\n",
        "\n",
        "# Make predictions on the test set\n",
        "knn_predictions_tf = knn_model.predict(X_test_tfidf)\n",
        "\n",
        "# Calculate accuracy\n",
        "accuracy = accuracy_score(y_test, knn_predictions_tf)\n",
        "\n",
        "print(f'Accuracy for KNN: {accuracy}')"
      ]
    },
    {
      "cell_type": "code",
      "execution_count": null,
      "metadata": {
        "id": "F5PmM3KLA2od"
      },
      "outputs": [],
      "source": [
        "#classification report\n",
        "label_names = ['obsession','compulsion']\n",
        "print(classification_report(y_test, knn_predictions_tf,target_names=label_names))"
      ]
    },
    {
      "cell_type": "code",
      "execution_count": null,
      "metadata": {
        "id": "qD_yrScMA2tx"
      },
      "outputs": [],
      "source": [
        "# Assuming y_test and y_pred are your actual and predicted labels\n",
        "label_names = ['obsession', 'compulsion']\n",
        "\n",
        "# Calculate accuracy for each label\n",
        "accuracy_per_label = {label: accuracy_score(y_test[:, i], knn_predictions_tf[:, i]) for i, label in enumerate(label_names)}\n",
        "\n",
        "# Print accuracy for each label\n",
        "for label, acc in accuracy_per_label.items():\n",
        "    print(f'Accuracy for {label}: {acc}')"
      ]
    },
    {
      "cell_type": "code",
      "execution_count": null,
      "metadata": {
        "id": "2AWEx0NWZeoE"
      },
      "outputs": [],
      "source": [
        "conf_matrix = multilabel_confusion_matrix(y_test, knn_predictions_tf)\n",
        "print(\"Confusion Matrix:\")\n",
        "print(conf_matrix)"
      ]
    },
    {
      "cell_type": "markdown",
      "metadata": {
        "id": "BGOCkcleSBh-"
      },
      "source": [
        "## Random Forest"
      ]
    },
    {
      "cell_type": "code",
      "execution_count": null,
      "metadata": {
        "id": "bTix7epkSDiG"
      },
      "outputs": [],
      "source": [
        "from sklearn.ensemble import RandomForestClassifier\n",
        "from sklearn.model_selection import train_test_split\n",
        "from sklearn.metrics import classification_report, multilabel_confusion_matrix\n",
        "\n",
        "\n",
        "# Initialize the Random Forest classifier\n",
        "rf_classifier = RandomForestClassifier(n_estimators=100, random_state=42)\n",
        "\n",
        "# Train the classifier\n",
        "rf_classifier.fit(X_train_tfidf, y_train)\n",
        "\n",
        "# Make predictions on the test set\n",
        "y_pred_rf_tf= rf_classifier.predict(X_test_tfidf)\n",
        "\n",
        "# Evaluate the model\n",
        "conf_matrix = multilabel_confusion_matrix(y_test, y_pred_rf_tf)\n",
        "\n",
        "# Print confusion matrix for each class\n",
        "for i, label in enumerate(['obsession', 'compulsion']):\n",
        "    print(f\"Confusion Matrix for {label}:\")\n",
        "    print(conf_matrix[i])\n",
        "    print(\"\\n\")\n"
      ]
    },
    {
      "cell_type": "code",
      "execution_count": null,
      "metadata": {
        "id": "MPqD-Ce7SD33"
      },
      "outputs": [],
      "source": [
        "#classification report\n",
        "label_names = ['obsession','compulsion']\n",
        "print(classification_report(y_test, y_pred_rf_tf,target_names=label_names))"
      ]
    },
    {
      "cell_type": "code",
      "execution_count": null,
      "metadata": {
        "id": "gdRG4M9ZSEJw"
      },
      "outputs": [],
      "source": [
        "# Assuming y_test and y_pred are your actual and predicted labels\n",
        "label_names = ['obsession', 'compulsion']\n",
        "\n",
        "# Calculate accuracy for each label\n",
        "accuracy_per_label = {label: accuracy_score(y_test[:, i], y_pred_rf_tf[:, i]) for i, label in enumerate(label_names)}\n",
        "\n",
        "# Print accuracy for each label\n",
        "for label, acc in accuracy_per_label.items():\n",
        "    print(f'Accuracy for {label}: {acc}')"
      ]
    },
    {
      "cell_type": "markdown",
      "metadata": {
        "id": "QZpwcLOD7cEp"
      },
      "source": [
        "## BOW using labeled data and manual label"
      ]
    },
    {
      "cell_type": "code",
      "execution_count": null,
      "metadata": {
        "id": "9l7ejUBmUHB8"
      },
      "outputs": [],
      "source": [
        "#Data with negative sample (without annotation)\n",
        "df = pd.read_csv('/content/drive/MyDrive/post classification/processed_data/posts-ontology-manual-label.csv')"
      ]
    },
    {
      "cell_type": "code",
      "execution_count": null,
      "metadata": {
        "id": "pzENEGWfVwMl"
      },
      "outputs": [],
      "source": [
        "df.head()"
      ]
    },
    {
      "cell_type": "code",
      "execution_count": null,
      "metadata": {
        "id": "dc22OIAvgKU2"
      },
      "outputs": [],
      "source": [
        "df['post'] = df['post'].astype(str)\n",
        "df = clean_text(df)\n",
        "df['post'] = df['post'].apply(process_text)\n",
        "#process_df['clean_text'] = process_df['clean_text'].apply(process_text)\n",
        "df.head()"
      ]
    },
    {
      "cell_type": "markdown",
      "metadata": {
        "id": "3HolmsCkamvR"
      },
      "source": [
        "### BOW and LogisticRegression"
      ]
    },
    {
      "cell_type": "code",
      "execution_count": null,
      "metadata": {
        "id": "IKWwTWf_UHkL"
      },
      "outputs": [],
      "source": [
        "# Creating features using Bag of Word\n",
        "text_data = df['post'].astype(str)\n",
        "\n",
        "# Convert text to vectors using CountVectorizer\n",
        "count_vect = CountVectorizer()\n",
        "X = count_vect.fit_transform(text_data)\n",
        "\n",
        "# Assuming 'compulsion' and 'obsession' are the target labels\n",
        "Y = np.asarray(df[['compulsion', 'obsession']])"
      ]
    },
    {
      "cell_type": "code",
      "execution_count": null,
      "metadata": {
        "id": "xxtWBX7zmEKR"
      },
      "outputs": [],
      "source": [
        "#devide the data into train and test\n",
        "# Get the shape (size) of the DTM\n",
        "num_documents, num_tokens = X.shape\n",
        "\n",
        "# Print the number of documents and tokens\n",
        "print(\"Number of documents:\", num_documents)\n",
        "print(\"Number of unique tokens:\", num_tokens)\n",
        "print(X.shape)\n",
        "print(Y.shape)\n"
      ]
    },
    {
      "cell_type": "code",
      "execution_count": null,
      "metadata": {
        "id": "La7Z3954mHMu"
      },
      "outputs": [],
      "source": [
        "X_train, X_test, y_train, y_test = train_test_split(X, Y, test_size=0.2, random_state=0)"
      ]
    },
    {
      "cell_type": "code",
      "execution_count": null,
      "metadata": {
        "id": "AvzfmXdsmmYp"
      },
      "outputs": [],
      "source": [
        "print(X_train.shape)\n",
        "print(X_test.shape)\n",
        "print(y_train.shape)"
      ]
    },
    {
      "cell_type": "code",
      "execution_count": null,
      "metadata": {
        "id": "fu1JlerP1NPe"
      },
      "outputs": [],
      "source": [
        "from sklearn.impute import SimpleImputer\n",
        "from sklearn.linear_model import LogisticRegression\n",
        "from sklearn.multioutput import MultiOutputClassifier\n",
        "from sklearn.metrics import classification_report\n",
        "\n",
        "# Assuming X and Y are your features and labels\n",
        "# Split the data into training and testing sets\n",
        "X_train, X_test, y_train, y_test = train_test_split(X, Y, test_size=0.2, random_state=0)\n",
        "\n",
        "# Handle NaN values in features using SimpleImputer\n",
        "imputer_features = SimpleImputer(strategy='mean')\n",
        "X_train_imputed = imputer_features.fit_transform(X_train)\n",
        "X_test_imputed = imputer_features.transform(X_test)\n",
        "\n",
        "# Handle NaN values in labels using SimpleImputer\n",
        "imputer_labels = SimpleImputer(strategy='most_frequent')\n",
        "y_train_imputed = imputer_labels.fit_transform(y_train)\n",
        "y_test_imputed = imputer_labels.transform(y_test)\n",
        "\n",
        "# Initialize the logistic regression model\n",
        "clf_LR = MultiOutputClassifier(LogisticRegression())\n",
        "\n",
        "# Fit the model to the training data\n",
        "clf_LR.fit(X_train_imputed, y_train_imputed)\n",
        "\n",
        "# Make predictions on the test set\n",
        "predictions = clf_LR.predict(X_test_imputed)\n",
        "\n",
        "# Evaluate the model\n",
        "print(classification_report(y_test_imputed, predictions))\n"
      ]
    }
  ],
  "metadata": {
    "colab": {
      "collapsed_sections": [
        "_Y6j9f5NYsIV",
        "_R_yP1UeDqoD",
        "wuZwTLKgXWhE",
        "CFA6HV7VIGKV",
        "NfrqJY1sItQN",
        "T6mHO6BpKZpQ",
        "rz4RFhv9AzpL",
        "QZpwcLOD7cEp"
      ],
      "provenance": []
    },
    "kernelspec": {
      "display_name": "Python 3",
      "name": "python3"
    },
    "language_info": {
      "name": "python"
    }
  },
  "nbformat": 4,
  "nbformat_minor": 0
}