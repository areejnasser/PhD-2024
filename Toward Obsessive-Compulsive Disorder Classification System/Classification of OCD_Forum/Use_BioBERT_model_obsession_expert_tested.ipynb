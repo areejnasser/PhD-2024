{
  "cells": [
    {
      "cell_type": "markdown",
      "metadata": {
        "id": "Zga7l0Y9-T0H"
      },
      "source": [
        "## Demo - use obsession model to predict text"
      ]
    },
    {
      "cell_type": "code",
      "execution_count": 1,
      "metadata": {
        "colab": {
          "base_uri": "https://localhost:8080/"
        },
        "id": "an67Z317N-Pu",
        "outputId": "eae73786-8d67-4727-b4a3-cc568fcd0e54"
      },
      "outputs": [
        {
          "name": "stdout",
          "output_type": "stream",
          "text": [
            "Mounted at /content/drive\n"
          ]
        }
      ],
      "source": [
        "from google.colab import drive\n",
        "drive.mount('/content/drive')"
      ]
    },
    {
      "cell_type": "code",
      "execution_count": 1,
      "metadata": {
        "id": "LUpRTR6KdFjV"
      },
      "outputs": [
        {
          "name": "stderr",
          "output_type": "stream",
          "text": [
            "/usr/local/lib/python3.8/site-packages/tqdm/auto.py:21: TqdmWarning: IProgress not found. Please update jupyter and ipywidgets. See https://ipywidgets.readthedocs.io/en/stable/user_install.html\n",
            "  from .autonotebook import tqdm as notebook_tqdm\n"
          ]
        }
      ],
      "source": [
        "import torch\n",
        "from transformers import AutoTokenizer, AutoModel\n",
        "from torch.utils.data import TensorDataset, DataLoader, SequentialSampler\n",
        "import numpy as np"
      ]
    },
    {
      "cell_type": "code",
      "execution_count": 2,
      "metadata": {
        "id": "7tEy14ZDdYRw"
      },
      "outputs": [
        {
          "name": "stdout",
          "output_type": "stream",
          "text": [
            "You can not run the model with cpu, use gpu to use cuda\n"
          ]
        }
      ],
      "source": [
        "device = torch.device(\"cuda:0\" if torch.cuda.is_available() else \"cpu\")\n",
        "\n",
        "if torch.cuda.is_available():\n",
        "  #######loading the model from the drive ################################################\n",
        "  model = torch.load('/content/drive/MyDrive/OCD/model/BioBERT_model_obsession_expert.h5', map_location=torch.device('cuda'))\n",
        "else:\n",
        "  print('You can not run the model with cpu, use gpu to use cuda')"
      ]
    },
    {
      "cell_type": "code",
      "execution_count": 7,
      "metadata": {
        "id": "rkgXSLHNdNhP"
      },
      "outputs": [],
      "source": [
        "def predict_obsession():\n",
        "  tokenizer = AutoTokenizer.from_pretrained('dmis-lab/biobert-base-cased-v1.1')\n",
        "  max_len = 128\n",
        "  test_input_ids = []\n",
        "  test_attention_masks = []\n",
        "  for post in test_posts:\n",
        "      encoded_dict = tokenizer.encode_plus(\n",
        "                          post,\n",
        "                          add_special_tokens = True,\n",
        "                          truncation = True,\n",
        "                          max_length = max_len,\n",
        "                          pad_to_max_length = True,\n",
        "                          return_attention_mask = True,\n",
        "                          return_tensors = 'pt',\n",
        "                    )\n",
        "      test_input_ids.append(encoded_dict['input_ids'])\n",
        "      test_attention_masks.append(encoded_dict['attention_mask'])\n",
        "  test_input_ids = torch.cat(test_input_ids, dim=0)\n",
        "  test_attention_masks = torch.cat(test_attention_masks, dim=0)\n",
        "  ###############preparing the data in dataloader###################################################\n",
        "  batch_size = 16\n",
        "  test_dataset = TensorDataset(test_input_ids, test_attention_masks)\n",
        "  test_dataloader = DataLoader(\n",
        "              test_dataset,  #test data\n",
        "              sampler = SequentialSampler(test_dataset), #if batches, pull out batches sequentially.\n",
        "              batch_size = batch_size # Evaluate with this batch size.\n",
        "          )\n",
        "  ############ use the model for classification ###################################################\n",
        "  predictions = []\n",
        "  for batch in test_dataloader:\n",
        "          b_input_ids = batch[0].to(device)\n",
        "          b_input_mask = batch[1].to(device)\n",
        "          with torch.no_grad():\n",
        "              output= model(b_input_ids,\n",
        "                                    token_type_ids=None,\n",
        "                                    attention_mask=b_input_mask)\n",
        "              logits = output.logits\n",
        "              logits = logits.detach().cpu().numpy()\n",
        "              pred_flat = np.argmax(logits, axis=1).flatten()\n",
        "\n",
        "              predictions.extend(list(pred_flat))\n",
        "  ################################# displaying predicted value ################################\n",
        "  df_pred = pd.DataFrame()\n",
        "  df_pred['Input Text'] = df_temp['post']\n",
        "  df_pred['BioBERT obsession model prediction'] = predictions\n",
        "  return df_pred"
      ]
    },
    {
      "cell_type": "code",
      "execution_count": 8,
      "metadata": {
        "colab": {
          "base_uri": "https://localhost:8080/",
          "height": 144
        },
        "id": "45cIefheiBRx",
        "outputId": "11368c73-ba4a-45b9-de9d-7da5d473f46e"
      },
      "outputs": [
        {
          "name": "stderr",
          "output_type": "stream",
          "text": [
            "/usr/local/lib/python3.8/site-packages/transformers/tokenization_utils_base.py:2393: FutureWarning: The `pad_to_max_length` argument is deprecated and will be removed in a future version, use `padding=True` or `padding='longest'` to pad to the longest sequence in the batch, or use `padding='max_length'` to pad to a max length. In this case, you can give a specific length with `max_length` (e.g. `max_length=45`) or leave max_length to None to pad to the maximal input size of the model (e.g. 512 for Bert).\n",
            "  warnings.warn(\n"
          ]
        },
        {
          "ename": "NameError",
          "evalue": "name 'model' is not defined",
          "output_type": "error",
          "traceback": [
            "\u001b[0;31m---------------------------------------------------------------------------\u001b[0m",
            "\u001b[0;31mNameError\u001b[0m                                 Traceback (most recent call last)",
            "Cell \u001b[0;32mIn[8], line 11\u001b[0m\n\u001b[1;32m      9\u001b[0m df_temp \u001b[38;5;241m=\u001b[39m df_temp[:\u001b[38;5;241m5\u001b[39m] \u001b[38;5;66;03m#you can adjust the input any size by changing 2, or provide all by omiting [:2]\u001b[39;00m\n\u001b[1;32m     10\u001b[0m test_posts \u001b[38;5;241m=\u001b[39m df_temp[\u001b[38;5;124m'\u001b[39m\u001b[38;5;124mpost\u001b[39m\u001b[38;5;124m'\u001b[39m]\u001b[38;5;241m.\u001b[39mvalues\n\u001b[0;32m---> 11\u001b[0m result \u001b[38;5;241m=\u001b[39m \u001b[43mpredict_obsession\u001b[49m\u001b[43m(\u001b[49m\u001b[43m)\u001b[49m\n\u001b[1;32m     12\u001b[0m result\n",
            "Cell \u001b[0;32mIn[7], line 34\u001b[0m, in \u001b[0;36mpredict_obsession\u001b[0;34m()\u001b[0m\n\u001b[1;32m     32\u001b[0m b_input_mask \u001b[38;5;241m=\u001b[39m batch[\u001b[38;5;241m1\u001b[39m]\u001b[38;5;241m.\u001b[39mto(device)\n\u001b[1;32m     33\u001b[0m \u001b[38;5;28;01mwith\u001b[39;00m torch\u001b[38;5;241m.\u001b[39mno_grad():\n\u001b[0;32m---> 34\u001b[0m     output\u001b[38;5;241m=\u001b[39m \u001b[43mmodel\u001b[49m(b_input_ids,\n\u001b[1;32m     35\u001b[0m                           token_type_ids\u001b[38;5;241m=\u001b[39m\u001b[38;5;28;01mNone\u001b[39;00m,\n\u001b[1;32m     36\u001b[0m                           attention_mask\u001b[38;5;241m=\u001b[39mb_input_mask)\n\u001b[1;32m     37\u001b[0m     logits \u001b[38;5;241m=\u001b[39m output\u001b[38;5;241m.\u001b[39mlogits\n\u001b[1;32m     38\u001b[0m     logits \u001b[38;5;241m=\u001b[39m logits\u001b[38;5;241m.\u001b[39mdetach()\u001b[38;5;241m.\u001b[39mcpu()\u001b[38;5;241m.\u001b[39mnumpy()\n",
            "\u001b[0;31mNameError\u001b[0m: name 'model' is not defined"
          ]
        }
      ],
      "source": [
        "######### Use model for prediction ################################################################\n",
        "import pandas as pd\n",
        "######### replace your input text path ############################################################\n",
        "inputextpath = '/Users/areejnasser/Desktop/ontology-based classification/PhD-2024/Toward Obsessive-Compulsive Disorder Classification System/Classification of OCD_Forum/data/ontology_labeled_data_all_after_Embedding.csv'\n",
        "\n",
        "df_pred = pd.read_csv(inputextpath)\n",
        "#df_pred['post'] = df_pred['post'].apply(lambda x:clean_text(x))\n",
        "df_temp = df_pred.dropna()\n",
        "df_temp = df_temp[:5] #you can adjust the input any size by changing 2, or provide all by omiting [:2]\n",
        "test_posts = df_temp['post'].values\n",
        "result = predict_obsession()\n",
        "result"
      ]
    },
    {
      "cell_type": "code",
      "execution_count": null,
      "metadata": {
        "id": "sgQR4eLUdXGS"
      },
      "outputs": [],
      "source": []
    }
  ],
  "metadata": {
    "accelerator": "GPU",
    "colab": {
      "gpuType": "T4",
      "provenance": []
    },
    "kernelspec": {
      "display_name": "Python 3",
      "name": "python3"
    },
    "language_info": {
      "codemirror_mode": {
        "name": "ipython",
        "version": 3
      },
      "file_extension": ".py",
      "mimetype": "text/x-python",
      "name": "python",
      "nbconvert_exporter": "python",
      "pygments_lexer": "ipython3",
      "version": "3.8.18"
    }
  },
  "nbformat": 4,
  "nbformat_minor": 0
}
