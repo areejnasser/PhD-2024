[![Open In Colab](https://colab.research.google.com/assets/colab-badge.svg)](https://colab.research.google.com/github/areejnasser/PhD-2024/blob/main/Toward%20Obsessive-Compulsive%20Disorder%20Classification%20System/Classifiation%20of%20OCD/Use_BioBERT_model_obsession_expert_tested.ipynb)

{
  "cells": [
    {
      "cell_type": "markdown",
      "metadata": {
        "id": "Zga7l0Y9-T0H"
      },
      "source": [
        "## Demo - use obsession model to predict text"
      ]
    },
    {
      "cell_type": "code",
      "execution_count": 1,
      "metadata": {
        "colab": {
          "base_uri": "https://localhost:8080/"
        },
        "id": "an67Z317N-Pu",
        "outputId": "eae73786-8d67-4727-b4a3-cc568fcd0e54"
      },
      "outputs": [
        {
          "output_type": "stream",
          "name": "stdout",
          "text": [
            "Mounted at /content/drive\n"
          ]
        }
      ],
      "source": [
        "from google.colab import drive\n",
        "drive.mount('/content/drive')"
      ]
    },
    {
      "cell_type": "code",
      "source": [
        "import torch\n",
        "from transformers import AutoTokenizer, AutoModel\n",
        "from torch.utils.data import TensorDataset, DataLoader, SequentialSampler\n",
        "import numpy as np"
      ],
      "metadata": {
        "id": "LUpRTR6KdFjV"
      },
      "execution_count": 26,
      "outputs": []
    },
    {
      "cell_type": "code",
      "source": [
        "device = torch.device(\"cuda:0\" if torch.cuda.is_available() else \"cpu\")\n",
        "\n",
        "if torch.cuda.is_available():\n",
        "  #######loading the model from the drive ################################################\n",
        "  model = torch.load('/content/drive/MyDrive/OCD/model/BioBERT_model_obsession_expert.h5', map_location=torch.device('cuda'))\n",
        "else:\n",
        "  print('You can not run the model with cpu, use gpu to use cuda')"
      ],
      "metadata": {
        "id": "7tEy14ZDdYRw"
      },
      "execution_count": 30,
      "outputs": []
    },
    {
      "cell_type": "code",
      "source": [
        "def predict_obsession():\n",
        "  tokenizer = AutoTokenizer.from_pretrained('dmis-lab/biobert-base-cased-v1.1')\n",
        "  max_len = 128\n",
        "  test_input_ids = []\n",
        "  test_attention_masks = []\n",
        "  for post in test_posts:\n",
        "      encoded_dict = tokenizer.encode_plus(\n",
        "                          post,\n",
        "                          add_special_tokens = True,\n",
        "                          truncation = True,\n",
        "                          max_length = max_len,\n",
        "                          pad_to_max_length = True,\n",
        "                          return_attention_mask = True,\n",
        "                          return_tensors = 'pt',\n",
        "                    )\n",
        "      test_input_ids.append(encoded_dict['input_ids'])\n",
        "      test_attention_masks.append(encoded_dict['attention_mask'])\n",
        "  test_input_ids = torch.cat(test_input_ids, dim=0)\n",
        "  test_attention_masks = torch.cat(test_attention_masks, dim=0)\n",
        "  ###############preparing the data in dataloader###################################################\n",
        "  batch_size = 16\n",
        "  test_dataset = TensorDataset(test_input_ids, test_attention_masks)\n",
        "  test_dataloader = DataLoader(\n",
        "              test_dataset,  #test data\n",
        "              sampler = SequentialSampler(test_dataset), #if batches, pull out batches sequentially.\n",
        "              batch_size = batch_size # Evaluate with this batch size.\n",
        "          )\n",
        "  ############ use the model for classification ###################################################\n",
        "  predictions = []\n",
        "  for batch in test_dataloader:\n",
        "          b_input_ids = batch[0].to(device)\n",
        "          b_input_mask = batch[1].to(device)\n",
        "          with torch.no_grad():\n",
        "              output= model(b_input_ids,\n",
        "                                    token_type_ids=None,\n",
        "                                    attention_mask=b_input_mask)\n",
        "              logits = output.logits\n",
        "              logits = logits.detach().cpu().numpy()\n",
        "              pred_flat = np.argmax(logits, axis=1).flatten()\n",
        "\n",
        "              predictions.extend(list(pred_flat))\n",
        "  ################################# displaying predicted value ################################\n",
        "  df_pred = pd.DataFrame()\n",
        "  df_pred['Input Text'] = df_temp['post']\n",
        "  df_pred['BioBERT obsession model prediction'] = predictions\n",
        "  return df_pred"
      ],
      "metadata": {
        "id": "rkgXSLHNdNhP"
      },
      "execution_count": 43,
      "outputs": []
    },
    {
      "cell_type": "code",
      "source": [
        "######### Use model for prediction ################################################################\n",
        "import pandas as pd\n",
        "######### replace your input text path ############################################################\n",
        "inputextpath = '/content/drive/MyDrive/OCD/dataset/ontology_labeled_data_all_after_Embedding.csv'\n",
        "\n",
        "df_pred = pd.read_csv(inputextpath)\n",
        "#df_pred['post'] = df_pred['post'].apply(lambda x:clean_text(x))\n",
        "df_temp = df_pred.dropna()\n",
        "df_temp = df_temp[:5] #you can adjust the input any size by changing 2, or provide all by omiting [:2]\n",
        "test_posts = df_temp['post'].values\n",
        "result = predict_obsession()\n",
        "result"
      ],
      "metadata": {
        "colab": {
          "base_uri": "https://localhost:8080/",
          "height": 144
        },
        "id": "45cIefheiBRx",
        "outputId": "11368c73-ba4a-45b9-de9d-7da5d473f46e"
      },
      "execution_count": 53,
      "outputs": [
        {
          "output_type": "stream",
          "name": "stderr",
          "text": [
            "/usr/local/lib/python3.10/dist-packages/transformers/tokenization_utils_base.py:2645: FutureWarning: The `pad_to_max_length` argument is deprecated and will be removed in a future version, use `padding=True` or `padding='longest'` to pad to the longest sequence in the batch, or use `padding='max_length'` to pad to a max length. In this case, you can give a specific length with `max_length` (e.g. `max_length=45`) or leave max_length to None to pad to the maximal input size of the model (e.g. 512 for Bert).\n",
            "  warnings.warn(\n"
          ]
        },
        {
          "output_type": "execute_result",
          "data": {
            "text/plain": [
              "                                           Input Text  \\\n",
              "36  Hey!!\\nI can relate so well to how you feel- I...   \n",
              "\n",
              "    BioBERT obsession model prediction  \n",
              "36                                   1  "
            ],
            "text/html": [
              "\n",
              "  <div id=\"df-37194909-8e79-44f2-98de-9ca1906d7d09\" class=\"colab-df-container\">\n",
              "    <div>\n",
              "<style scoped>\n",
              "    .dataframe tbody tr th:only-of-type {\n",
              "        vertical-align: middle;\n",
              "    }\n",
              "\n",
              "    .dataframe tbody tr th {\n",
              "        vertical-align: top;\n",
              "    }\n",
              "\n",
              "    .dataframe thead th {\n",
              "        text-align: right;\n",
              "    }\n",
              "</style>\n",
              "<table border=\"1\" class=\"dataframe\">\n",
              "  <thead>\n",
              "    <tr style=\"text-align: right;\">\n",
              "      <th></th>\n",
              "      <th>Input Text</th>\n",
              "      <th>BioBERT obsession model prediction</th>\n",
              "    </tr>\n",
              "  </thead>\n",
              "  <tbody>\n",
              "    <tr>\n",
              "      <th>36</th>\n",
              "      <td>Hey!!\\nI can relate so well to how you feel- I...</td>\n",
              "      <td>1</td>\n",
              "    </tr>\n",
              "  </tbody>\n",
              "</table>\n",
              "</div>\n",
              "    <div class=\"colab-df-buttons\">\n",
              "\n",
              "  <div class=\"colab-df-container\">\n",
              "    <button class=\"colab-df-convert\" onclick=\"convertToInteractive('df-37194909-8e79-44f2-98de-9ca1906d7d09')\"\n",
              "            title=\"Convert this dataframe to an interactive table.\"\n",
              "            style=\"display:none;\">\n",
              "\n",
              "  <svg xmlns=\"http://www.w3.org/2000/svg\" height=\"24px\" viewBox=\"0 -960 960 960\">\n",
              "    <path d=\"M120-120v-720h720v720H120Zm60-500h600v-160H180v160Zm220 220h160v-160H400v160Zm0 220h160v-160H400v160ZM180-400h160v-160H180v160Zm440 0h160v-160H620v160ZM180-180h160v-160H180v160Zm440 0h160v-160H620v160Z\"/>\n",
              "  </svg>\n",
              "    </button>\n",
              "\n",
              "  <style>\n",
              "    .colab-df-container {\n",
              "      display:flex;\n",
              "      gap: 12px;\n",
              "    }\n",
              "\n",
              "    .colab-df-convert {\n",
              "      background-color: #E8F0FE;\n",
              "      border: none;\n",
              "      border-radius: 50%;\n",
              "      cursor: pointer;\n",
              "      display: none;\n",
              "      fill: #1967D2;\n",
              "      height: 32px;\n",
              "      padding: 0 0 0 0;\n",
              "      width: 32px;\n",
              "    }\n",
              "\n",
              "    .colab-df-convert:hover {\n",
              "      background-color: #E2EBFA;\n",
              "      box-shadow: 0px 1px 2px rgba(60, 64, 67, 0.3), 0px 1px 3px 1px rgba(60, 64, 67, 0.15);\n",
              "      fill: #174EA6;\n",
              "    }\n",
              "\n",
              "    .colab-df-buttons div {\n",
              "      margin-bottom: 4px;\n",
              "    }\n",
              "\n",
              "    [theme=dark] .colab-df-convert {\n",
              "      background-color: #3B4455;\n",
              "      fill: #D2E3FC;\n",
              "    }\n",
              "\n",
              "    [theme=dark] .colab-df-convert:hover {\n",
              "      background-color: #434B5C;\n",
              "      box-shadow: 0px 1px 3px 1px rgba(0, 0, 0, 0.15);\n",
              "      filter: drop-shadow(0px 1px 2px rgba(0, 0, 0, 0.3));\n",
              "      fill: #FFFFFF;\n",
              "    }\n",
              "  </style>\n",
              "\n",
              "    <script>\n",
              "      const buttonEl =\n",
              "        document.querySelector('#df-37194909-8e79-44f2-98de-9ca1906d7d09 button.colab-df-convert');\n",
              "      buttonEl.style.display =\n",
              "        google.colab.kernel.accessAllowed ? 'block' : 'none';\n",
              "\n",
              "      async function convertToInteractive(key) {\n",
              "        const element = document.querySelector('#df-37194909-8e79-44f2-98de-9ca1906d7d09');\n",
              "        const dataTable =\n",
              "          await google.colab.kernel.invokeFunction('convertToInteractive',\n",
              "                                                    [key], {});\n",
              "        if (!dataTable) return;\n",
              "\n",
              "        const docLinkHtml = 'Like what you see? Visit the ' +\n",
              "          '<a target=\"_blank\" href=https://colab.research.google.com/notebooks/data_table.ipynb>data table notebook</a>'\n",
              "          + ' to learn more about interactive tables.';\n",
              "        element.innerHTML = '';\n",
              "        dataTable['output_type'] = 'display_data';\n",
              "        await google.colab.output.renderOutput(dataTable, element);\n",
              "        const docLink = document.createElement('div');\n",
              "        docLink.innerHTML = docLinkHtml;\n",
              "        element.appendChild(docLink);\n",
              "      }\n",
              "    </script>\n",
              "  </div>\n",
              "\n",
              "\n",
              "  <div id=\"id_27b35773-c08b-43b5-925d-dce20df7aa10\">\n",
              "    <style>\n",
              "      .colab-df-generate {\n",
              "        background-color: #E8F0FE;\n",
              "        border: none;\n",
              "        border-radius: 50%;\n",
              "        cursor: pointer;\n",
              "        display: none;\n",
              "        fill: #1967D2;\n",
              "        height: 32px;\n",
              "        padding: 0 0 0 0;\n",
              "        width: 32px;\n",
              "      }\n",
              "\n",
              "      .colab-df-generate:hover {\n",
              "        background-color: #E2EBFA;\n",
              "        box-shadow: 0px 1px 2px rgba(60, 64, 67, 0.3), 0px 1px 3px 1px rgba(60, 64, 67, 0.15);\n",
              "        fill: #174EA6;\n",
              "      }\n",
              "\n",
              "      [theme=dark] .colab-df-generate {\n",
              "        background-color: #3B4455;\n",
              "        fill: #D2E3FC;\n",
              "      }\n",
              "\n",
              "      [theme=dark] .colab-df-generate:hover {\n",
              "        background-color: #434B5C;\n",
              "        box-shadow: 0px 1px 3px 1px rgba(0, 0, 0, 0.15);\n",
              "        filter: drop-shadow(0px 1px 2px rgba(0, 0, 0, 0.3));\n",
              "        fill: #FFFFFF;\n",
              "      }\n",
              "    </style>\n",
              "    <button class=\"colab-df-generate\" onclick=\"generateWithVariable('result')\"\n",
              "            title=\"Generate code using this dataframe.\"\n",
              "            style=\"display:none;\">\n",
              "\n",
              "  <svg xmlns=\"http://www.w3.org/2000/svg\" height=\"24px\"viewBox=\"0 0 24 24\"\n",
              "       width=\"24px\">\n",
              "    <path d=\"M7,19H8.4L18.45,9,17,7.55,7,17.6ZM5,21V16.75L18.45,3.32a2,2,0,0,1,2.83,0l1.4,1.43a1.91,1.91,0,0,1,.58,1.4,1.91,1.91,0,0,1-.58,1.4L9.25,21ZM18.45,9,17,7.55Zm-12,3A5.31,5.31,0,0,0,4.9,8.1,5.31,5.31,0,0,0,1,6.5,5.31,5.31,0,0,0,4.9,4.9,5.31,5.31,0,0,0,6.5,1,5.31,5.31,0,0,0,8.1,4.9,5.31,5.31,0,0,0,12,6.5,5.46,5.46,0,0,0,6.5,12Z\"/>\n",
              "  </svg>\n",
              "    </button>\n",
              "    <script>\n",
              "      (() => {\n",
              "      const buttonEl =\n",
              "        document.querySelector('#id_27b35773-c08b-43b5-925d-dce20df7aa10 button.colab-df-generate');\n",
              "      buttonEl.style.display =\n",
              "        google.colab.kernel.accessAllowed ? 'block' : 'none';\n",
              "\n",
              "      buttonEl.onclick = () => {\n",
              "        google.colab.notebook.generateWithVariable('result');\n",
              "      }\n",
              "      })();\n",
              "    </script>\n",
              "  </div>\n",
              "\n",
              "    </div>\n",
              "  </div>\n"
            ],
            "application/vnd.google.colaboratory.intrinsic+json": {
              "type": "dataframe",
              "variable_name": "result",
              "summary": "{\n  \"name\": \"result\",\n  \"rows\": 1,\n  \"fields\": [\n    {\n      \"column\": \"Input Text\",\n      \"properties\": {\n        \"dtype\": \"string\",\n        \"num_unique_values\": 1,\n        \"samples\": [\n          \"Hey!!\\nI can relate so well to how you feel- I have the same thing with photos of my boyfriend and I try to think good stuff instead- Its interesting and reassuring that you seem to be going through the same processes as me as well as worrying if its real or if you are just running away from the truth cos I am going to see someone about my anxieties (mainly around my relationship) and i hope that its not real and its OCD cos i really don't think anything would make sense if it wasn't. (plus I have had major anxiety issues over my sexuality in the past- completely obsessing and checking all the time).\\nAnd its your relationship anxieties that led to a diagnosis of OCD? Have i got that right? Would you mind expanding on that a little if its not going to cause you too much upset? I know everyones different but it would be useful to know before I go see the Doc. I know I get really bad anxieties when watching love- themed films and from the same sort of songs etc- the most random and insignificant things to do with relationships set my anxieties off!!\\nI can really relate to the ME side of things- my Dad is a sufferer of 10 years and its an evil condition that has sucked a lot out of a once very able and active man- what makes it worse is that i guess like OCD, so few people truly understand it. Some think he's making it up despite him losing his job etc cos he is too ill to work.\\nThe last thing you should be doing is apologising- OCD itself is more than enough for anyone to have to bear and they should never apologise for themselves- you have that and ME!!\\nTake care\\nBumble x\"\n        ],\n        \"semantic_type\": \"\",\n        \"description\": \"\"\n      }\n    },\n    {\n      \"column\": \"BioBERT obsession model prediction\",\n      \"properties\": {\n        \"dtype\": \"number\",\n        \"std\": null,\n        \"min\": 1,\n        \"max\": 1,\n        \"num_unique_values\": 1,\n        \"samples\": [\n          1\n        ],\n        \"semantic_type\": \"\",\n        \"description\": \"\"\n      }\n    }\n  ]\n}"
            }
          },
          "metadata": {},
          "execution_count": 53
        }
      ]
    },
    {
      "cell_type": "code",
      "source": [],
      "metadata": {
        "id": "sgQR4eLUdXGS"
      },
      "execution_count": null,
      "outputs": []
    }
  ],
  "metadata": {
    "accelerator": "GPU",
    "colab": {
      "gpuType": "T4",
      "provenance": []
    },
    "kernelspec": {
      "display_name": "Python 3",
      "name": "python3"
    },
    "language_info": {
      "codemirror_mode": {
        "name": "ipython",
        "version": 3
      },
      "file_extension": ".py",
      "mimetype": "text/x-python",
      "name": "python",
      "nbconvert_exporter": "python",
      "pygments_lexer": "ipython3",
      "version": "3.8.18"
    }
  },
  "nbformat": 4,
  "nbformat_minor": 0
}
